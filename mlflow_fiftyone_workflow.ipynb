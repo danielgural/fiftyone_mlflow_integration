{
 "cells": [
  {
   "cell_type": "markdown",
   "metadata": {},
   "source": [
    "# <span style=\"color: #ff6D04; font-weight: bold;font-size: 75px;\">MLflow + FiftyOne Workflow</span>\n"
   ]
  },
  {
   "cell_type": "markdown",
   "metadata": {},
   "source": [
    "# <span style=\"color: #212529; font-weight: bold;font-size: 55px;\">A Guided Walkthrough</span>\n"
   ]
  },
  {
   "cell_type": "markdown",
   "metadata": {},
   "source": [
    "## <span style=\"color: #A6a7a9; font-weight: 500;font-size: 30px;\">Installing Requirements</span>"
   ]
  },
  {
   "cell_type": "markdown",
   "metadata": {
    "jp-MarkdownHeadingCollapsed": true
   },
   "source": [
    "<span style=\"color: #212529; font-weight: 500;font-size: 20px;\">First install the required python libraries below</span>"
   ]
  },
  {
   "cell_type": "code",
   "execution_count": null,
   "metadata": {},
   "outputs": [],
   "source": [
    "!pip install mlflow fiftyone torch torchvision"
   ]
  },
  {
   "cell_type": "markdown",
   "metadata": {
    "jp-MarkdownHeadingCollapsed": true
   },
   "source": [
    "<span style=\"color: #212529; font-weight: 500;font-size: 20px;\">Next we will install the fiftyone-mlflow-plugin that will allow us to view and manage our MLflow client in the FiftyOne App!</span>"
   ]
  },
  {
   "cell_type": "code",
   "execution_count": null,
   "metadata": {},
   "outputs": [],
   "source": [
    "!fiftyone plugins download https://github.com/jacobmarks/fiftyone_mlflow_plugin"
   ]
  },
  {
   "cell_type": "markdown",
   "metadata": {},
   "source": [
    "## <span style=\"color: #A6a7a9; font-weight: 500;font-size: 30px;\">Prepping for Training</span>"
   ]
  },
  {
   "cell_type": "markdown",
   "metadata": {},
   "source": [
    "<span style=\"color: #212529; font-weight: 500;font-size: 20px;\">Let's kick things off by loading in all of our required libraries. While we are at it, we will start our MLflow client and specifying our `tracking_uri`</span>"
   ]
  },
  {
   "cell_type": "code",
   "execution_count": 1,
   "metadata": {},
   "outputs": [],
   "source": [
    "import json\n",
    "from bson import json_util\n",
    "import sys\n",
    "import os\n",
    "\n",
    "\n",
    "import mlflow\n",
    "from mlflow import MlflowClient\n",
    "client = MlflowClient(tracking_uri=\"http://127.0.0.1:5000\")\n",
    "mlflow.set_tracking_uri(\"http://127.0.0.1:5000\")\n",
    "\n",
    "import fiftyone as fo\n",
    "import fiftyone.zoo as foz\n",
    "import fiftyone.operators as foo\n",
    "import fiftyone.plugins as fop\n",
    "import fiftyone.brain as fob\n",
    "import fiftyone.utils.random as four\n",
    "\n",
    "from fiftyone import ViewField as F\n"
   ]
  },
  {
   "cell_type": "code",
   "execution_count": 2,
   "metadata": {},
   "outputs": [],
   "source": [
    "package_directory = os.path.dirname(fop.find_plugin(\"@jacobmarks/mlflow_tracking\"))\n",
    "if package_directory not in sys.path:\n",
    "    sys.path.append(package_directory)\n",
    "from fiftyone_mlflow_plugin import log_mlflow_run_to_fiftyone_dataset"
   ]
  },
  {
   "cell_type": "markdown",
   "metadata": {},
   "source": [
    "<span style=\"color: #212529; font-weight: 500;font-size: 20px;\">For our example workflow, I will be using a subset of the <a href=\"https://github.com/VisDrone/VisDrone-Dataset?tab=readme-ov-file\">VisDrone</a> dataset, a state of the art drone imagery dataset from  Lab of Machine Learning and Data Mining, Tianjin University, China. It features a wide range of locations, time of day, objects, and angles. The subset we will be using can be downloaded on <a href=\"https://drive.google.com/file/d/1a2oHjcEcwXP8oUF95qiwrqzACb2YlUhn/view\">Google Drive</a>. Once the file is downloaded and unzipped, we can load it in by following our ingestor below!</span>"
   ]
  },
  {
   "cell_type": "code",
   "execution_count": 3,
   "metadata": {},
   "outputs": [
    {
     "name": "stdout",
     "output_type": "stream",
     "text": []
    },
    {
     "name": "stdout",
     "output_type": "stream",
     "text": [
      " 100% |███████████████| 6471/6471 [452.5ms elapsed, 0s remaining, 14.3K samples/s]      \n",
      "Computing metadata...\n",
      " 100% |███████████████| 6471/6471 [1.0s elapsed, 0s remaining, 6.4K samples/s]         \n"
     ]
    }
   ],
   "source": [
    "import os\n",
    "import pandas as pd\n",
    "\n",
    "dataset_dir=\"./VisDrone-train/VisDrone2019-DET-train/images\"\n",
    "name = \"VisDrone\"\n",
    "\n",
    "# Create the dataset by loading in the directory of images\n",
    "dataset = fo.Dataset.from_dir(\n",
    "    dataset_dir=dataset_dir,\n",
    "    dataset_type=fo.types.ImageDirectory,\n",
    "    name=name,\n",
    "    overwrite=True\n",
    ")\n",
    "\n",
    "# We compute the metadata of the dataset to get height and width of all our samples\n",
    "dataset.compute_metadata()"
   ]
  },
  {
   "cell_type": "markdown",
   "metadata": {},
   "source": [
    "<span style=\"color: #212529; font-weight: 500;font-size: 20px;\">VisDrone features 12 different classes which we will create a dictionary for. The annotations are stored as <x, y, w, h, confidence, label, truncation, occlusion> in txt files. Since it is a custom format, we ingest it by looping through our datasets and grabbing each sample. Next we open up the text file and add the detections and all their metadata on a sample by sample basis</span>"
   ]
  },
  {
   "cell_type": "code",
   "execution_count": 4,
   "metadata": {},
   "outputs": [],
   "source": [
    "class_map = {0:\"ignore_regions\",\n",
    "             1:\"pedestrians\",\n",
    "             2:\"people\",\n",
    "             3:\"bicycle\",\n",
    "             4:\"car\",\n",
    "             5:\"van\",\n",
    "             6:\"truck\",\n",
    "             7:\"tricycle\",\n",
    "             8:\"awning_tricycle\",\n",
    "             9:\"bus\",\n",
    "             10:\"motor\",\n",
    "             11:\"others\",\n",
    "}\n",
    "\n",
    "ann_dir = \"./VisDrone-train/VisDrone2019-DET-train/annotations/\"\n",
    "\n",
    "for sample in dataset:\n",
    "\n",
    "    # Grab the annotation file\n",
    "    filename = os.path.basename(sample.filepath)\n",
    "    ann = ann_dir + os.path.splitext(filename)[0] + \".txt\"\n",
    "    if os.path.exists(ann):\n",
    "        with open(ann, 'r') as file:\n",
    "            detections = []\n",
    "            for line in file:\n",
    "                split_line = line.strip().split(\",\")\n",
    "                ann_list = [int(x) for x in split_line[:8]]\n",
    "\n",
    "                # Grab all the detection information from the line\n",
    "                label = class_map[ann_list[5]]\n",
    "                trunc = ann_list[6]\n",
    "                occ = ann_list[7]\n",
    "\n",
    "                # FiftyOne takes in normalized (x,y,w,h) bounding boxes\n",
    "                x = ann_list[0] / sample.metadata.width\n",
    "                y = ann_list[1] / sample.metadata.height\n",
    "                w = ann_list[2] / sample.metadata.width\n",
    "                h = ann_list[3] / sample.metadata.height\n",
    "                det = fo.Detection(\n",
    "                    label=label,\n",
    "                    bounding_box = [x,y,w,h],\n",
    "                    truncation=trunc,\n",
    "                    occlusion=occ\n",
    "                )\n",
    "                detections.append(det)\n",
    "\n",
    "            sample[\"ground_truth\"] = fo.Detections(detections=detections)\n",
    "            sample.save()\n",
    "\n",
    "# Set our dataset as persistent\n",
    "dataset.persistent=True"
   ]
  },
  {
   "cell_type": "markdown",
   "metadata": {},
   "source": [
    "<span style=\"color: #212529; font-weight: 500;font-size: 20px;\">After loading both our images and annotations in, we set the dataset as persistent to have it persist in the database and make sure any new changes will saved. This also allows for easy reloading on future sessions with the following: </span>"
   ]
  },
  {
   "cell_type": "code",
   "execution_count": 3,
   "metadata": {},
   "outputs": [],
   "source": [
    "dataset = fo.load_dataset(\"VisDrone\")"
   ]
  },
  {
   "cell_type": "markdown",
   "metadata": {},
   "source": [
    "<span style=\"color: #212529; font-weight: 500;font-size: 20px;\">Finally, we can launch our FiftyOne app with the line below to visualize our dataset: </span>"
   ]
  },
  {
   "cell_type": "code",
   "execution_count": 4,
   "metadata": {},
   "outputs": [
    {
     "data": {
      "text/html": [
       "\n",
       "<style>\n",
       "@import url(\"https://fonts.googleapis.com/css2?family=Palanquin&display=swap\");\n",
       "\n",
       "body, html {\n",
       "  margin: 0;\n",
       "  padding: 0;\n",
       "  width: 100%;\n",
       "}\n",
       "\n",
       "#focontainer-f6ac7e4f-e20f-41a4-afd3-732b6b16cf80 {\n",
       "  position: relative;\n",
       "  height: 800px;\n",
       "  display: block !important;\n",
       "}\n",
       "#foactivate-f6ac7e4f-e20f-41a4-afd3-732b6b16cf80 {\n",
       "  font-weight: bold;\n",
       "  cursor: pointer;\n",
       "  font-size: 24px;\n",
       "  border-radius: 3px;\n",
       "  text-align: center;\n",
       "  padding: 0.5em;\n",
       "  color: rgb(255, 255, 255);\n",
       "  font-family: \"Palanquin\", sans-serif;\n",
       "  position: absolute;\n",
       "  left: 50%;\n",
       "  top: 50%;\n",
       "  width: 160px;\n",
       "  margin-left: -80px;\n",
       "  margin-top: -23px;\n",
       "  background: hsla(210,11%,15%, 0.8);\n",
       "  border: none;\n",
       "}\n",
       "#foactivate-f6ac7e4f-e20f-41a4-afd3-732b6b16cf80:focus {\n",
       "  outline: none;\n",
       "}\n",
       "#fooverlay-f6ac7e4f-e20f-41a4-afd3-732b6b16cf80 {\n",
       "  width: 100%;\n",
       "  height: 100%;\n",
       "  background: hsla(208, 7%, 46%, 0.7);\n",
       "  position: absolute;\n",
       "  top: 0;\n",
       "  left: 0;\n",
       "  display: none;\n",
       "  cursor: pointer;\n",
       "}\n",
       "</style>\n",
       "\n",
       "<div id=\"focontainer-f6ac7e4f-e20f-41a4-afd3-732b6b16cf80\">\n",
       "   <div id=\"fooverlay-f6ac7e4f-e20f-41a4-afd3-732b6b16cf80\" style=\"display: none;\">\n",
       "      <button id=\"foactivate-f6ac7e4f-e20f-41a4-afd3-732b6b16cf80\" >Activate</button>\n",
       "   </div>\n",
       "   <img src='data:image/jpeg;base64,/9j/4AAQSkZJRgABAQAAAQABAAD/2wBDACAWGBwYFCAcGhwkIiAmMFA0MCwsMGJGSjpQdGZ6eHJmcG6AkLicgIiuim5woNqirr7EztDOfJri8uDI8LjKzsb/2wBDASIkJDAqMF40NF7GhHCExsbGxsbGxsbGxsbGxsbGxsbGxsbGxsbGxsbGxsbGxsbGxsbGxsbGxsbGxsbGxsbGxsb/wAARCAMgBEoDASIAAhEBAxEB/8QAHwAAAQUBAQEBAQEAAAAAAAAAAAECAwQFBgcICQoL/8QAtRAAAgEDAwIEAwUFBAQAAAF9AQIDAAQRBRIhMUEGE1FhByJxFDKBkaEII0KxwRVS0fAkM2JyggkKFhcYGRolJicoKSo0NTY3ODk6Q0RFRkdISUpTVFVWV1hZWmNkZWZnaGlqc3R1dnd4eXqDhIWGh4iJipKTlJWWl5iZmqKjpKWmp6ipqrKztLW2t7i5usLDxMXGx8jJytLT1NXW19jZ2uHi4+Tl5ufo6erx8vP09fb3+Pn6/8QAHwEAAwEBAQEBAQEBAQAAAAAAAAECAwQFBgcICQoL/8QAtREAAgECBAQDBAcFBAQAAQJ3AAECAxEEBSExBhJBUQdhcRMiMoEIFEKRobHBCSMzUvAVYnLRChYkNOEl8RcYGRomJygpKjU2Nzg5OkNERUZHSElKU1RVVldYWVpjZGVmZ2hpanN0dXZ3eHl6goOEhYaHiImKkpOUlZaXmJmaoqOkpaanqKmqsrO0tba3uLm6wsPExcbHyMnK0tPU1dbX2Nna4uPk5ebn6Onq8vP09fb3+Pn6/9oADAMBAAIRAxEAPwDIooooAKKKKACiiigAooooAKKKKACiiigAooooAKKKKACiiigAooooAKKKKACiiigAooooAKKKKACiiigAooooAKKKQnHSgBaKbuPtRuPtQA6im7j7Ubj7UAOopu4+1G4+1ADqKbuPtRuPtQA6im7j7Ubj7UAOopu4+1G4+1ADqKbuPtRuPtQA6im7j7Ubj7UAOopu4+1G4+1ADqKbuPtRuPtQA6im7j7Ubj7UAOopu4+1G4+1ADqKbuPtRuPtQA6im7j7Ubj7UAOopu4+1G4+1ADqKbuPtRuPtQA6im7j7Ubj7UAOopu4+1G4+1ADqKbuPtRuPtQA6im7j7Ubj7UAOopu4+1G4+1ADqKbuPtRuPtQA6im7j7Ubj7UAOopu4+1G4+1ADqKbuPtRuPtQA6im7j7Ubj7UAOopu4+1G4+1ADqKbuPtRuPtQA6im7j7Ubj7UAOopu4+1G4+1ADqKbuPtRuPtQA6im7j7Ubj7UAOopu4+1G4+1ADqKbuPtRuPtQA6im7j7Ubj7UAOopu4+1OoAKKKKACiiigAooooAKKKKACiiigAooooAKKKKACiiigAooooAKKKKACiiigAooooAKKKKACiiigAooooAKKKKACiinwqGmRTyCwBoAs2q4gdlClywX5unb/GpPKiim2lA7tz83yr+H6VKwALgDAEi8D/gNTuqupVhkHqKzjuzSWyKbQQznAHky/wB3/PXp2qpLBJCfnXj17GtGSEgY/wBYn91uo+hqNJi0R2YnQDlW4Yf40+a3xC5b/CZtFPlAErhRhQTimVZAUUUUAFFFFABRRRQAUUUUAFFFFABRRRQAUUUUAFFOVGYMVUkKMkjtQsbuGKqSFGSR2oAbRTpEeNykilWHUEYNOhglnYiKNnI5IAoAjoqSWCWAgSxshPTcMZqOgAooooAKKKKACkbrS0jdaAADPJpdo96F+7RQAbR70bR70UUAG0e9G0e9LRQAm0e9G0e9FFABtHvRtHvRRQAbR70hAxkUtB+7QAyiiigAooooAKKKKACiiigAooooAKKKKACiiigAooooAKKKKACiiigAooooAKKKKACiiigAooooAKKKKACiiigAooooAKKKKACiiigAooooAKKKKACiiigAooooAKKKKACiiigAooooAKKXBxnHHrQAT0GaAEoopQCxAAyTwAKAEoq6NOYAeZLHGx6KTzUFxbSW7ASDr0I6GgCGn0yn0AFFFA70AGD6UYPpRRQAYPpRg+hooxQAYPpRg+lGKMUAGD6UYPpRijFABg+howfSjFFABg+lGD6UUUAFFHaigAopVBZgAMk8AU9Yx+8DtsZRwD3PpQBHRTijBAxUhT0PrTaACipIYXnfYgycZ5pZLeSOISMMKTigCKiipYIWnkCJ+J9KAIqK1E063ZAfNZs91IwarXVn5Sl4nDoDg+ooAqUUVbXT52QONvIyBmgCpRViGzmmUlQAAccmo5omhkKPjI9KAI6KKKACpIP+PiP/AHh/Oo6fCwWZGPADAmgDSf7z/wDXVf8A2WrNVXJ35A3I7qQynI7dfyqw7rGu52Cj3qIq1y5NOxkz3MkxOThf7oqJSVOVJB9RU6W+F3zN5a+hHJp2fMTZCmyLjc7f1NPmvog5basdcshiYOQ0gYhSOuAe9U6fMwaZ2HILEimURjyilLmJ7KJZryKN87WbBxVqY6dFM8ZgmJRiud/pUGmf8hGD/eqbUfsfnT+X5/n+Yc7sbc5596okg2QfYtwEnnb8Dj5cVZazgg09JZ1maWQEjb0X0zQDjQMjqJ/6VLqF1P8A2bafvD+9Vt/+10oApy2TR2UVwdxLk5Xb90CqpBGMgjPSte6up/7Htm8w5kLKx9Rk1HIpvtLhdRmWFvLPuD0/pQBm7GwDtOG6cda0XtbKyCrdtJJMRkrHjC1JcuianZ2wP7uAqv45Gf6VT1Xd/aU+7ru/TtQA+7tIhbLdWjs0JO1g3VTVPa3Hynnpx1rRtONFvC33SygfXj/61S/apLXRrVododiw3EZIGT0oAyCCpwwIPoaVUZs7VJx6CtK+kNzpVtcS4Mu8qWxjI5/wq7cEWflwQ3kduFUEgpksfU0Ac/SVe1V4JLlZIHViy/PtGBuqjQBZsJFjuQr/AOrkBR/oamuI2srMwtxJK53f7q8D9aoVJNPJcOHlcswGAT6UAaMqWyX9ykgTf8vl+YTt6c5IqONGiF+hQRkRj5Qc45HeqwvbgSPJvG58bsqDnHtikS8nSV5BJl34YsAc/nQBNGWbSp/MJKq6+Xn15zj8KsSwW7ambdYQqR5Y4Y5fjOKoTXMs+PNfIXoAAAPwFI1xK1x55c+bnO4cUAWikU9usywrEVlCEKThgfr3qWWO3eW7hSAJ5KsyuGJOQapS3c8xXzHztOQAAAD9BTftEvmSPv8AmlBDnA5B60AaBhsoVjjmKDdGGZiGLZI6jHFZdTreXCRCMSfKBgZAOPoar0AFI3WlpG60AKv3atWFuLicBiu3uCwBPHaqq/dp8cjROHQ4YdDQArRMsoT5WJ/uMDn8qvGwjcxBcoWl8tgXD9s546H2rOBKkEHBHINTPeTuAC+MNvG1QOfXigC4kcNxbRRRB0VrjB3HJ6fSopjEdNHkq6r53Rmz2+lQyXk8m3dJ91twwAMH14ps11NOu2RgVznAUDn8KAJUgiezLoGeUAlgHA2/hjkVLNFFJNbqkLY8kMwDgcY9SOPrVVbmVIjErAKQR90ZwffrSi6mAQB/uAgZUHj09xQBZezhRy53GIQ+ZtVgTnOMZ/rSrZws6sNwj8nzSrOAc5xjPSqwvJvMDluVXaMAAY9MYxinS30jypInyMqbOxz+GMfhQAy7ijilAiYFSoONwbafTIqA/dp8kjSvufGfYAfyph+7QAyiiigAooooAKKKKACiiigAooooAKKKKACiiigAooooAKKKKACiiigAooooAKKKKACiiigAooooAKKKKACiiigAooooAKKKKACiiigAooooAKKKKACiiigAooooAKKKKACiiigAooooAsWjv5nlBPMR+GT196nuFFrDtt+VckNJn9KqxzNHGyJgbup70RzNGrKMFWGCD0+tAEVXdKVWu8nqFJFUqkhlaGVZE6igDYu4kwx8sPJLhBnt7+1Nv4wNOwxyUAwffpTRqUDhWYuhXkqB1qnfXxucIgKoDnnvQBTp9Mp9ABQO9FA70APiQyyBAcE+tAjJjZ8jCkD8/wD9VPtWC3KFiAAe9PEiPbuu1IzuX7ueevvQBXwfSir0soSMMH3ssgK5cMSOfypN8Mc8aKwKDLZ9Cen5cUAUunWjtmp7p92wHkjPO/cT+NSqyi2ZTJuBj4BcdfQCgCvDEJm2+YFY9AQeaaygNhWD+4Bp9qQtwhYgD1P0qS1dVjcA7XJBzv25H1oArUYPpV2KRfNdw+3LjKhwBj196QTBCoSQKPOOcHtx+lAFRV3MASFz3PSnSReWFIYMrdCKmlk8yJwzhiJflBPQc9PbpUVy++ZsEbQcKB0AoAi7UUdqKAHxqh3FpNhHTgnNatnBE9uruokZ+WZuTWQpAYEjIB5HrU8czfvSshiGMhVPGaAHXEcYmkTzdqp9xTk/hVWns4ZFG0BhnLetMoA1IEiWOP8A0aTey9Qev60qAz28StA5RWJPI56+9VbO68uYGZ2KBSo74p0l0BCvkyOr7jkdqAKswCyuApUAnAPar+n/AC2k7qPn5/lWcxLEljknqTU9pceQzAkhW6kdR70AV60tM+aGZWHyVVu2Uygr5ZyM5QYz9at3N3FHCYrfGSMEr0FAGZXQQf6iP/dH8q5+tSPUoUiRSr5AAOAP8aALFl/qW/32/nWbqX/H430H8qsxXsUClG3MSS2VwRzVO7mWe4aRQQDjrQBBRRRQAUUUUAW7RgqsRIEfI+8eCP8AOaesyNJgSZfH+sfoPoKo0VDjfctTtsixIVViZXEz+gPA/H+gqKSRpCM4AHQAYAplFWQFFFFAE9nMsF3HK4JVDk46025kEtzLIuQHcsM+5qKigC39qT+y/s2G3+Zvz2xii6uUmtLWJQwaIENnoc46VUooAvx3du9gttcxyExklGQ+vrU2hSNE87sP3KpuY+46f1rKqb7VN9mFvvIiznaO9ADJJGklaRj8zNuNX2vbS6VWvIZPNUYLxkfN9azaKALt5erLElvbx+VAhzjPJPqabNcpJp1vbgNvjJJJ6cmqlFAFuS5RtNitgG3o5Ynt3qY3trcxRi9ikMkY2h4yOR75rOooAluGhaUmBCiY4BOTUVFFABRTw+Bjap+opfM/2E/KlqOyI6Kk8z/YT8qPM/2E/Ki7CyI6Kk8z/YT8qPM/2E/Ki7CyI6Kk8z/YT8qPM/2E/Ki7CyI6Kk8z/YT8qRnyMbVH0FGoWQykbrS0jUxAvTFO/Ko/wP5UfgfyoAk/Kj8qj/A/lR+B/KgCT8qPyqP8D+VH4H8qAJPyo/Ko/wAD+VH4H8qAJPyo/Ko/wP5UfgfyoAk/KkbpTPwP5UfgfyoAKKPwP5UfgfyoAKKPwP5UfgfyoAKKPwP5UfgfyoAKKPwP5UfgfyoAKKPwP5UfgfyoAKKPwP5UfgfyoAKKPwP5UfgfyoAKKPwP5UfgfyoAKKPwP5UfgfyoAKKPwP5UfgfyoAKKPwP5UfgfyoAKKPwP5UfgfyoAKKPwP5UfgfyoAKKPwP5UfgfyoAKKPwP5UfgfyoAKKPwP5UfgfyoAKKPwP5UfgfyoAKKPwP5UfgfyoAKKPwP5UfgfyoAKKPwP5UfgfyoAKKPwP5UfgfyoAKKPwP5UfgfyoAKKPwP5UfgfyoAKKPwP5UfgfyoAKKPwP5UfgfyoAKKPwP5UfgfyoAKKPwP5UfgfyoAKKPwP5UfgfyoAKKPwP5UfgfyoAKfTPwNPoAKKKKAD8KPwoooAPwo/CiigA/Cj8KKSgBfwo/CkpaAD8KPwoooAPwo/CiigAooooAKKKKACiiigAooooAKKKKACiiigAooooAKKKKACiiigAopuTRk0AOoowe7AUf8AAx+tABRR/wADH60f8DH60AFFH/Ax+tH/AAMfrQAUUf8AAx+tH/Ax+tABRR/wMfrR/wADH60AFFH/AAMfrR/wMfrQAUUf8DH60f8AAx+tABRR/wADH60f8DH60AFFH/Ax+tH/AAMfrQAUUf8AAx+tH/Ax+tABRR/wMfrR/wADH60AFFH/AAMfrR/wMfrQAUUf8DH60f8AAx+tABRR/wADH60f8DH60AFFH/Ax+tH/AAMfrQAUUf8AAx+tH/Ax+tABRR/wMfrSHINAC0U3Jp2eM0AFFNyaMmgB1FNyaMmgB1FNyaMmgB1FNyaMmgB1FNyaMmgB1FNyaUNQAtFFFABRRRQAUUUUAFFFFABRRRQAUUUUAFFFFABRRRQAUUUUAFFFFABRRRQAUUUUAFFFFABRRRQAUUUUAFFFFABRRRQAUUUUAFFFFABRRRQAUUUUAFFFFABRRRQAUUUUAFFFFABRRRQAUUUUAFFFFABRRRQAUUUUAFFFFABRRRQAUUUUAFFFFABRRRQAUUUUAFFFFABRRRQAUUUUAFFFFABRRRQAUUUUAFFFFABRRRQAyiiigAkJ8xvqabk0sn+sb6mm0ALk0ZNJRQAuTRk0lFAC5NGTSUUALk0ZNJRQAuTRk0lFAC5NGTSUUALk0ZNJRQAuTRk0lFAC5NGTSUUALk0ZNJRQAuTRk0lFAC5NGTSUUALk0ZNJRQAuTRk0lFAC5NGTSUUALk1ITlV+lRVJ/Cv0oASl7UlL2oASrcFpHKkbNcqhckEEfdxVStOzu44ordWuJEKMxICA7c59qAKU8KxJEyyhy65IA+77VDVq7mWWK3VZGcomCCMbfYVHamNZwZcbcHkjIBxwSPrQBDRVp4neZPMAww4aFAd30AxTmshGz+ZIVRVVs7OSD7Z60AU6KtyWiKHCzbnVBJjZgFTjvnrzSSWiqHCylpEUOVK4GOOhz70AVaK0JLMSTzMAyxqwUCNNxzj0qJ7Ly0kLuSUYrhFzjHc88A0AVKKKKAHjpRQOlFAD1QsjMMYXGaZVqO5xDICsecDA2Dnmq7tvYsQBnsBgUANooooAKKKKACiiigAooooAKKKKACiiigAooooAKKKKACiiigAooooAKKKKACiiigAooooAKKKKACiiigAooooAKKKKACiiigAooooAKKKKACiiigAooooAKKKKACiiigAooooAKKKKACiiigAooooAKKKKACiiigAooooAKKKKACiiigAooooAKKKKACiiigAooooAKKKKACiiigAooooAKKKKACiiigBlFFFACSf6xvqabTpP9Y31NNoA2NNijFqrgAs2cmqWpRpHc/IAMjJA9ahiuJYc+W5UHtTGZnYsxJJ6k0AKImMBlyNoYL75IJ/pRJE0axkkfvF3DHpkj+lTQYktZIQyq+9XG5gAcAg8n61YEyxNtWRd0duV3A8bt2ePz/SgDOorSjuGLRMHVpGhw7GUIw+Y/wAR74x+FOtmSO4JFyXUy/PmQKCvHJz97v8AlQBl0VoLLELcyblEsIaNBnkg9D+GW/SnSzJ9lxHhojGBtMoGGwMnbjOc96AKEcTSLIy4xGu459Mgf1placsuYrjEyeQ0QESBxxyvGO3Q1DZPEYyszACJvNUH+L1X8ePyoAqFcKp3A57DqKbWlBOhETSOPMKyYO4AhifXtSiSOafybhgisg3OZA+SDnJI74yKAMyitC8uI5bczKVEs5AdR/CF/wAfl/Ks+gAooooAKKKKACiiigAooooAKKKKACiiigAooooAKKKKACpP4V+lR1J/Cv0oASl7UlL2oASiiigApyMEcMVVh6N0NNooAsfa24AjQIFK7BnHPXvn9aR7p3Vl2oAyhcAHgA5FQUUATm5cszYXLRiM/QAD+lSXN0GZxEqAMqqXwckADj9KqUUAWDdszOXRHVyCVOcZHfg5pI7jyixSKMMc4bnK59Of51BRQAUUUUAPXoKKZRQA+imUUAPoplFAD6KZRQA+imUUAPoplFAD6KZRQA+imUUAPoplFAD6KZRQA+imUUAPoplFAD6KZRQA+imUUAPoplFAD6KZRQA+imUUAPoplFAD6KZRQA+imUUAPoplFAD6KZRQA+imUUAPoplFAD6KZRQA+imUUAPoplFAD6KZRQA+imUUAPoplFAD6KZRQA+imUUAPoplFAD6KZRQA+imUUAPoplFAD6KZRQA+imUUAPoplFAD6KZRQA+imUUAPoplFAD6KZRQA+imUUAFFFFAAysWJAJBOeKTY390/lS0UAJsb+6fyo2N/dP5UtFACbG/un8qNjf3T+VLRQAmxv7p/KjY390/lS0UAJsb+6fyo2N/dP5UtFACbG/un8qNjf3T+VLRQAmxv7p/KjY390/lS0UAJsb+6fyo2N/dP5UtFACbG/un8qNjf3T+VLRQAmxv7p/KjY390/lS0UAJsb+6fyo2N/dP5UtFACbG/un8qNjf3T+VLRQAmxv7p/KjY390/lS0UAJsb+6fyo2N/dP5UtFACbG/un8qNjf3T+VLRQAmxv7p/KjY390/lS0UAJsb+6fypx4AHoKSigApe1JS9qAAc08IO9EY6mn0AN2L6UbF9KlijaV9q/ifSiUIr4jYsB3Pc0AQlB2ph4qamSDoaAGU8J60kY5qSgBuxfSjYvpWhawL5Y5HnONy7lyAKsTwxlv3u0K2FXC8g0AYxQdqYRg4NTupR2U9QcVHIOM0AMpypnrSIMtUtAAsDMMrGxHqAaQxhTgqQfQ1s2yHyonDnATG3tRdWy3CejjoaAMUoPpUZBBqd0aNyrDBFMcZWgCKrdtZmUB3O1T09TUECeZMinoTzWz0rCrUcdEb0aalqyuLKADlSfqTS/Y7f8A55/qauxx/IJMn74XGM03zXBwD0zjgd6w5pdWdHLHoik1jC3QFfoao3Fu0B55U9DW1J/DyfujqMVDOgkhZSOo4+tVGrKL1JnSjJaGLVi2tWn+Ynanr61Co3MFHc4raVQihVGABgVtVm4rQwo01J3ZAtjABypb6ml+x2//ADz/AFNXbcLh3YBtgyAafG5uCySKvQkEDGKwTk+p0NRXQzmsYCOFK/Q1TubVoPmB3J6+lalIyh1KsMgjBojVknqEqUZLQw6cqlqGXaxU9jipFGAK7ThECCjYvpTqt25h+zSb4yxGNx/HtQBS2L6U1kxyKkooAgqWGF5n2r+J9KjYYJFatlGEt1OOW5NZ1J8iuaUoc8rDEsIlHzZY/XFP+x2//PP9TVmNQzgHOD6DNSxwoyAkyZPoma5VKcup1uMI9CibKAj7mPxNVp7EqpaIkgdQeta8kKKhYGTI9UwKgp884vcXJCS2MOgDJwKnvUCXDYGAeajjHGa7E7q5xSVnYAg704RgnAUn6U5QCwBOATyfStP/AEexAcbjvGBjmmIySgHGKQp6Vp3ENu8DXCkgtyM+vpWfQBDQOadIOaWMdTQABB3pdi+lOooAbsX0pCg7U+igCE8UU+QdDSRjmgBQnrS7F9KdRQA3YvpSFB2p9FAEJGDg0U+QcZpqDLUAKqZ607YvpTqKAG7F9KCg+lOooAhIINJUrjK1FQAUUUUAFFFFABRRRQAUUUUAFFFFABRRS0AJRS0lABQelFB6UAFFFSQR+bKFPTvSbsrjSu7EdFag8tBtVQB9KjezSVtyNs9QBmslWXU1dF9DPoq//Z3/AE1/8d/+vR/Z3/TX/wAd/wDr0/aw7i9jPsUKKv8A9nf9Nf8Ax3/69VJomhkKN+YqozjLRMmVOUdWiOiiirICirdrj7LN+48zg/Px8vFT4G+2/wBEHQ8YHz8UAZtFS3P/AB8P8mzn7vpUVABRRRQA+iiigAooq3BbxSxhtzZ70AVKKtT28cUZbc2ewJqKK3mmUtHGzAHBIFAEVFSeRLuVfLbLEgDHUiiKGSZisSFyBnAFAEdFTmzuFdVMLhmzgY60n2WcSCPyX3kZAxyaAIaKfLFJC22VGQ+jDFMoAKKKKACiiigAooooAKKKKACiiigAooooAKKKKACiiigAooooAKKKKACiirVqkTI24ZI5NAEDRugBZSAaZV5JkuG2MnHUVVn2iVgnTNAEdI1LSNQA6M9RT6hHFPDjvQBNFI0T7l/EetEpRnzGCoPY9jUW9fWjevrQA6mSHoKC47Uw80AOjPNSVDTw/rQBrWFwjRCNiAy8DPekur14ZWjVBx0JNZe9fWjevrQA4kkknknrTJDxiguO3NMJycmgBUOGqWoacr460AX7O7MJ2Pyh/StGWZIo97Hjt71g719aUyAgAscDpQBLPMZ5S549BULnC0Fx9ajJJNAD4H8uZGPQHmtnrWFVu2vDEAjgso6Y6isKtNy1RvRqKOjNyBWe3wgJYSA4BwcYpDbP1aJ+5PI/Cs4XsBHLkfUGl+2W/wDz0/Q1jZ9Uza6vpJFl23bevAxyc1FO4jhZieg4+tQtfQKOCW+gqlcXDTtzwo6CnClKT1CdWMVoRKdrBh2Oa2lYOoZTkEZFYdWba6aD5SNyenpW1WDkrowo1FF2ZrxyNG2Vx6EHoRUq3CKcCFVVuGwTkis9b2Ajliv1FL9st/8Anp+hrnSmuh0twfUtyoqMNrBlPINRMwVSzHAAyaga9gA4Yn6CqdzdNP8AKBtT09acaUpPawpVYxW9yBm3MWPc5qRTkCoacrFa7ThJQMkAd6tq0UCmFvn38Ow7fSqQcUb19aAJZo/KfG4MDyCO4plN3r601nzwKAGsckmtWycPbrzyvBrJqWCZoH3L+I9azqQ51Y0pT5JXZtRsFcMd2B/dODU0cyKgUmbI/uvgVnJfwsPmyp9xmnfbLf8A56foa5VGceh1uUJdS/LMrxlQZcn+8+RVeoDewf38/garT325SsQIz1J60+ScnsLnhBaMivXD3LYOQOKjjPGKZQDg5FdiVlY4pO7uTqQGBIyAeR61p5t7792Nw2DIxxWQHHfinCQDo2KYjRuJoEge3VSSvAz6+tZ9N3j1pC/pQAkh5xSxnqKZQOKAJqKYHHel3r60AOopu9fWkLjtQASHoKSM80080UATUUwP60u9fWgB1FN3r60hcduaACQ8YpqHDUhOTk0UATUVGr4607evrQA6im719aC4+tAA5wtRUpJJpKACiiigAq3CiC3XLbXlYqDtzj/CqlSRzyRLhGwM56UALHCXlKHgL94+gqaRFW6CRRBgwXAbPcCofPkCqEYptGMqcE805rqVnLE5O3aPagCTELyzhYxhUO0gnGR3qGBY2kxIcDHHOMn69qSKZ4s7CBng5UH+dNR2jbcuM+4zQBYWBfNcPGwUY6yAYz796VoIohIZNzbJNgwcetQ/aJdxO7JOM5APTpSNK7hgzZ3NuPHegCeaCJRKE37omAJJ65olhiBlEYcGJhyTnPOKgMzsXLNnectx1qS4uXmdsHCFsgYA/OgCeSCNpppJDx5pXG8Lj35qJYIiHCkyOGIAVgOPUetRC4lDM27JY5OQCCaFnkQEKwGTnoM0ARUHpRQelABUkMnlyBu3eo6KTV9Bp2dy+GVhkMCKT7YsRwq7/fOKo4orP2S6mntX0L/9o/8ATL/x7/61H9o/9Mv/AB7/AOtVCij2UOwe2n3L/wDaP/TL/wAe/wDrVUmlaaQu35Co6KqMIx1SJlUlLRsKKKKsgt2uPss37/y+D8nHzcVPkb7b/Sx0POR8nFZtFAEtz/x8P8+/n73rUVFFABRRRQA+iiigAqe0YidQDwetQUoJByDg+1AE12xM5BPA6VLGIzpjeYWH73jaM87frVQkk5Jyfel3Nt27jtznGeM0AaNp97Tv+ujfzFZwBDDII5pRI67drsNnK4PT6Usk80oAlld8dNzE4oAvjH9tT5zj95nH+6ahs1jFzIAX8vyn5K4ONvPGaqiWQSeYJHEn94Mc/nTnuJ3OXmkY4I5Yng9aAJ7zaLa2WIs0QDEM3XOeR7Y/rVOnbm2bNx25zjPGabQAUUUUAFFFFABRRRQAUUUUAFFFFABRRRQAUUUUAFFFFABRRRQAUUUUAFWILgRIVK55qvRQBeZ4YBvRQS3oaqzP5khbGM1HRQAUjUtI3agBtFFTLATGr54bgfnTSuBDRTmABI3Z9wKVE3sFB5Pt0osAyirJtcf8tBn0qMxANt38+mKfKwIqKlEWSwB+739aWGDzpRGGCk924FLlYENFTS27xhSQcEZ5GKi49aGraMBKKO2aXnvxSASirCW6lyjybGzgZXg0r2pRsMW2+qrmgCtRV4WCMm5Z9w/3f/r1EbVQceaM/Si4FairK2hb+Ig/7tL9iIPLY/ClcCrRVhbUliC2Me1O+xnJG79KLgVaKtGzbs36Uv2FuzfpTAqUVc+wt/f/AEposyVJLd8dKErgVaKtixb1b8h/jQbJ+NmST6gD+tVysCpRVhrORc8cgdBz3qNomQ4cbT6EGjlY7EdFOwP7wowP7wo5WIbRTto7sKNo7sKXKwG0U7aM/eFCrnvQ1YBtFTGH92XDZx14qPGenNK4DaKdt9CKQ8cd6AEoqWGIS7sttx7U9rYK2DJjj0pXQFeirDW4H8fXpxTBEC4Xd+lFwIqKtNZ7VJMnT2pfsf8At/pRdAVKKnEC93I+q/8A16cbUBS3mcD/AGaLoCtRVj7MME7+ntTZYfLAO7Ofai4ENFTRweYxG7GPanvaFVyGz7YougK1FWxZ8H95+lN+yNj7wz6YougK1FWvsnON/wClL9iP9/8A8douBUoq01ptGTIAPpUcUHmOVD4x3xRcCGirL2u3+PP0Wk+zZUENnPtRcCvRUgjJJB4wfSgx47/pRdAR0U8ITRsGcbqLhcZRUjIFYgscD2phGDwc0wEopasWlqLnfmTZtx2zmgCtRWj/AGYv/Pf/AMc/+vR/Zij/AJeP/HP/AK9AGdRWl/Za/wDPxx/u/wD16X+ylP8Ay8f+Of8A16AMyitP+yR/z3P/AHx/9ej+yV/5+P8Axz/69AGZRWmdJX/n4/8AHP8A69KNJU/8vH/jn/16AMuitT+yF/5+P/HP/r0v9kL/AM/P/jn/ANegDKorV/sdf+fn/wAc/wDr0f2Ov/Pz/wCOf/XoAyqK1f7HX/n5/wDHP/r0f2Ov/Pz/AOOf/XoAyqK1v7GX/n5/8c/+vR/Yy/8APz/45/8AXoAyaK1v7GH/AD8/+Of/AF6P7GX/AJ+f/HP/AK9AGTRWt/Yw/wCfn/xz/wCvR/Yw/wCfn/xz/wCvQBk0Vq/2Ov8Az8/+Of8A16P7HX/n5H/fH/16AMqitX+xx/z8j/vj/wCvR/Y4/wCfn/xz/wCvQBlUVq/2OP8An5/8c/8Ar0f2OP8An4/8c/8Ar0AZVFav9jj/AJ+P/HP/AK9J/Y4/5+P/ABz/AOvQBl0VqHSAP+Xj/wAc/wDr0f2QP+fj/wAc/wDr0AZdFan9kD/n4/8AHP8A69ULmHyJ2j3btuOcY7UARUUUUAPpR1pKB1oAcetJSnrU0CxMr7kYlVLZDYz+lAEFFWIIklLk5Vei8/xHpTY412NJJnapxgdSaAIaKsRxpJI2FfAXITPJ/SoZNu87VZR6MeaAG0UUUAFFFFABRRRQAUUUUAFFFFABRRRQAUUUUAFFFFABRRRQAUUUUAFFFFABRRRQAUUUUAFBooPSgBKRqWkagBtWUQtbqVVtwOPaq1XLfaIQWGQaaAgKHAbHFTQgKccN6EHNSnaVICggDpTYpUDYwB29aWwh+0nB5zxSGMk5H4gipQOcjj6UjgsRzVuTasJLW5X8ojkDcOnakf5I8N6547Va8vOMnOOabKo8o4UE/SpKKySuiFQxUH0NMlw0jMBjPNBOARjofSnINzYbGD3oT99/MOo1GKkjZ1GDkUsaMzfdI/CrMce1Q3me2Km2hlDL25Ap8z7jbIyiNGdylvmOeenNMy0DBsmSMjt2FWI42kh8+PqOHXuD9KahVpRgYO05H4imm9mNNNCxhHXehOG9qd5Sk56mm2+NrgcYcj9alx7VJA3y1H/66Ci46A0+kNAEQAXcVTceOKkBBJA7HBqM42Plio9R1qQZyc4x2oAR22AfKTk44pcktjbxjrTZW2lfm25I7daUf6xjuPTp2FACSlgh24z71EQDGoIPbnt1p9xjyiCM0nGwAH+7x+NOO6GiUjIqKQD5UUcegFSkZUj+VMSYLN5WOo+9npSBO2pGI3I24K/8CxSCyY8SOD355q4kiSZ2kEKcH60oQDOO/X3pDcmyg9iq4ycZ9FzS/wBnAfx/pV2VlRc7gv1NMC/N+8JpiKhsF4Bf9Kjax+dQGBXufSr8q5GVACgckdahNwrSBEOcjOccU0gK81r5aghd/bIzVRTgVoyHK54/Kss9OaJfCgexKJBggd/emvlACBj37Gos7T/iKcckCpFYVZMEHHIqcReZKNxCB+QccVVANX7Yq8AjfGc4FIZaisUQblYtn3pz2u7+L9KhSZ7T5Xy8fY+lX1KuoZSCD6UAVfsgI5J4phtEjBfliuTV/FNkG5GX1GKLAUiNy465penFAACgDpSIWVACc4qQIZIjIRhsAfrUhXcpB7jmmOzoSQSeenpTo2dovnJ3flR0ABHg4xwcmkkRcfNt46ZpiK5jw+d2e5pzplQPQf0o0AZbkeaQOKl2iGMksWqOFcPng59KkBLR5lAGcUAKXAcJt69801nfysgDd2wKdkbsd+tIz4wcdulFwGBHYbj/AKzFOCkjaxyRj+dNRmILA8HnFPGSB68ZNN3Aa6fIwJ6nNR23LMVx0qR42ZMe+aS2VgGGOTSswHO20AkE0kj4AA4z39Kn8rPJNKY0Cn1xVKPcDLZmLkkjOeeaCWI6j9Ku/Yt2CxAz6UosVDAb92TjgVbUewWRRXjjIx9aQcHJwfbNaf2GPoWb9KhjtY5HdQGG04/Uj+lFl2DQqSF5SWPOOpzTVwD8wBH1rRFiinvSNZgjp/3ytGgaFElP7o/76q1p65aXBxgj+tIbE8HHHcZp+m7d0272/rRpa4Fooc9c0bfU0/EZHD/rS7UA++enrSuIj20u09jT1VT0fNOCAA5c8UrgMy3c04OQPuqaf8owCeT6mngKc9DQBECSfuqB6c0mSOOKnwuewo2rg5xTAr5bNLk4qcKh7jj3pfLX3/OgCtlhRuNWgi+lARR2FAWK2TRgk9as7B2AoKLnPTFAWK53etALDvVngAcilxjJoAqcnr/Oj5vWrJwBknijcoOCwz9aAsV8t/k0bmp/nw5PzdPamm4hJ5Y0CEy1HzEZyKcJIAfvjrTjLGqk54HFAERLUbm9aU3UHufwpwkiJABIzQMjy3rRlqlfyl+ZmwPrTAYWwQ/Wi4DOaMn0qUeWV3buKDGuT82MdeaLgQ8/WkJY1LiMYy2c9OadtQkgYyKLgQZPpWXe/wDH0+fb+VbJQE8YrHvxi8kH0/kKQFaiiigY+gdaKB1oAcetPicIJM5+ZCoxTD1pKAJ1nMcSrHwcksSoPNOM8bM4IYK5DcdQ1VqKALEksckilmkwq43dyc0yeQSMpGeFxlupqKigAooooAKKKKACiiigAooooAKKKKACiiigAooooAKKKKACiiigAooooAKKKKACiiigAqSNoxnzELemGxUdFAEzPAVO2JgexL//AFqhPSig9KAEpGpaRqAG1YjeRY1IKbB2xk1XqdSDAFwAfUdaadhN2B5JDyTwfQVFvNPLeh/ClRFbkdaSlJ9QuSoCFyy549anRQVGR2qFRkY7Gnvu2gLnPtXVOTdlcpk2Fx0qIsvA29fenFcrkDJyPyo25ySMc8A84qIvS7ZOvcgmRMFumOwNQI+1iR2qxMDg49KrqmD83txWT3v5AlYsRkEYzxjg+/pU+1wOWIJ4ANV4goBb5SqnODVobpFEuck9vb0qUyt0IgaFmZGzuGHQ9CKJFjCRPHIdxBz65GKHbeA0ZDHuBVeQ4yyjjuKpAi3ahlD7iDlyc+vFSl1HVgPxqgk+FZTlwRgAjkVMb5myqoqh8AjApBYnaVFGSaie7jHfP0qE3EjKfm9iB05pVQb8mReOgUYzS+ZVokscoZXIIHPGacZQpOOQT2FQnPJViCTSlXL4BLZ71VvMhj3kzwAWB7E4pvmMG4AH1JpgMrDJ24xnOaVdzsCXUN93I6UW8wsDu+dwIX8KVZPl5J4I/nUEmQzBiOKbvpLR7gXHmjwQWx9KRInYiRQpBJI3DrzUCzbSTt5x1x0q3HI3lK7bfrnFVFtCauCROHYIxTuOcj8qkHnKPmKufXpSRSu27agAHfPBqtcC5JLBxs6YBoabdwSsSSTRyYjmU9SeDUwuYmAw4Gax++cmn7/lCk8VOoGq5gYDcykE4696geOG1If5hxjA5qjvXcGIH8qVnMi7WOR2FOIF4MssRZQByOox/Ksrbu5zir8EE4iKqwUE9COapJwNwXceg56H1qpWWgxgjbHrVi28lX/0gFkx2NR7MHaTg9z6U8QkHB6HkZ4yKh2Y0xsqJvYISADwDUtqQpOQCMg8jPt/WgxcAAHcD3xzTwmFJHQfpTST0H1JQ/zeTOAT/CT0amh5LR/l5jJ6GpZVSVAD0bofQ0xSceXMM46E96mwmi3FdRzD5Tz6GpST2rOe2wweIlWB6DvViO4DghgQ6nBFIQ0AAkAe9NzT3Icfd5NV9sgbqoB5+lKwDi4DHIP1pwOc+xxTVU8bhux1qUL1wnU5pcoEYyyqcYLdqHUngHHqamKM3U0GPnOafKBThX9/mp3XepXkUscY8w+5qYBckDGR1o5QIRES27vjFOEPqampHbYpYgkDsKqyAasSjtShQO1JuZo9yjBPY05c7RnrjmmIbIQqkkgVHFnblcdec+lLcbdg3evH1pYlOxSDjnJ96AJKaUGWYD5iMZp1IrFlYkYxmmtwHxBtilwO232p5ABPy9s5pEIMa+mKZsk+07t37vH3c0dWMC7E4HFMlLRui8sGzlvSpWQHpxSNuCkMNw9qSAgDRuRsTdn3pkgYSLgKqjrnNPVIkG1dyEc0hUE4ypP5GjqBF/y33DJGOgz+dQW7lXkxnk84H1qyH3SFeSQOmM8VVgBLyYyOe1Wk5aDsTjcVO1Tn6UgEn908U8oQoJYgn3NIq7lzvbIHTNHstLhyjQ5jbGOe+TT/ALQSW7bhg80zGMAqSGPGe9P2jnEZ9qbp2DlDzWLKQMkds1MrS7WAU5Yg5zUBUsu4KeOTk04L9xihwSO+afsdAcSZpXUx7wRt6ninfbgoY7TntzUBTaRu28scfTFJJsMbY25+tCpK6QJE/wDaGVwVwcc80NeFsKpIPqTVeRSki5Azj/GlBww+VDn0qXDqhNMtC5ZmDgjGMe1NN7kMMkE9D6VCzt5bhVXAyOKYz4H+rX8jS5HYOVllL5fLXczEg5PvSPch/MO5gpHFVlVmJwuBSCJ+2Ce3NJxs7DcSZptyqM/d5zT3uw0RTB+Y9c1W8rIHQMBRwBg4qHoS01uWDc5h8vqPXNReYP8AJpmMdqVSM9KVxC8DkLnnOOaUyDnKg555qMsQSobg8ZpQcBt3PNFwF3jtjrmgSsQcnqc05oemN2CA2cUw7sEqMkk/lQAitxzigSHlmPJNK7gAkMxxxyKQAGIsSQfSgBfNZx8xzTVlYDjGTTlUmIkZGB6VErLtIOR9KAHiVgDQJnw+W5bqSaFAZiOcevrSD5nEakgE4zjNACB2x1pyTOh3A9jSSbY3Kqd2OpxSNgYPPze1AwErA5zVaUkyEnk1ZZCq5I6kjmq0v+sOaaAZRRRTGPpQCSMDJpKmtf8Aj4X8f5Um7K4EZDA4ZSD70mT/AHatXn+uH0qNIpJBlEZgPQUou6uBDk/3aMn+7Vj7NP8A88n/ACqNlZGKsCCOxqgI8n+7Rk/3afRQAzJ/u0ZP92n0UAMyf7tGT/dp9FADMn+7Rk/3afRQAzJ/u0ZP92n0UAMyf7tGT/dp9FADMn+7Rk/3afRQAzJ/u0ZP92n0UAMyf7tGT/dp9FADMn+7Rk/3afRQAzJ/u0ZP92n0UAMyf7tGT/dp9FADMn+7Rk/3afRQAzJ/u0ZP92n0UANyf7tIfpin01ulADaRqWkagBtSpjZ7gjj1qKnBuMDrSYmKeuQMe3pUsA3E44xUDHoQeKtRfIgbAy1CAlSMLz3p4pitkUoNW731AmXoaQ03eFGKdmkBG4AQn0qkDk8k+taXBGCKzJBtcqvGD0pN2AcCFBI6ehqY9Ad3BXt/n2qDePu44qxE+yMpngk9q0oXlK1hpjhKXYZbHXnFKhTGXY56Ywf8aj3Y4QkVL9jYjzEk3/TvXVJKHlcbGCNS4IfAJ6GpHijPIkLE/McD8qfO7ybFMbB0PJ/WmGVGbMind2x61jODeqQDPLjcIdrEZNTBVWIbQNwBIBOcVGJCpJyQO4A4pjzp0CDcMgHOax5QJ2cDJLY29lxyaiSRem9znsarNIeV3DB7UJnPB/KlZiHySjzAFyfagS7WYMBjtimKpDZpVCnO8fTHalZhqI7h0XGc9yabnAAoJ44Io44os0ncBNxJ9qcpJGCelMDfMRxxS5wRxUWJJRNIsbKrYz1qHc+ADnH1pSwo5znPFCbQxAPmIJpWA6BqKaSRjI609wJreJHkxI2FxVuGzjEhIYkKeBVFTggjjFWrIsCWDcY6VcXa40WLcsZH3KFwPTFUbdcrnB6kZAq1NN5WcgHIxj8TVa0k2KfY5NW3zSAVlGMKAGHBJ708IxG4jceo/wAKC5Jyf4sY/T/CnMXQbM4Gc9elVyx5boehKWHGIwM1DI4VuSCrDH0qaElk4QPjuTROjOhU+Wo+tJJb/qTsxhHlOUc5U8g+o9aeV3ja3XPymlhVru1ZVA8yLnJPNRCRlBVhjafy9qnl10NE9LMVJSj+XLwexqYoTkkjr6Uk0QlXB69jTbNi0PPO045qCCQIM804KB0ApTQOtMQuKKKWgBKRqWkNAEaffpwC5faRknnFNT/WU5QoLbcZJy2KQx9Nc7VJxn2p1MmLhP3YBb3pgIxcxApgE+vapB0GetQGQOm0sQQcHFP3sRwuB6tQIZckADIyf5U6McJzyATioZXQn5mLn0XpT43yVIUdMZzQBPUEkhLMilVBHU1KzhRyaqFQ+0BwWbsK0ppN6jsSq8lqgGFKE53A5pWu+AVZSeuMEU1YZVi+jBgtSJD5qkSgq3XP4CtHyp6j0Gi7O3cQPbjr+vtUsLSOGIK9f6U37EmzaCc+tRPC0MLHfleuPxFJuD0juGnQlmlaNMt5bZPSgRFwGwg4z3qmj7SMrvzxip2uzGu3Yw/2sYpTtF8q3B6aEggbeZA4DHgmqtsCsk6A4Oev51YjvIyoDEj1OKqRuGlmKnAY5/Dms5Sa3EySV3ZVTqw/WkVmXaOhB6GpFGIyx5AOM8VGdueTn8ahVLaPYExZHZ2HA4HAFOGVUjBPU5zTdyjqKczqHZQxI6dap1V0HcN5ZFHTnPXrRI7OVweB6U3IA4o8xRjC/rQ6kX0FoSI75I4JPNMKOzNk/lTQy7jxS717AflUOeugXHS7tvJyfQdh/nNOUlcdM/7tMDLjoPyprSA4wMYq41OjGpDlUqGIJ5HpTmLy8r0GTkULKCcYNIZgvA/nQ6t9LBzDllkODknJPGKSPenAJ59qjSTaOtSJL+9UcHJFOVRJ6IHLUVlZnDc8qOnrThCWjOWwe2aYJRtJ4pDLnnaBUOd1awnIe0LFQNw7ZOetIImHAI/Omh2J6UzzGHesySURFecgH60pi3cMwHOTUXmSHsBinLI+DuwffFFxloOgjERft2FRMiKmFY8Co92WDY56U7zD6fpTbQEaoSW5wD7UrxOEHzZHpTtxoZ3wBn3pXAbtZhjeeO1RmM5+9Tg53nkigtznd+tFwEKlQeT+dCI2cqSD7Gk3ZbkgfjT1bGSHGQPWnzaAROrZOclieaegkAHXGaaSS2c5pWLAAZ6Dt+f9aerARgWLBixx+NQTDEpz6Dr9KlXOT15qKcgzNjOO2aEBHRRRVDH1Lbf69fx/lUVS23+vX8f5VMvhYE13/rvwpSxWyTBI+c9PpSXf+u/ClQJJbBDIqMGJ+alT+FAyHzH/AL7fnUt5/rF/3F/lR9nT/n4j/WkumVpRtYMAoGRVgQ0Vd05SwdRHkkj59gbb9Qe1T2UAI2vtkRmYHbGCB9W7e1AGXRWnblR9ljMcZV42LZQEnlu/4UQATNau0cZZvMBAUAHA44/GgDOjjaWQIgyx6Cm1qRqwntTMipMS2QFA+XHGQPxpIliFmhEZdCh8zbGDzz1OcjHFAGaqs2doJwMnHYUlXNOZw8ypgs0RwMA5NTwQ/wCiMHUMpiZsiMYBGf4uueOlAGZRWpFGTGuyJDB5BJbaCd205565zUUqFtPDBBEFVeqD5/cN1z7UAUKKKKACiiigAooooAKKKKACiiigAooooAKKKKACiiigAqxFama3Z4m3SJ96PHOPUetV6dFI8UgeNirDoRQBLcW32dUDuPNPLIP4R2z71WbpT2YsxZiSTySe9NbpQAykbtS0jUANpCcHpS1IqggHGaAGxoXO0VZLZIGcDoDQgCruAGRx9aNnA9DyK2pqyuAq8Ow9DToweh9aQLjpUiA5olUvdASBF2nPXIpfWlP+r461UJkGM5pQp863BK5Y3YqlOhV8jnPSrL5IOKifOwZ45qHFcnNcRGFxkEZHrQuRuz14pC23P61LBtd9rHGePxqaM1Gd3sJCYHeQfStCwkLxFP7vf61RdVUEYO6mq5GQBgHvmu+UOeNizTliY+YyOwLDoO9UduxhkfMMcMK0YpRIgYDrUV6u+I8dMHgVhSquL5ZAnYpOSxLcAdxUEx27cfjUwifdgqRxnIGaY0ecgg8e1a1qalG63BoiQgggjJpYuEOe9CqFY5NLJhR0rgfYkN+QcetBbB5HFR/KThhilkJGKVgFKgOc9KQgE8GmhzsHrSLufOCKYD2AYDnmkKlQcc0wPgcU4NmjUBFJPToKXLA80oIHA6UvB4pAKFMrKqjmrjafleG56jNRWswgxvTk85rUUhlBHcVSAyzaSKwDgbe7CrIQqPkxtqxJhwVDDdSxpsiVDzgVaVkPYyZZPNfcegpbYgI2cYJHWtJ4ImHKCsdXIUr+NLmadwLUgGMnHHXFOK7yELDOOQPpUIV1TqBu6D+VT25QIDjDHqc1cpNobGrkKEB+Y9vSjywrKTye+TkU4BFnZjuJ9KkjIcnAPFShMSIPbuLjZt3DBUcDGKS4w8j7WyV6Z7jr+lOYvvKtymOg7U3zNok3AEMpUeoP+RTje6uCJIpM4Rj82MgnuKbajbJKueA1LKmWbkZVtoI7Ef0qOB/9MYONrEcj3qALdLRRTELRSUFgOpoAKQ1G9yij1qBrsk4QZ+lK5Si3sTp/raUbBv2cnOWx61XgdhKxcHp0qYludq7QerGhA1YUyE5A2r/vH+lMkkQDly59BwKYEyWLHPPWkLxqM4zVtJaCF8w8CMKgpPvAszEgUuSH8pwASMg+tN2v5YAGQaFFMT0GOwHCjHrUkbbnzjoOv4VGQTKQSDk9KljXyFxjcWNaSp2WgyI4M+GLEEgcmpEMSTgBOc4zmkmXa4YoVbOeuahEi+YC5IJOc+9aKMVG49DUDZHy8+9OUYJPc1XiY+YV37htzU+4e3HWuaSsSOzVG9u1BMS9e5qdpx5vl4xnvUE1gjsWyQTzQ4tbgUQxBznNPWVh0Jpz6fIv3WzULQTp1XNZtASPLu5YDOMdKjTqaaCw4YYqa1CMz7yQPYZq4pydmA8MpRhn3x/n603cB0xUoCebhiSvqBzUsUaeWCUGacqVlcCruz0/lSuwLDGQMD+XNXFRAclcVECQAuwccZpRhF7jK+7PQGgg/wB01cUEuCVAAGOuacwO/coXpjBp8kU7XCxR5HY0qqx6KatbZCpBYYI7iiEyKpUEYY5ORT5YILEBR1XlSM+tKIZW524BGRyBVgxs4wzceg/H/GnbJAoHmNgDAHpVctMRWWIq7KwbcDjHXmpfIJJPlkkdR3p4jIYsXO7IOfen7XJyZGz65pONPoMq4G3dsOD3oUqrA7eQQamNqmO/50xIU3EMePTNH7pPYGH2ZlwDERn3qPyg7IEIUsCeT05q15K+p/Oke3jG1scgYqoyhF3QLQhMHlFSJMncBio1QtluD9TVyONcA4ANP2LsPA6inGpFdAKcUW4sGJ4PY08wKsiBpWCtnJ64qfao9BS4FQ5Jz5rAVpI4wuVdmPGBimFY+NxbdkggDtVvAqAsTche2aHUXYCN4UJ/dh2HHUY9aa8bbhtRtoHGTV3ikIKg5OT1p+0tsgK6KACTGxbPGDxinqiMxJjIGBweakQjaKR5UQgHvRzOeiQEaBUTaYQT68UwxEtuEYA9CamJzJjsOaduGOCKFWdwKgiYdQKmH3Avkocd8nNEjYPH8qcrA8A8il7ZsCFo2OCFHGeM1SlBEhB61ps+KzZjmVqUpuWjC5HRRRUAPqSBgkys3QVHT4lDSAHpSewIluJFkkypyMVFkVJNGqPgDjFR4FKKSWg2GRRkUYFGBVCDIoyKMCjAoAMinwzGGQOuMgEc+4xTMCjAoAMijIowKMCgAyKMijAowKAJkujHGVRIwxBXfg7sGocijAowKADIoyKMCjAoAMijIowKMCgAyKMijAowKADIoyKMCjAoAMijIowKMCgAyKMijAowKADIoyKMCjAoAMijIowKMCgAyKMijAowKADIpGORS4FIwwKAG0jUtI1ADauQIphU98mqdTpJsjB3EHnAFVFXYWuWJFz8iA4Xikj5wOML04pY5AnLk880RDgmuhrli/IQ7FPWm04VzASH7ophp7HkfQUw0gGHrVe4bkKDzVg/eGelRNF5hkbgbBn601HmAqr85I7GnKGByByOtLgBTt65pysSCrcEY61LhaVmS2SNyEPtikIpSG8tCvYn+lITnkZ/OvRpS9xFrYu2Csysew4FWnXKlT34rLjnkiGEOBnJrYrlrpqfMNmbKgjuGUDIK5GWxUDsAWAHt1zWrJDHJguoJHGaoTBYZ2wg28YBGRWtOpzuwikdxY8cY4pDnjNWHcEHAHPoKhk68DNRXpu3MhWsRN6jmkckgAc5pygA5J/ClwuetcoDURnzyAKkxtUADj1piMVTpQrtnPakwFKBskg59aYvDYP4VKCMgDI/GmYFCAZuJJxSgk07auaTbzkUwE3ksc549a1bGUmHD9uh9qzY4jI4HbvWjkRpxwBQATyGH95x1JHvUceoEht4HAyMd6rXD+cwx09KZ0zx0qpSuDZpw3SzA8Yx61lRrupwfHeiLPNJAiRWyyqT045qSKFnlcIOQcjngColUZbru7VZtlBgYu5jJ4AHU+n9auS5Url2F4kix1YDHvQjKJAqA8feP4Usa4Ykg5HGSOoqMudxCA8NzikgsTSZAJLHaeeKidkdDsbOPanyhnXAGdp5qJMiNtyBeDk56+mBVR3Qgjl6luQRhh/Wn7As6PjLF8Aj0I/xqJ4sHcvWlFwyKPKBZWHHt7VMmr6DeuxeZ1XqcU0yHI2oSCcZPApqiJrD5sJOc8nrnP8AhTrjUleJFVAxUg56ZOPSp5gSXUdNFNGwWR0TOOQemf8A9VQnyxjcSx9zjHFQy3Dzpudzu6Ae2ajGGYhjyehpWcuo1JLoOmeJm3hc9Pl9KfbkEEsAo9AO1MhKCUmRNxHYVNI7v/CFUZ4Xt9TVqKUuUbk3uOIUzED6U3Bdj1PB5p3lhSGdsc0hkRMjcT7CmoylsiLEe18kdVPWkMB8vBIHf6U8zZVsYA7epqNzncOeldEaTe4WdwwBt3AMScDJ96atw5IQEADAzShc4D4I9qNsYU4+8D0qvcithigARrMW+Y8kY6VH5m75vXmnHcBluA3IxTWHyFlzxnPvTjU6sTHb13AtyPY801ipIKjj3prAbQSSW9u1JmsKuIvpEknRwikgkNTWlY855qMNwRnmgGuVyk9WIlSUGUNISMY/SrEt2PJ3x4685qkQDzTOvFX7Rtajua0TGSMMRg9xTttZXmyIPlcipFvpIxhsN9aEwJr+EsgZR93rUFiP9Zntj+tE94ZkCgbfWix58z8P60xkjD96DmrRxnPrzVaVQvzE5ycdacknzhc5B9/anGEmrjsT8UwrznNKOelLj2NIQKexp2RTUBK8g5pirKJCCCRSAlb7pqJSxbHAAP504l9zAKuB6moRMBKQdoJ9TxV8jYFrNLmmxfvIw3AzT9g9aTVnZgM3AZzxQZMFQozn3okh3hgC3TFNMKyqDuPSiNr6gHnZOMDP+9TI/mlYgYxxinrp6HqT+dN3Jby+UqliaqXLYCbNQSSthvmAAOMVb2Y7A1FLArgkgA+3elFpbhYqpMRxuwPXFWIXLxMcg/NgEd6VYEA6LmngBRgYx7U3JWsgK5kbzNuDjPpT2MgbaiFsDJp+E3kZ7A4x9aRw2/dHKVOMcd/85pQsnqBA00ityuPam5YlJCoGe+akdN2N0hOTjNMaCMDmQ4HvWt4W6fiIbPKxj4KkHupqdR+5H09agEUQ3APnHUCp2miAOD92s526DHMpCfIBn61XSBpMlzj0qX7TGOAc8Zpou0AAC8YqYycXdMB7KdxIOePSmpFtPXmm/a1xnBFMF5jouB1qQJpF6YzVZcYyd+fYU/7WTjI6j1pq3G3AwMZOa1jU5VYQ1C5ccMBnuKhuhi4b8P5VZe5w3y9MdD61UmYvKWPU1Mp8wyOiiipAfUkH+uWo6kg/1q0nsNbktx/rPwp6eXHbCRow5LEck8VHcf6z8KecmyTH98/yojsD3Dzov+fdPzNNuUVJBsGAVBx6VFtPoamu/wDWJ/uL/KmIhoqeJQbOckAkFMHHTrU62YjeCT5yplVSsibc5/pQBRoq49qkrnyHJ/e7CGXGCen4VItmsVxA3zMhlCESJjP/ANagDPoqzaRxSXbLKDtwxAHsDS2totzkKZBk4U7Mj8TnigCrRVuC0jfylklZXl5UBcgDPfn2phtlFoJt7Ensq5C89Cc8UAV6KKKACiiigAooooAKKKKACiiigAooooAKKKKACiiigAooooAKUowQOVO0nAOOKSrFrciIGOVfMgf7y+nuPegCAowQOVO0nAOODTW6VPc3LXDjgJGowiDooqu3SgBtI1LSNQA2po4C6hvWoavW3+oX8f5007MLjiv7rHoKbCc5qVhlSPUVFEhXOeM1qpLkaY+hLThTacKyJFJppNOpp6UARlgG5NAypLBsAjnFRuMu3IGBTs/u62a5UnHcGRAKD36+lBAJwTnaccU05OfbmkdgJAF+6VXP1wM1zT5m7yRJbjVTFxyQpApVMQjCsSCepCc1BasfNXHSrMr4mYALkgYJ6CtqLumi1sNaSFYykce8kffbqK0VkVvusCfaqisZ/ljhjU9m3UvzxXDfKmVQZweOo5rWUedWX5iLZqtfKDGhY4+bFWFO5QfUZoZVcYYAj3rCL5ZXGY5jCqCCCSemeamls5I1MhKFRjo39KnVhDA0b2u5ufmqBpFGSkI9QW7V18zb02+QFOWMqcEYOcVGODzxU8+98bmyc96hMf1Nc1SHLbQQ4npg8dqBuxx0qPBHBpw6e1Y2AViQQCM0daF54pwUDrQA0dBRmlbp1FEYGeuDQBbtQNhPekuZfl2qQc9ag3lSxyee/rUDOc9aBjmJzijkg0jc9O1ICcj1oEINx4qWI4bFMyc806MHdmrhZyVxosIVRiWzzjpSl3lzsOAuCB3qHzOOADgipQyhlzz9P8+9dFWKZRbUZYNkn5ccnqaimYoRs4J6sO1VyzHv0qaBlRXEiBsgYPpmolSSV2BFvdWGc55Prmp5Y/NO5P4FJ60qx5VSMkDsaRoSD6Bm4+mKIONyXuJGRkoe3T6UyVCikJwCecVZFt5Sl5ZPLHUDvTZIwIkbe25jgBhjjHX+VS4pvRgVopGVNyYyepNLKUdkCAgAYOKl+zgHIPA7U7KpjPFZ2u9AK4jGVARtnepGtSykDj056VI1wij1PpUb3DEHGB/Oto0pvoUkxyQRoPnbn60rlQCE6fWq4Jbkkk1MsRYHcME9hW3Jyu7YPQc7+Yu5SWCkH09ahCs7k425PeppI2gUYC4decmmx585d7kN2PYVCqcmyC49YEQBmagbWAHH3z7cUyRnDssjAnd1FIvmSIU6IDnmpcuZag0ExXeEzgcDgdPekVDJ/qxhRnBNOzHbkfKJCfU1FLcEyEr8g67R2qdloxEjNtKlWVsdKbJMPJIY8nPAHqP/AK9QSOG244wO1M4J9alzdgvoK0jMcmhWHQ0zqcClA/GsiRykc0DgdabzS7uDSsA/tyeO9Ip6imE5GKXOO1FgJMgVG4yOBSlifpTSTQguM6Vd08gCQken9ap4yetT28pjDDGc4qrjNBl3jG0UeUNuCOKiFwC7A4wBnOetM+0nys4AcngUX8x3LX3FAHTpinjOev61ntcvuHI6cikFy5DHP09qLoLmjgAfeFN3ASc5xjrWeZ2wmT0OT70GYlmPYildCuXJYkkJbecH3qL7LFuxnmq28+UF7A596DKxbfnBxV+0YGhG6RJtDDaB3+tPacKxU4yBk8VlqzsNoOfaje5ZvmJOMVLld3C5pC4UoHBwCcU1JUjVlUn5cnFZzFsYJxTd3PXrRcRo/ax8uM89eelRNc5w5A3hv0qq0nykdqcPLCgnLE9faldgWmvFDgLyCP1prXbEKUH1qmrgdRmpM+V14PUUNsCQ3MmcE980Ncu2QCcEY47VG0hBBK9utML45HWjUCUTvu6nIGOaTeykHrg8VHgnDHBpGfKjFAEhZ8YPAznFCk4IyCD1phYhcHv6UhAwcGgBzfKCd3BPOKAO5PFMyoHzc80u4KxPUY6UAPwpGF4I96aQFxknBprMD0GDSbiByKLAS5B7YNNO0cikZjxn9KQMSfegBc5Py04scYI5/nTevTr9KQlgopAKQxI46UwnJzTvmPbmmt1qkMSiiimA+pIf9atR0oznjrQwJpz+8/CkSaSMYRyo9qiO4nk0c+tJKyG9Sf7VP/z0ao3dnbcxJJ7mmc+tHPrTESpM0cbIuMMQc/SpTeuTkIgPmCQ4B5I/GqvPrRz60AWWu3ONqpHht/yjqfWk+0nzUkWKNWVt3APJ/Oq/PrRz60ASxTNFKJFxnng9OaljvGjKkRxnaxZcg/Ln8aq8+tHPrQBftbpI1RpChMedoKncPoelV0uCkRRUQFhtLY5IqDn1o59aAHUU3n1o59aAHUU3n1o59aAHUU3n1o59aAHUU3n1o59aAHUU3n1o59aAHUU3n1o59aAHUU3n1o59aAHUU3n1o59aAHUU3n1o59aAHUU3n1o59aAHUjdKTn1pDQAUjUtI1ADa0LX/AI91/H+dZ9aFsf8AR1/H+dADpnKLx1JpI23ICaJF3DrjFEa7RjNaNx5LdQ6DxTgOCfSmCpRkRk5wCen+frWYhhppPFKaQ0wI5MAE1GzAoc+tSuMkD1phjHIzW8akVGzBEZjK8kDDKcUeXHhAx6Dkj1yf/rUjKVJ45INIcEgg/d6iueo1ZJMRbhEYHydR3qVggkieRSyZw1Uo22vu/StCNsjjnvShOzuUitI0bu5VAoboozTjIFGF2qD1AB9adEFxIHgZ9pLFl7ClSa2VkP2clehz1Nd+l9EBYjdll8l9vCg5B+lS+1UJGQ3KukRjTcMDFWmuUHrnsMYzXPVhbVAPl/1T/Q1nvMfJUDBxjH5VPNc/KNueR0qu0qjbgA4OelZ05RvZiuNMQkVpXlUY/h70zym8veAdo4NWZJhJGzCEfNjJxjvUskNw6DEBCnBOBxXQuW2q/ICgYHEXmFG2HjcRUZTFal5fSybkwFQZUqO5we9UhZvuOXwcZ57Z6VjKnppoBW4B5pSQPpT5YzFIUkyCKiwS21V3ZrFpp2YAMNwBTwKnjt9owacYwATQMrSEBcY5NQjk89PWlmO5+PypB09KAA8dKTdRxnBoxg4/WmICe9TRdOn41Ftz71NCpIz2poY+MDdz0qz9nVhleD61DtxVpOAo9a6Ksr2kNvUriNdpLuAFpGKx/dbg0ssUjDAXvTPskjNls49qc5Sb0enyHfuOM7h9obIqcOz/AHlzgjIHuDTBb7UKrGcnuTViOPy84ySam6UddxNjVkCKMRO7KeC5zimlmkdSysTnJJqaQHy2I64OKhtnkcMAjyH2HSiKunJIVuo9wdvoCQP1qpMQGwueM/zqzI7AbXjbjrmkEQlgZkXn3qqcvZrVDTsUwC5YA9eufrUqxRhgGbP0oWF95LFQQRx2pzOypkDJxnPp2pzrO+g7ki+UhOACKa0oVQVAyf0qPnlmO4dSB71M6yynhFRSCMVm3fW/4iKrHByTnr2qVmM0m4KqDuAakSERjGA3uTSTSIMqECkjnmnHt+o0AjRPvJk9Mk0khJG3aBznIPbp/jTd7ffbAHv3qKS53DYoCr6CjmSaF1HHZFnjLYqq+WfpT1O489akCjHFc7n5C3JEiikUJ3/WoGh2zbFJJp31pocq2e9K4hpiZW5FDfKBg855qz9oBTG35qrd+aBjd+DTXBPSpCfxqN+BkdKEIVBj607B61GCxHApd/50NAO5H9RSn1pof1oz3pWEH0605Opz1pvbigcjNMY9XBzSBjnFACL2+tNAG8gk7aAJCw49ablmHB49KDjvS7xgc4FACI3BJp28tgdOaZ680icSA0WAlbZjJyOKaFO3gDHvSu2QVPNNLZ46CkA5SSMZxijox55amZxnmjBPOfanYB+eQD0psgVuRkGmg8UoyaAHJwvvSPjccUvlsR0p6QcknBoAiIxzTmbI69DkVP5St0GD7mkESjqMn3NF0BBksMGnKhPK1MI17KBUiMIwSuAQOaLgVsMT0yacLaTbnA+manEoUYPQ9QKa0gDcfzpXAiFu3ORj6mlW3LA8j6U8yZOOw4pC5/h9eopXYrjRAnQmnLEoPGOaYzMeaCwxnkUXY7jtg9BmgqO+KaTnBzQM+nFIVwIHYAigqvXGKME0hHFO4XA+1GfakwMdaOnTn2oGKGwegqJ/vGnmmN97iqiCG0UUVQx9A60UDrQA49aKD1qzDsNqVk4DPjd/dOOtAFbBpdreh/KrqlDJaeWMKGIHvz1qs8kit8s7Nx1BNAERBHUEUYOcd6tyhpb4o7EoGycngDvTmBe6gmO3LMA205GQf8KAKRBHUYoqyHeRJxIxZVGRk5wc1IY/9F8r5chd/UZz34+n8qAKe1vQ/lSVYMsn2MHzHzvI6n0FSiP/AEXyflzt39Rnd9PpQBRooooAKKKKACiiigAooooAKKKKACiiigAooooAKKKKACiiigAooooAKKKUKT0BP0oASg07Yw/hP5U09KAEpGpaRqAG1eteIgSao1dt/wDUr+NAEj84oXr060UopiFGafwFGDz3pgqVz0BGCBg0gIzn1pp5604000wGkDcKdTT94U6gCvcMMgdqrlsSHt7U6TiTHvSLES3PFZvzEKW6VetZQwRT71T2DGCPn/nS2+d/XAB70rgjSguJbaRyE3Kx5wM0WVwyAZg8wAHaV6j1p4YN0OQelRC2IyFkIFdMZpqzKHXdzLOEV0WKMNuyG5qO7uftCoQCTGpBY8bunNOW0UHO459TSTBIl3SMW7AUm1YCoTnknIFNPB46ZqPzdoIGCDSCQYC4rCxJdhdWj8nkbj164qyI7hYzEsxCH86o2jKJh7nitUHNXGTSsNFSKMv5qNPt5PGOvvU8zF0SN5VZVUDCD731PpSPbxsSSvJoFvH/AHf1rSU1L/hhkQjSR38wA4Ix7cU/yY88AUnkxm4RMAKQTyaeiWi+YkwCOvfORRJR0dwIShU/K30qG43iFuMf1qYCEmRQAwCEhxngjtShQ0Kg91FQ4q10wMvaSctwaCvFTTWjq2VOVqMDbxSUWwRCRg0oG5T6ipWT14pMAH0qbgwzt4qa2XMZ+tQnBP1qzZf6o/71OIiZVqZVBIJHI6UwU4vsXOM5OMCqSvohgxfzdikD5c8ikdnjGWdB+FRTTOsmVXaxXAzVUsW/i3N3JrblatoBYe8I6EMPYVZt5DLHuPrVAWkykNIGVM+lXrZdkbKvZiBSafLqhEpFR2kxhkIUcbzkeo7/AIj/ABqXv71B5cg3ABcEkjmpjs0BckR7skiLAxz71lqMqoYlQTkEVe8+88sJkcDrUccWxFDdR1oatECNB5m8OPwpjRON3IUf0pS727syruAPf6UjztLndhy3b8al7lEipEBnO4H8qdcr5IyXDuBnaD90f5zUDOjxgBOpz8vao9hRgJjgMvQfXP8AWloIUyPKV29hz6daadkYbGGZj+Apsk2QEUYHYCogp3Ak5pRd5ILitITnPNRPxzStkNxRsLYyakVhYzhs1KTkVF0GKeMEYpMYgakIyeDQFIanBelMBMYHWosnOKm74ppjGc5oAjZ+cDtUiFfKOcZpAo3YxSstAWEGKQjPQc03JU4NPRsHJGaBEOxiaeEPrT5WDY2/jUZODTAQkrwaeBmmsQxGamtwOc9BihuyAibJPSkAbOcGr/mhRgbfypgcE8Zx1xmp5gKm1mPAqRIHYnj3qwJCvQYP0pu8uc0uYLiC1fHIoFtnPzdP1p2XJ7ml3AdTzS5mO43yQQOOPXPNOEEQxyT6iml/Q4FNByen40XYh5jh3dOO3NOURgAd/XFRdDtzzSjHHHJo1C5IwQDsfwpMxochaaeg9PrQUxgg8UAOMmMYA/GhmJOc8+1NIwDyfypuAegJ9yaBDjk8Anik+Y5z/OlDYyMDikY5PGcUAGMdKRSRnANA49eaDnOG6UwDjPWjoQR1+lB49aTOByKAFPUUZzwRgUb859aOTjANACZK+9GT1A60H3OKAew4PpQAbvSg4JzRsPejHYdaADI9aOM9DTenbNKcg8H8KADIxQOKO/1pOpAxTAXJ9BUb/eNSYAxxzUb/AHjTRQ2iiiqAfQOtFA60AOPWl3ts2Z+XOce9IaMUAOWV12Yb7hyvHSh5WcYbb+CgfypuKMUAOMrlmYty4wTjrQkroAFOMEN+IpuKMUAPeaRxhiMZzgACk81/N8zd8+c5puKMUALvbZsz8uc496XzX83zN3z5zmm4oxQAUlLijFACUUuKMUAJRS4oxQAlFLijFACUUuKMUAJRS4oxQAlFLijFACUUuKMUAJRS4oxQAlFLijFACU9JHjzsdlz1wcU3FGKAJDPMwIaVyD1BNRHpS4pCOKAEpGpaRqAG1cg/1K1TqxF53ljaqlfc0AWaXvUH+kZxtX86M3A/gWgCyo3MBnGTjNOckk85561VD3Ctnappd1yBjYv40CJvqaRsZqHfcf3FozcH+BfzoAkPDCnZqDE5IO1Pz/8Ar0uLnbnYuPrQBHcJiTdg800s2COKeyTsTlR+dN8iXuo/OpcbiI1kOdx57Uob95gcA0rW8hOdo/A04Wk3OFH/AH0KOUdieC4Kn5uEUdPx/wDr1dSRWGVPFZqWlw6nagIHX5hUsUN3G2VRT25I/wAaEmgL+ar3SeZGR3HIpmb0HHlLn/PvSE3g5MK49/8A9dUMz6R+xFW5IZXIxCin/ZPX9aYbWYcFB+dKwiGPcpBB+hq/FeuMeYMj2qqIJRxtHHvSGOXoVH50rMDWiuElJCnpUmaxVjlB+UYP1qcXF1jHy8HrTsx3LF6dgVw2D0FU2cyHJLE/WnTG4mxvA+Xpio/Il9B+dXzySsSPRhnaTx3q7G6FQAeg6VnmKbjK09RMowEU/WpcpPRjReblT71XMJLEtio1kuEyAq89qRrifHKqM0JtaDuNkUKRg5B6ZqInNPIlYZIHX1pnluB/9epsxCFcjIIB9atWZ/dH/eqsY27gfnToWkUHYAQT3prQC+DQ54X/AHhVUST9lWhpJyOVXg1cXZ3Atl4RcutxE7CMc4pJzCQBFZuoP8TMQf61WM90cjI+Y5PSmu9www/INaKaWlwLEjwCMIkTf77HnrU9u8bJ+7BAFZn7z0HAx1qWOWaFSFRcGiU042A1BhiDmlxis37bcD+FPy/+vR9tuP7qfl/9esQLeXaZ1D4C47U/yZSM+YcfSs4z3DFztX5wAcUpubpIxEGAA9P8a0cu35ATKvm3BjZmD8jp1xTltgrundSMH8KqpNcI25TlvUnJH509J7hWZsKzHqTT9o7NNhdlkrFF94EfQ9arTPG68Ah+O9DtcSpsMaY9v/11H5U/9wfnWTlLuPUQLxmlOAMDrS+XP/cX86a/nDllUZppVHsAhBNLjjNJuk9FqSOO4m+WNFNJ05rVoCtyW6VMMBcdKdLaXEY3ugUf7wqPbIePl/OhQk9kAoFLjvSxwzucIoJHvUj2l2gBaMAH3FJxd7Bchop/2a4/uD8xS+Rcf3B+dHJIXMiMZyeOtQl+as/Z7j+4Pzpq2M7twgz/ALwp8r7BzIgPOM0oG2pjazjgoPzpDbTH+EfmKOV9guiA88Ujg9hU/wBklB+7+tONtMByq/8AfQo5WF0UzwRxU8JwOmasNptzs3mMFeuQwNQKHRioGCODSa0AkDc9BQSSMAflTd0mPuik3P6Dio5WIdyMf40AYB7Um6QDPFIWcjoKOVhYk5X/AOtzTSTnimh2ClcDmkUMSAAMmnyjHk5wcUZOBx9KR0kjxuUc+9IGfngH60WAfk//AKqM469fpTB5meAM04pKAflAxRysLCnOO2PpQBnJJzRtm2jgYIyOaBFMedg/OjlYWAY7k+lKMHoM0hSUDdtHHfNKizN9xVH44osKwgxn7uPpR83UAgVIba6IzsH/AH0KBaXRIOz/AMeFFh2IjkjJPHTNKAf730wKcyzg7GCjHuKFt7iTICqSP9oU+R9gsNwcjIJFOKDy92Mc9qbJHNC211AP1zT0t7mQDagIPI5/+vRysERgjoeaM7T9Kf5M+cbBz703ypcE7RjvzRysLMQn2496M+9PFvP1CLj6ig29wesY/MUcrEMPJ4zigNkYIwexzTvss+fuD86d9juP7qf99j/GjlYyHJ+nvS496ebWcHlR/wB9Ck+zzj+AfnRysBhX3/Wj+tSG3nxnZxSeTN/dH50WYDB7nFMb7xqXyJj/AA/rUTqVYq3BFNIBtFFFMY+lUbmApKdH98UnsNasVkwcZpNvvUj/AHqkjiQxeZI5UE4GBmiLuhyVmV9vvRt96s7Lb/ns/wD3xTJ4/KfaG3AgEHFMkh2+9G33p1FADdvvRt96dRQA3b70bfenUUAN2+9G33p1FADdvvRt96dRQA3b70bfenUUAN2+9G33p1FADdvvRt96dRQA3b70bfenUUAN2+9G33p1FADdvvRt96dRQA3b70bfenUUAN2+9G33p1FADdvvRt96dRQA3b70hGO9PprdKAG0jUtI3WgBtaFqP3C/j/Os+tC2OLdenf8AnSYEuKQrk0oPOO9ID6/zpAGylI9KM0maLgKFI70oGM+9IDRmi4CgcfTpRK52D5uRRmjg+9FxDEc56Dj1qTapOSvP1pOPakZgpp37ASAgD7o/IUEKDwccDvTPxpCc96SYASqgtTFkBOckH60jHPuO1JuA/wAaq4iV5W3D5yaHllcZBJFQlgR60oYCgB6SbBjr9RS+eSckDBGOlRFgT+tGRmgADnJFIxBC9zj+tLuABAGKMLnPf1p3Aacg5PHvSZGetOJ5x2pCijnk0XAXdngZp3oWFM3+nAppc80gJC2AcHPtTdxUD86jDYpXb0NADt9GcnBqLNKM5FMY/HHBowAOTmjypMZxj600qw68fjQA75cjNRwn5DjrmlA5+Y4+nNMj+7+NAE+cDFIc0zORQDx70hDtxFLuBHPFR5zzR/OgBx60u75cU6GIuewA7mnOFSQ7ckg/0oAiKNjODilGAM5BPpT2d5MZ4HsKQJk470DDeSMAYFKI2bk1MqADkA4pWYqM7O2etNRcth2GpDn/AAp8qCJAeMnjmlSdxwIcn2b/AOtUdzMzhd0e0A9jWtOm3JXHYQyHJ/eKPoKYZDjPmZP0pnmjPKE/5+lKP3pwqH/P4V08qW6CxO5bcVC5wOaruSTyKdulOZOeeppcSdRuyee9XTioKw1GzuRVs2cQjhBxyRWdax+ZKM5JzWyBgAelc+JqXfKugSdyG5iMsagEZDZ56Vilc8kDnviugqjPBbQyoXAVSDwzYz09/elQq8ujJK9iMyMpOBir5zLZE9SpOPwOP5VDHDbu8nkkbRjBVs1PC6pBtbLAkqQOp5qarTlzIl9isKKArAc4/ClAJ7U+ZGVmJRnHSlIK9f0OaQAk9Cad0KzJMrMNr4D9m9agZCrYYYNPYMOoI+tSKwlXZJ17NQBXPFJUjxtG2CPxpmKYh0cjxnKNjuR2rNkYtPKx6lyTj61oYrNf/Wyf7xrKokawYobjrSE0wml5PA5rEsdu7Zpue1PWF27U/esJG0AtgA+lADUiYjceBUoeKM4CljnrUDOTj0AwBQOaBlzzUkHIzSGNT61FGO/eps/Wgqwiomec1IEUA7c8jrUW45pwJJwTkY9aAsSxj5FJB6d+tMkOeMjFICfLXjGaQtgEnvWsYJu7MpPsRsSThegOCaeMJkbmH1Wq5znueaVc9MfjXUqcVuvwKSNG1yZSN4cDuO9Wx1qrZKo3EDnAqyK4pNN3QzLmjZp5CASN5GcU1FdJFJyOfcVYvgsc4bYCGHOeOaqmVef3cY98nj9a9GMuaCHfQdc5Exyc9K0bYYiGR0UCsjOSSa1VbBHtnPuK46i5dDNbj54s5kXjHX/GqrhQnP6/59qvjawzwwNVbi32crkq3qP0zUIq9mRfMkQBPPTNPQhwGHHse1MmKrEOcg8mnqAuFP5VS3Jl8CZISrL8/HuKY6MnuPUVIQGYYI47d6FJUkHkHtVGZBuPrRvNTNGG5Tg+hqEjBweD70WQXY+G7EY2zJhf7y88e9TGCKZS0TDnoR0qrjINNClTvjJRvUVLj2KUu5K9tInRcj2rLuDmdj9P5VrR3rpxOmV/vr/UVm6g6yXjuhypxg/gKhlorUUUVJQ+nR/fFNp0f3xSew47okf71St/x5J/vn+VRP8Aep8c4WPY8auM5GTSjsOfxMiqe7/1if7i/wAqPOi/590/M1HNIZX3EAcYAFUSOht5JlZk24XG4swAGfrTpLOeJGZ1A29QGBI98U2OVVtpoyDucqR6cZ/xqaS6RpLhgGxJGFHHcY/woAja0mRAzBQOM/MMrnpkdqdNZtHctCrocDOSwA/nUlzerMjlSytIBuXYuPz60NcwNO8pVgXUclA20+wPWgCAWkxd0KhSn3izAAenNSTWZF08UZX5Qv33A5IFSS3cMzSq4kCPsIIAyCBjpQbuBppH2sN23axRWIAGCOf50AQ/ZGFvJKzBWjfaVJGe9Me2kSLzCFK99rA4+uOlTzXUUouQQ4Ejh1wB154P5057q3aJ4wrqrspwqKNoHv3/ABoArG3kWESnaFIyAWGSPXHWpDaM9w0cYVSMYV3GTkfrS/aIvspibe5xhQwGF56g9fwqQXUBnmlPmK7ABGCg7eME9etAEC2czlgoXhtv3gMn0HrUB4ODV2G7jjiEeXARiUYRqSc/Xp0qAmBwWd5fMOScIMZ/OgCS5smjJaPBQKrH5gSMgc49MmmC0l8x0YBdhAYkjAz0qaS6hPmSIJPMeMR4IGBwBn9KW6mItrdCB5hAZ+euOFz+FAEUlk63EkSFWEZ5YsAAPf0potJizqVVdhwSzADJ6c1Y+2RCacgOEmIYkqpKnJ7Hgjmmx3aec7SPIynA27FwwHYjpQBSIwcUUrkF2KjapPA9KSgAooooAKKKKACiiigAooooAKtWzQSxm3nxGScpLjoff2qrRQBYupIflit1GxP4yOXPrVZulLSN0oAZSN1paRutADat27fu1B6fWqlTIxCDmkwLCuVbHWl3gNjHHpUG7Ipdx9aLCLBYAA54pSRiq+cZBpQ3BBP4UrATbuOKUEbfTtUO7jrS5wcE/lRYCY4x7Uo5Heow4HU8e1SRNGW5J/GizARjjvUTOOBjpUlwyAjaar7ueKaQiXfyCD0oLmos+lGTinYCTd2xTCRRzQY2wTg8deKADPrQTin/AGd84PpTViZgDkYNMY3PejPGPyqUW58wLnqCalEEagEn86AKu6jceucVORAp5IPBzj1ppaLnapOaAI1Vm5A4pfmI2gH0qTzzuyEA9qCXwDkr9BgUgIvJfdtxzjNOSHPLMF6daHRhjOSTjvUfzDloztyR1rSMLodh7JGBkP8A/WoLRjoCevWmqCQMJ/48KljjZwSqLwcct/8AWolBpXCxEOOiZ+tODyDOABn2pXLKpPy8AnGajLuOw/KtVRv1BIdhz1Jo8smmq7fKcjPptqV0J2fvUJbsCRj60ewHZjRHVdDxVl49n/LRG7/KTVeJC3bjPas6kOWwmL3pQpY8VYihHzA9Rx9KA6xxjIBfOSPQ1kIjWHcCScY65HSnOVjbGA2OmaZJKz5A4B7UioxoAVpGb2BwMCnR5PHWnLD61OkVIdiMIxPQVKsL+i1MECjJqKW6UKfLyTjPSqjFydkOwjnajjemQDwDzVaVvkxvckj2xTvNG2QNIQTnjZ1pst1NKgVn4A2gDjiuuFKwxgJGcSMM/lTw/BVmOcevFQk5PLDk8805UYk4OQBk8ihU7PcNGSxAzTRx7C5weAcZ5/8ArVaSxLRhvs7keokH+FUY9wkDK43DoTirEcs6nCSqD9QKt3WzQJDpbUKrYicELu5kHT8qhhj8xTyRzT5pZseW8obPPBBotAW4HQmpnKUYXbB7F6ygEY3D8M1bpqKFUAdKr/bo+MRSkdiE61yWlPUktVFPAJsHeykAgY96qC7d3b55U5O1RED/AFpPtLMMC5I+sYFX7Nxe4D/IeBi3mu24cnPNPxhVGc9/0FRKzea0bOr9MHjmpgfkUegP86Urp2Yn3CikJwKBz2qRBRSnjtTdwzigApMUppKAF3MBwxA+tMxnr1pW6YpMj1FMBwOOgH4gGsiUE3EuP7x/nWtWcrhJpyf73H5mpkxoatv8pJPIGcCnnZCHAPzHpTJLgk/KMVDnNSMe8pbPJxTOtJinAUwDFOVc0KM1Ki0FJCqMCnGk6UZpFCqNzAVaVY8hVZc9ielVePWnIccgdDmgTLLAKqqeobOB26c1SkbLZ9qsXMmd4PDFjkVFEHJJiO3HHLha66MU3dmSQxpD/AqAfT/HNPiJZ1yo47gUTbshZCW7j5wwp1twWO4fSrq2jBssv24xGTjqakpsQIiGTmnVwiIZ4mlZdpXK561F9jkxkmI++P8A61SyuwlCIhZiM9aa08salmjAXOOWHWt4uaSsBn7SLgg4Pzc4rTURtCZB1CkVWEavIreXs35IIbOasQqqOU/hIHHvSqNt6kpDoCAiLnr71Y4YYPI7gHrUB2RTqDgDbUqkA468msxlKeEJncDjsT0NOQEA4GR9KuyIJEKk49/SqTQ4kKbSSO56VcXciV9h25eQevsf/wBdKSVUEkj2bpSY2jEjjHoopUy3CIB796sgCcds5/AUvyvhWHPbHNIdq8Mxkb0pwV2GSdq+g4oAheMrgjkZ600DDDjg1MZAvyoMj3oaMNypwfSgCBR823sazroYuH/D+VaRyvXrWbdf8fDfh/KonsVDchooorM1H05c7hgZNNqa2/16/j/KlJ2TY4q7Q1i2fmXBpuT6VYu/9aPpTEikkGURmA9BSi7xTHNWk0RZPpRk+lT/AGaf/nk/5VGysjFWBBHY1RIzJ9KMn0p1FADcn0oyfSnUUANyfSjJ9KdRQA3J9KMn0p1FADcn0oyfSnUUANyfSjJ9KdRQA3J9KMn0p1FADcn0oyfSnUUANyfSjJ9KdRQA3J9KMn0p1FADcn0oyfSnUUANyfSjJ9KdRQA3J9KMn0p1FADcn0oyfSnUUANyfSgk96dSN0oAZSN1paRutADaep4xTKeiluB1oAcDjpTs96BEe+RjrSrEzE4HA55piEDZ60A4qVLZ5GG0HJ6VLLbGNQZEYc9afKx2K2Tx707D8DnnirBUkDCdwRTmfbjK4570crCxB5L5APGeKd5JUEnmpmeMYJYcHjFMM6hj1IwMVIhpiLAbe3rR5GCh4znmg3OQQF5PegzSHHIFAD/s4ycd+ntSGFFGfcd/eoy0hOSxpoRj2OKLgWGMIIyRnFI08YQgEnjimCDNSC3HpRcdhpucn5V6etMWWQKAoAA9qlKKjbdpJxngU9QMcRyf98VXLJ9AKx81zkkk0CFz1q7GFfPBBBwQRinNsQZYgCpad7BYqLb+vNEcRcDGwZ9c1O1zGuAoLZ9BVZJXTAVe3Oa3p0pNPQLDpI5FiRw0eG6AHmkaKVjEpcYbJHtSDzZxsRc7AW/CopC7Bd447V0qFu39bFWHvA69weT/ADxVf5gwB9x1qdbeR3VAOScD8s1HNH5TlWKnGOh9atNbNjfqNAIPvx3qSMLnLAHn1x/Sj5FB2yckdh19utIGx2H1oUVrYY7aCrkFQR0G7/61JJGQrY4P19vpQJGKsAThuuO/OadiSViFByeaTlbdku/cj5xjA65zUjSlkClUGO4GDQpK5VmA2jk05JcAnEZx2Oay9pd6IZGiueFT9KZbuI1JIzz/AJ/rWh5+1N37scfdBOf5VlJ0rCtKTtdWJd+pM0rFic4z6U3NATNTJD61gSMRCTVlExSogHSpVWlcYipTiwQgbWJPpTwKjkO2QEddpxn6iqjq9RiF5H3BImIA546VCY7lgu2N9pQDgdanhlcb9xb5gB8p4xzQMAAAygDpya6YtJaILkDedvAdPm9CBmnKJWi3qibT7CkmZA2TvbORyTUIj/ciQHk4FXdW0AdHG02zcoCj070twyr+6j6fxcUFH3om5OhxTTCwy25Djr81Nau7ZSVxmO2T/wB81JlUQYJyfWIfzp5tmyDmE+3mVDNnkbVXHGAc1qncpsQAMRjJ59K0bKEKN2MYqlboT271sRJsQL+dcdefM7LoZtjhWTLukt4Y0HTJP51r1iI7xv0Ow+lRCLcWl5fqCaTHxxuZ1UEpnJB9OPrU0SzeWNrgDH9yogxkmTAPAPWpFvJYowmzGB1ro9+yXX/hxN3H2y4kkaYruGD6c1KFKDDYJFVElkaRnxkk1Y+1bhjyx164/wDr1nOLchMc+DUeMU15cDpjP+fWkErHooNTyMWo4/8AAqAx/vH8aEbcDkYIOKhfc0jAPtAx/KhR1dwJwSepzTs1TZigBaUgH2p2ecCY5+hotHuBYPPH6+lMjiCMW3E8YGagWWQdBu5OSc9qsIxKAkYJ5xSkrOwBKnmKFzgZ5rKkysrgnJyc1oi4zJsCHrjrWfNzPJ/vH+dQxob1pQKABTsZ6CkOwgFOUZpwSnqvFK5aQgAFO3D0P5UNwRnpVhZkC7IwCRzyPve351poktAbsReXKRkRSEHvtNIIpCSBG+R1G3pU39p3B7r+VMF9MJGdWAL4z+FVBx7E8zEaJlGSJB9UxTxaTGLzUGVHU9OlNnu5pUQO+QSeMdKaJJQGG75W6jtVtrR6f18g1YbCxTcyjcOvWp1EKjBe3J9SrVVQ4wdoYjrk8U9pMn/Uxjtwf/r10aRVriZKqozH5oh/wFjUMQyQO5NDBhhwFAHYEVJZoTID05zWNd+5uOJpAYAHoKKKUCuQCnf7kkR1OOMVUL5PzIG+uf8AGrN9KGdVHY9arlCT1B+rD/GvQpW5FcGnHQTfjkLtwOME1oO37iNgQTkHmqBiYA52j/gYP9atWJ3oVPYY/OorpON10F6llkEg3J1P+HSliIO5h/epkRKySZHy5JFLGpjYo3RvQ965BFhT2zimSoZOEYhwM8UiSBmYDqpqQ5y7DsAAT60LQdrmbtZW+f71Tqu8AbmB+tWZlV03FQ/qKrssYxtZo/YitU7mLViPa0T/ADKSPXHFWFdJFwGxSZbZ8rK49DTWUFeYiv8Au0xEflvGxIGR61KsiSLhuD600MNuI5CD6NTjl0wwR/oaADaSOcMPUVjXwC3bgdOP5VrADGAkifTmsm+/4+3ySenJ+gqJ7FQ3K9FFFZmo+pbb/Xr+P8qiqW2/16/j/Kpl8LKj8SJbv/W/hTixWyTBI+c9PpTbv/W/hTkCSWwQyKjBifmpU/hQ6nxMh8x/77fnUt5/rF/3F/lR9nT/AJ+I/wBaS6ZWlG1gwCgZFWQQ0VatW8u0uJAqFlKYLKDjr61YuNrG6j8uNVSNXXaoBBOO/wCNAGbSsrIxVwVYdQa07sRxwsUjJjG0xOI1wPxzzSyrI99JJxjYCmIwxYcdB3+tAGVTpI2ico4wwAOPqM1pyRBZrj7PEhl+QhSoOARk4HTrSujG9mcAEgICojDn7vv0FAGVtYoXwdoOCfekrSmBWC8ihUbVlBwADheadPbk2rJtDOrKEYRhQc+h7igDLpyIZG2rjPucVowYU2sRjjIeNi+UBJwW7/hSQ7ZjbSOibm8wHCgA4HHH40AZtFaduVH2WMxxlXjYtlASeW7/AIUkXlzG1kmVAWLjhQASAMcdO9AGbShWKlgDtHU+lXbuF5WRUgk80A7v3YXI7cCiFZo7K6i2YYFWKlRnHOT/ACoAo0VoyiIRLMoXNyVwuPu4+9+tPuYwDKLiNI4xKBGQoBIzz068UAZdFaOoKqxMPKIG/wDdsIwox6ZB5rOoAKKKKACiiigAooooAKKKKACrEVqZrdnibdIn3o8c49R61Xp0UjxSB42KsOhFAEtxbfZ1QO4808sg/hHbPvVdulOZizFmJJPJJ701ulADKRutLSN1oAbVm3YLtJGO2fXmq1Sox2j2oAvcAktgKwB/z+lMaWMMAGz1HFMDYTPXHJ/DnFL5a7gSNp6+3FMBWnXytqg7sYz6UyOR8/vTuT/aNIqLgHk/5/8Ar08YznHPTpVOLuA2aXcQYt23GMUEM7DK4yO5qTIA6YGaTeNw+tNRaY1cRYjjkgVIsSZBNG7oAp4pQHJ6CosHKxRGgHAH41IIxJ24AxUflM3Bb2qxCm0Hjrg/0NA+QQQgU4RKKRkkjJZWLD0PYCgSKRmosxDwqilyPSqTyOqnJI39B6U0SlCDGfruNaRpSlsLmLInEdx5nl+YpTGM4pr3bTZBjJAPTdx+NU2+ZhuAzjHBp6RFg21Rx159s/0rqjR097+vxE2PWd48/IDuOeGHFJJctIhUoB/wKiOJS4V/l69zQQiO4X5l7e/NUoU736hcmS8kM0JEQbZnC565FFvcqJxuQJwRnOcfMTTZ5AJklhjaPBGAR3qCaR5X3SDmhQTW1tAJ3mU3czbgNyFQR+FQGRDb+WQd+7OajxyOM08RO2cAcDNP3Y7vsVcRp3L+ZuYPn72fbFRs+9h1JJzUsUJK7jjoD+dKNwYqEU4/+t/jU8/SKHcaImPQYFSxQISA7EfhR++2qwRSGOBT2EyH54cfjWM+d7sWpZjghH3cMfeobpjFN8rbfkH4jJqNXbaDjFJvYjBOR71kvdbuBDJIrHBTPvmmKikE5xjoM04vsPQdTzUBOW5JxW/NGLasCWhcYnYfnU8djVe3Xcp+tINucBjU1mMxH/erOpJNKwMkSMDmpVX1pVWpFWsAEVaeAKMYpegzSAM/lUUoZmBXHQjmpfvfSkLBfeqTs7gUfs8i8hsfQ0gaZD/rD+Jq4TkE1DhCGUKxYdSKtSb2QiJGeRgQM/hSMxEKxbD8px9TV7TW8pNxhdz2I6dKTeJIpV2Nu+0F+nTnpXVGyewJalXzFLfLb5+vNCjewYWpI64UHBq1kAE7P/HD/wDFUzdMkZZV464wcY/Ondf0zTm7EEzwhTH9mMbjnJPNQsvzAFRn2pZpHlcuwAPPHPFKi5kJ7dqJS5Y3JbLESlVyKsJK4Gdx/GoVzink4AFcRJKJpO7fpTJZS67WUY9elHDCmspFIBm4qPlUe1Nld3jzhcZpckdqbKQYz1/E+9XD4kAPPJDgBYyfT0qq07ODvI59KR8737c5wajU4HvRctW6kxuCcDCn3x0pxmcA4ZQB09qhLcj5RSbgT90fSi47RLdsW8n8ajlLeYT+f5UkTsqYUgDPSkYlsk81o/ten+RmxzlljTBwDznvTTNLkA4zwfWmElihxjPWrTHcw46dawIIopMKTnGSaRpnL4DY6YpoBAODgAn+dMbJYk88V0N2k/T/ACKJWkkUZO7kVWJy7E9SanWUhcZz6/5/CoVGWb61M3eI46igZ4qQAAcdPWgCnfyrE0sAp2QBTelHJ5pDDuM08ZZwqcL3wM1PHBG0CPuYsfvAdQKQvGs242zKnTaDnP411R5Fo+hm2RxpabfneTf0wKY0absAOSe3v6VOq9SYcj8jUKTvbvuQDdjGT9auytdL8iRJIjGoLK6gH+IVJDG85Plr90c+1E91LdhUYZOeg9akhjTydslwsZ3cqVz/AJ6UnHmS0/r5FXsVxBIwysiDPQZ5qNt8bbWHPtzVp7eBUO26DH02mkUqj5BVs/7AIq3f+rk3K3mcAEZJ71dtAGIx0qsSsjkkAE9hxV+zQKmRXPWl9ktIsUE4Vj7UU2UkRNjrWIJaozZSPP5GQKazKeuB/n6VJCqSXQErFVJ5I7cGlu47SNwYJQxzzmuuNRRikXV+NkGPRTVq0lCM+/IBA7VWZ8nIlXHuTQsqgNmQlmGOlN1IyXL3Mr3NXgfj70/G8Kc8g1B5qhMnP0pyygpgZ+YYFcpJDGxWUsfx96vDDptJJU88VTeFoxksDUtu37sc98CkNOzLOcSyMc4UY471DIGB3q2UbpxkU98GNjk5OAcUoxhIyvBAJOelUnYqUeZEAHHAX8VxTRjOQdp9n/oaey7GPXj60gO7pn9a0uc9hRn1b8xTHHzZcA/8AOf0pcDPzEfjj/CgkA9B+Q/xpgIMDrgf8CNZF/8A8fknOenfPYVsEc5yfwzWRf8A/H5J+H8hUT2LhuVqKKKzNB9SQMElVm6Co6coywBpPYqN3JWJriRXkypyMVFkUrKAelJgUopJaDqJqTTDIoyKMCjAqiAyKMijAowKADIoyKMCjAoAMijIowKMCgAyKMijAowKADIoyKMCjAoAMijIowKMCgAyKMijAowKAJHuGcxk4AjGFAHApssvmyvI2MuSxx703AowKADIoyKMCjAoAMijIowKMCgAyKMijAowKADIoyKMCjAoAMijIowKMCgAyKMijAowKADIpGORS4FIwwKAG0jdaWkbrQA2p0X9yG6AHmoKsI48kKR0oAWLpzwBUsZwMbs+36VXU4JqVDyfTqaoRJHu6cZBBP5//WFBTc+wE8DmmqBvZc9c8VNGczKEHUZJP0oGtxFhyDweKkWAYBxgGpd6Rr1BOe1IJcKwCE/XvSNb2FEI6Hr296eEGOBTNzlSuQPQ9xQRnO4k57ZoJc0SF0UHJHTn1pDJ1wpJ/IGoy6J1IFOYgp6ignnAyMSPu/Trziqc2ftGCeABzVkDAX1qCTaLnJPBwfp1q4b6CvcR4kIG1xkA5B9qeq27S4yyp79qhljXcGjkFIH3MN4Fb03K2on5EwZILrKL5igHAphaRJjj5Sw6Z9R/hTS25wVQdOgpyQM/3uKqUox1b1sA2VnLjzDuNG1nOQoGO2MVZjt1U5JyalAHpWMsR0ih2KYidsA4FBjVDtZske1SqQZDvkdRvxx6U1sLcN5UrcfxNRdy+JjI8gOFGFHYkUSMykhXB47ZGakdHedl3seBTQoWdlduAO9WuVbdh2GBjhQBtyo7mkBZZcE5+bsfYVaMCjy8OJBuxw3tUU8arMcI2Cwx83sP/r1akmxXFmmcBTk8NkfNn0qZpppVBaUY+lVJwoxhWXJ7tmkifJ53H8amS91WESpgjDS7ev8ADnvRKgRhtlVxnqBRgRsu7gkHjrzk0BGwpKkLuGCRycmk2ua1ge5FtHzNyTyBxxUHlN0FaKPNH5hjYYDkbSuev/66hYO0p5XJHYUmotsEVgjck9hViwGYT/vf0FOeEGFmSZGBXJGMGorDLBlDFR14rOUU0rDu+pfAFL0qMQsTxI+anSxlPJkbHswrPlXcBnTrQTUcqKsLOkzEqwGM5FOJwKUo2VwuLnAphO5qdng8ZNJjaMk8VAEcrFFTADEnHNLbxTtI5VUPU4J9h/8AWqOaQExtjhW6Vbhuwt3Ix2gEnv8A7v8AhXTBWjsIbaTzLAAvk492x2qISXEbvtliUOxYjIIyasrPFksGVVY5xgHFK88SqxEqEjp8oquZAVmluX+Q3EXI9qgklnhAiMysrDHykGrTxoyHMqdMkjGc1RI+fBZe+D+FVFpvZAiMAltobrn+dW0GAPWoIBn5vrVhRWVWV5WBjwaUkHvTT0oIGOlQkhXY5WUdxT9yn+IfnUFqqhVd0D4zwe9WJHgMbD7MsbEcH3qnGKdrjuMZQOQRUZAPBANSafbpOW8zOAexxVxtOgI+XcP+BU3CMHa4ij5URHKjNNNsnahx5E8keAQD/EfYVOkVwYdyopBzjmm4y6Md+5VNqO1MNsRVhnkiC70HPvzUqpM67lgYg98iptU7/iMomBgM4NNAIJBBq5IXQbWiZfrUYdGGc4p2au2rkrUrSAtjAxjvTZHd2znb7CrqmMnqKjlERbgihLS/KFtSug4xmlXaGYN3Ap/yg8EUMEYZ4zRq221uMhZUUE9zTIuWY1NhfaoowN7+gNKekbWGtx45p3Sm0daxLDOaXNFLQMQltoAJwOacJpfakqRkxErEcN0Nae0bJaQkUkrSgZ68UhXnk5I4/WlGFcEEGpd0aO+U3knjtim5txsTZXIY/LEymTOwdcdas501vvLJ+dQW8scMheaLeuMY96s/bbP/AJ9BXSmkkv1EyOQWG0+Wr7veo2aAhhHG2ex3VLLc27DbHbKrGo3kHlArFswSCw+lNO76/ehEMeCenNasAxEKzI8MOBitZBiNR7VxTd5NmjDFI6kxsBySOKdQKkSdmUVs2LsHOOOMGlbTxjhuKsGZDOFDZJpHuYxuXnI46VdOVRrYJy5ncpi0B4zimi2QfWkU/NnJ/KniRff8q1/eEtK25JkIh5J4HBpyMVAz91SKjMqFcHPvxQCvljac55rNwktWhOyNAjcpHWqk37lY0B5BJ/WprZ/MQpk705H0qC6OZvoMVIFuKTcoYd+tPb95cDkgAZwKo28wD4zweKvIeo74IBoGmKCJlYHB7qfaoCCDgrg0+24LMRgAc46CnEidNw+8vBFWnYVSHYrsSTjn8OP605T2z+f/AOuk354HFKFx/F/OrMQJ9CT7Vj3v/H2/GOnH4VsFmHY4+lY99/x9v+H8hUz2LhuV6KKKzNB9OT7wptOT7wpPYun8a9R7danTy47YSNGHJYjknioG61MQTZJgfxn+VKOxVb+Iw86L/n3T8zTblFSQbBgFQcelR7T6H8qmu/8AWJ/uL/KqMiCip4IY5IpJJHZVjI+6uSc5/wAKlms44xKEmLPEAxG3AIOPf3FAFOir02n+TGzMz5TBf5MDn0OeaSe2iN88UYl2qM4RNx/nQBSoq29ksLy+dIQkZUZC5JJGRxmpJrZJL6RFEgUKuPLjz2HJ9KAKFFXHto4racOSZY5QgIHHemy2ey185TJxjIdNuc+nrQBVoq7DYecFKv8AK0e4HH8Wcbfzpot/Ljk+YbvJDsCucZI4/LFAFSir/wBnhhjuUZy0iIN3ycDkdDmnmC3W6nQZCCHPK5weORQBm0VLcQrEUKMWR13AkYPXH9KioAKKKKACiiigAooooAKKKKACiiigAooooAKUowQOVO0nAOODSVYtbkRAxSr5kD/eX09x70AQFGCByp2k4Bxwaa3Sp7q5a4ccBI1GEQdFFQN0oAZSN1paRutADamjjJXd/k1DVqNv3KA9F6/nTQDQoxzQTtORUphyhIJBHzDJ61CQAAwbnrj0oEPVsOOh/wAanycqOig/yqqCARu6VK0gJAySM5zQBbOF6CqFzM7SHDHb2qd7hStVQu8+1AGgZT9nD99uf0qm1y7DkmkZm2BC3GMVGAQaAsO3sx+pqyk0ixYxyPWqyA5zjOKtRRFxknApAkQtLK5ySfwq1DD+6IfnnNPWJARkZIqYDHbik2URpEEj25yc5yaDCrDkZ/CpiB3o46CldgRrGqdBinAZp9FADABQTSmkNAyk8pRm2jPzmkikieUmXKirBh64fqc9Khe2z/FzWylG71FYkdhG4lgmByPxqIygzEyMrbhydtR+XJHwDxS+VkZ/nVqpFf1/wBiPj/lmcn2GKbh3xnipUITsPxpxfngDFS60nsK5GIWzyaGhOPlNSFiakUBlzWfPJdQKq7lbc3JHerMdxEMb9xwQevShk4qFowe1aKr3EOe4kd3Efyh2JyBzz/8Aqp8MDO/GQAO496gXdGcqcYqVb+RUK7h6DjpVuz1S/EQyXGAcY9/WjTuWakChgzNuZh09BT9JdI5Wd+gGR+lEo2VvX9AWxpRHZnoG6HPNRzyvKPLQhAfvsOuKmmubdxlowT71nz3TOxVQFHQEe1Y2sFmxJ5AFWGLhF64qVQcdagAXySQe4/nVsgCiXwr5/oO1hnAPJx6UStiEkdQMj2qOV2zjaSAM1DNOZI9mMAdcd6qNN6MVxjs77cnIz+tWBGzDOegxnFQqdyAKp+U5z71KPNc9TzxW1n0aKuPggedgEbGc8lfTrVltKkZcecv/AHzVcR3kY3KsgB74pTPfKMkyfiKLS7oTZFc20sDbSytnnA9KgZSChP8AF/KpGZ5iWZmLHrkVGoLFST06UnJxTuwuSpgDAqVaYq1KBx1rmYhG+7TsADk01jgUjuAcKASRnk1STaQLcksU82EAdVJ/nUs8BC7mCkKM03TRM0IMcYIXPO7GeTU128ywSq8aD5Dn5vatJR95hYh0hgHkBOOlaZkToGXP1rDs2dS+1QenU1OJJd+4IvI9adWN5sBtwQuoy556fyFNDOTxI6geh4qCSVhdFyMEMOD7VowRrLbqxHXmnUVl9wPcpyuzBC+d24DJ74rQJaMBIG2AH0zVO+h8uJHB/ix/n8q0LaMSQrJzllBP5c1nL4UBSuZWbKyncyDggY6//qqKzKoA7AMMfdq/d2ubeVg2SFJGazbMb9yj7wwR9Ka+B+oEzzxPlWg8tjwDVd1yz47LmrD27Ed/zqvMWR3B4yMfyqqTfMCNOBIVgHnxKHXhuPxplzBavExR1VgCRjvxTpsuxH3twyPTFV7mPFu3lqobaRn271kgKpiVYA+wkYHIqpGcM/1rRhlKRm3KniPIPrxWan3n+tOXw/MqO5IScUDmk7UtZGgoFLyKbRmgCRV9efpUhIMaoQflP6H/ACar5PapEyjYcnnHT/P1qobmcxeEYjHPWlddoQhwd3p2qBzvbd27UOzbOMZ9quEXe9v6sJMkG0sdzd6cVQ92/KqWG9Kdl/f861cpPp/X3ATEEEFRnHSnb3YBD+XvTEmcJtK985qSNh5oJI7U1J9V3AngXcVAGM1onpVaCMbgOtWTXIU2FFFFAjMnPl3YYc87qkEvMgHTeTk1cMSnqAcdPas+eNgJAqtkt+GK3T5k0TYf5qhNzt3PTv8A5zVczAclTzURhZW4U/jTznGPJH40uWXYLA06HGFbg85NW7VfNiwAMgcZ+pqh5LZ6Yq/ZFk2gj/PNOzUXcGPtpXiuCCufTjrj/wCtmrE0EbSNx94ZBolUIzSg4yvFND78MOn8qyGU5E8qUKT8revrVu2kLJhvvJwaguSspKjr/WpLU4tzIw5/nigRbkb9w2OrHHAptsMb2GcD9aEbjPUGnOBHbEc5bPTuaZad1YbKoYeYpyp7VGOeAn6U63OHMeCR3B7UskSxnKgYPrVxfQzqRsyPYR1J/wC+RWRff8fb49v5Ctdv84GayL3H2t8DHTqMdqJbEw3K9FFFZmg+nJ94U2nIpdwq9TQ1cqL5WmPbrTo5pIxhHKg+lNkjdGwx5pmD60krKw5y5pNlj7XP/wA9WqJ3Z2LOSSe5pmD60YPrTIJVlZYXjAG1yCfXj/8AXT2unZpWIXMihT9Bj/Cq+D60YPrQBYluTMvzxx7z1fB3Gnm8dmYtHGd6hWGD82O55qpg+tGD60AWzeuzuWjjYOACpHHAwKDeuzOXjjYPtJUg4yBgd6qYPrRg+tAFlrt387cqESncQR0PqPzpzXztuzFESxDMcH5iPXmqmD60YPrQBZW7lSFYlwFWTzB9f8KHu5HkmdguZhhuOg46flVbB9aMH1oAtveu6OpSPLgBnA5P+cUjXbsWJVNzJsY4OSOP14qrg+tGD60ASyStIsakDCLtGPqT/WmU3B9aMH1oAdRTcH1owfWgB1FNwfWjB9aAHUU3B9aMH1oAdRTcH1owfWgB1FNwfWjB9aAHUU3B9aMH1oAdRTcH1owfWgB1I3SkwfWgg96AG0jdaWkbrQA2rkagwRHjOD/OqdadpAslopJI3Z/nTQDYwJgJCp2r1PSo5oWLl4gCp7DrVxYHAC7wVHYimyQSc7DyetMRmkE+/Wp8Aw4JAYDNL9mlXI2Ek+lJLHImdyEChbjGeWpAwc+uBTljPHPHtSbG75xUiIQAfXmr5rXGStYvHHvlVhuOFAx1qFreRWKFTuHapHllChfMYqWyMnpxTlDBNynBxjJ6n1qudWWgXEWxuMAiJzn2oi8wE4RmAGenvWpZRzPDiSVtnb1xUNpCkl04bOAX6H3FC5WndAVfMPTymyKkWbLBChB96vT2trECxTLnpz1qhDa77kb8gFyMe2M1HLB3C6JuaOKklsYo42fcwCjPWqrrGihir4boealQvsF0TZpM8VXtydzFVdhtBPfualLkHlHH4UpU2nYY+kNRmXjJVuPanBsgHsRmpcWtwEPWj2NI1NLEUhDiB3pjkL0pdx6H86Y6EjINAEbYY8CnKqk8GmgHpUgQg0xClQACRSqR2pw+tLwOgpDEJGKaFU9zmlbHemmQA4oAaU9KYYwe1OL+lM3miwEZUDDhsdzT7JFaFsjPzUwovpUlkQtuxP8Ae/wrSUuxKQ7yE5JbHpTWjO4KOQRnIp7Nkjch5OKZuwDEnLdyKjnk+pTGCTLqI1BIHp1NW1myMkc9KqhfLYKuMkdTTyZlO1QpY+nateW6u2TYc5Z3KIeSOT6VOLHzIWK/LkcCqm2aFuRhqX7Tcwt8p59Kpx1Woyx9kn2gGNSMY60oSS3wzxKV54zT7c31z/GEPXkf59/yqWe1vZEAZ4jj04zRp5fiPmFTVXdCwiUAdctVa6u5bkrhQAOmD1NVphLblkcJ2yBzS20yRyhjwfTHT3odkr6fiSIzvG8iEDceDzSxqeKQkSTsRzk1YjQAYNTVlrYYijNSbRkUrKFAx1pAMc1lcLDZBxmolVTcYZgAFP8A+qpXbjFV4iBcPuxtJPX65ramrr7w6ksdx5P7uG4YJkk1NKqTEh7stn1Iq7DNYiFAWi3YGcjvVVrm2R8hUOc9unJquZ9hFf7OUcmOeP65pdjc4mQH61bF7bDrHER7Cn/bbI9I0/IUOV3doDKmjG4lplJPPHP4VYt79YYFjIyQKt3FzZNbyBNm4rxhayBGrAE+1VKS5LtDLN1eC4h24wdwPH0NWrG9SOFI26gEY/Ws5bfngilMWVx3rJyi0gNhruJkfkrlT8ufasi0cJOCenQ/jUQjPvSheOc81Ss42iI3ABWdfpmYkfwqCaj+2SIcbsA0xrgsXJbO4Yq6cWndgaOlyB4fLJyUH6VanjBhk4/hP8qxbOdobuN/4W+U/jWtJdRtDIM9jjvmudAVb6132cc0Y+aNBnHcVkJ99/rXQ+dH9h+8OY8YP0rno/vP9ap/D8yo7knWnYptGayNANHsKTOaenDd80CbsPVNo/2vSopXO/GO2KkLlVJY5IqAE+YDnknNUk72Rk31HKAu3eOO+alMkDc5wfYULA90cKQCOeTipBpswA5jOP8AaFdDjJNNdgREzR44Y/lQkSSDPbpRLaSoeVz/ALvNVwwB4ZgfpS9/v+QExiUE47HvTo4s4bpk1HuAB3ZJ6VNb5YEehpSlJRdxl62ByT6CrFQ24+Umpa5xhS0lLQBHKX3oqEDIJOR6YpCswxmReeny9acSPtUWemDn9Knvdp2MGGFzkD8K1vZITIUtppE3eYnU/wANBspT1kT/AL5qvJdXKI0cS7cMeetMW9v8YwufcUcwrk81vJCm7ch6/wAPtSR42KxUZIBqGW4upIXWUqFx2FWIwGgj/wBwfypS1jcpCXTfuB6Gorc/Jg9qk2iZgrHgLUbfuQ47Dv6VNyRjQSbg+CCecVLORHCqdM9qtlhJGH7qefp2qjePltvpxQA60clSp+oq0DuXafwrO84QoTtyRVuCUSxK696ATJ4FVELYxyeT6U2OYuypImCwytOlYtAQv4/TvVdS7t8w24AAx29DTNUrptj5U2vtIJHrmsa+4u3x7fyFbg3SJzjJORn0rE1BSt5IGxkY6fQU27oxSsytRRRUlD6lt/8AXr+P8qiqW3/1y/j/ACoQEt1/rfwpI4N8e9nVFzgbu9Fz/rfwpzf8eSf75/lTe4B9nT/n4j/Wo5YzE+0kHjII70yp7v8A1if7i/ypAQUU+KGWbPlRs+Ou0ZpXt5kTe8TqoOMlSKAI6KkNvMEVzE4VuFOODT5LOeOcwiNmcDPyjORQBBRUiwTO5RYnLr1ULyKkks5VuGijR5CoBOF6ZGaAK9FTLaytbvMFO1G2njmmPBLGgd43VW6EjANADKKsNaSeRHKis6spYkLwvJH9KiWCV4zIsbsi9WA4FADKKlMDExrGrszrnG369PXpT47OVnZHR0YIWAK8nFAFeirEdlO8jJ5bKyruIIqueDg0AFFFFABRRRQAUUUUAFFFFABRRRQAUUUUAFFFWraKG4jMJIjnzlGJ4b2NAFWkbpVm6WCPbFD87L9+TPBPoPaqzdKAGUjdaWkbrQA2tmw/484/x/maxq2bD/jzj/H+ZpoTLFLRQKBBjvTZv+PeT/dP8qf2qOcnyJCeBtP8qa3GKuPIUtjAXv8ASmRbWi+YY+X5VA5NQ5Z0GXIUdBQk6xopMh6Y4FW43TsMdPBhYyQM7scdOhrRe0QQszjcwUnn6Vm3NwkkKhZCSG6fgaeLpwmwz5UjHNPl0QWNeL/VJ/uisy3mENy56nL8fiKmXUkWMLj5sYHPFUbTZJdMXbqWP15FCTswL8Ia4cSyDgdBSf8AL6vH/LT/ANkqyu0DCkYHpVZji8BPTzD/AOgVMeoia7/49Jj/ALJrIuJCYYj0OQP0q3fXAkRlXOBxUdjCLiWPd9yP5m/oKPsfMFuWdKj8skHqYlJ/76atEop6gH8KqWX+ub/rkv8A6E1XKU/iY3uZGrBYjGsagbgxP4Y/xqO3gkmjAEgGAOoo1eTfdKM8KjfnxVmxXFor4+YkYPqP85q3pTQJlU29wASRwv0zUciSRqrMCAxxyK2CMTcfxDmqOo8QKvYSj+RqY6sLlIuA2D1FLvx0z+VFsM3ybumRkVrvbxScsufocUNRWlgMfzFzyP0pfOFaTWMLdNyj2NZDLtY5yRkDrVQhGTC5KJARkdDS76tW9jbvbxuzNkjJ+aobu0WFQ8blgTgjPSo5I3tcLjMg1GyelNX+tSBHIyFb8qlwaYXRHtNBQgU47h1BFIXA5OaFGXYLoYPcUWfMDDOOT/Kn5U9xUNkDhucAkVLT6jRKjZfLs4wc09VRCWQHngd8UvUkYA9TUTOQD83Q4Aq4x0uJ6sdKcSxhcFjk8+9O5RS2M54GfXuagUHzFOQpOeTUqSbefMG6tHC6WoE8cKvG0kwK479OKSWKFELo5I7EGoZZHkyGlyPTNLFbrJ8pnA9Mnj/P/wBai0l1/Ma8yx5kEQHmBuSedxp5nswAGWQEjIwxqGSzIUf6RE/pzVWeNosFtrDoMMDT97v+ZJYiiSac5zs6nn2qrsO5hzwcU+3ufKDDsRSwEsG+uc0Scox3GLEuOaspkU1VzUgFc7d9WCFpG+7S9qa/SkMhOSSajWVfKdcZYsSrYqdhhDUMMUmVA6MR29a6KduViQoVEwSHOOT8tTxSW5OWT9KuSyXWx89MHPy//XrLkW53lQ2CuAQPoB/Sn/W40rl8SWJ428+wNH+h/wBxv++TWbm4iJ2sARxnHenma8bOZBw23rjmj+tw5WWrgWphfYGDY44NU4QGAx1HFOW5unTygchuOnWktRy49/6Cif8ADFbuS9MH+dBpWA6k8UqYya5QGY9gKTb61LwB04pGXPQUwIGUE4NMMeDgCrBUjPFLt46de1VGTiFiuEOPu5qNoivQsB6A1aCmlIyOarn8gsVAzAY8x8elMj+8/wBasMnNV0H7xx70SnzIa0ZJ16Cmgc4HNSRqCeenXIpeBkqOtZXHcaF2/WngYGCee5pqg7s9s9aJH2L+gppdSSCQsSO460IcutSRFURicljx9KQY3qAP84ralG7v2E+xaS9tY0VHtd5UcnNPN9Y5wbT9agEcWBuzn6UhSLtn8q05Zd2BPLcWjqyxxBH7ZpIbZXmCMPl2kkj0qqyDPBB+opySSqepx7Gjll3YE01uqTFFJIHNPjjCcAVB5n7wEEnPXNWwOKyq3vZlIsxjCCnUg4UCisgClpKWmBFMJNytGOQCOv0qm/2oPkn8O1aNJiqU9LWAzjLN/dAphec9x+VaZVT1ApvlpnG0Zp8/kIzSJ2GCxwalS4eIhMDHTmrvloP4arXMYXBAxzg0nK+lgBJicgAZYYH1qNy6IffGc1EDhvxqaVTIF2gkEZ/x/wA+9INy1aTZZd3TG1voe/50ye1zMTuOR2psMW1ATn5sq30/z/OnyTPJfKvZc9O4oEZ9wxA2kcg80+xn2S7D91uPxq3PAHcnoaqvCFPPai4GmpwcdjSlCWO5sKV2g1Xgl8xOeo61MD8wY9uKCkybb2rB1L/j+kz7fyFbhkHyhhyR1rD1L/j/AJM+38hQIq0UUUAPqW3/ANcv4/yqKnxvscNjOKAJ7r/W/hRHLH5IjlViAcgqaill8x87cUzd7UMCzutf7kn/AH0KZPIJZMqCAAAM1Du9qN3tQBZilVbSdN2GcrgeuM5qeW5jeS5O8kPGqrweSMf4Gs/d7UbvagDSurqORJGjMY80AFdrbh/SkkktpLmSQup3qCoYNgHjIOKzt3tRu9qANOaeCZp0EuwPsIfacHAwR60jzWz3Ej7wT8m0uGxwOeB3rN3e1G72oA0J5oZRdAPjfIHTIPzdeP1pzyWpgkiSRVV2XBwxIA7nPf6Vm7vajd7UAaEVxGklpmQ7YwQ3B45P/wBanQ3UawRYMayRAjDqxzn0xx+dZu72o3e1AGjHNG2xNxGbcxlgCdpyT/n60+R1txGDIf8Aj2ZQcEZJJxWakjIwZCVYdCDg0PIzsWclmPcnJoAvRXEWyJHfH7l42OCdpJOKokYJAOR603d7UbvagB1FN3e1G72oAdRTd3tRu9qAHUU3d7UbvagB1FN3e1G72oAdRTd3tRu9qAHUU3d7UbvagB1FN3e1G72oAdSN0pN3tQTmgBtI3WlpG60ANrTs7hUt1Qg8Z5/GsyrUckIgwyP5gBwR0poDSW5iY9SMDuMU9JY2+66n8ax/NbPAbFL52fvKcfTNMRslgBkkYHeoHbzfvD5eynv7mqC3G0j5DgHoKl+2L/cf8qQExjjA6frULqpUkLjPQ0x7oN/A2Ka04OBsbGMcinzPuFiDb84x0zVxViZNo+8KrF142q3B7imvIznoRVczaWoy8UT5cKOvr7Uy3I858ds1U82XAGTx0pYpDE5YKTkYp30auI01lKMArEegprTuZgpbOWJz3+7VL7S28Ps5AxSeeTKrlDxn+VKNlcCzK2A/uf8ACtDTZoobUbgdxOScZzWLJMXcHBCjtUsd6EQL5Z4o05bAkbNlIhnIDDPljv8A7TVamk8uFnDcAVzaXYViShORj+f+NPe/LLt2sFxgDNEtXcYk8m+c854OfxIrbtVH2WFR0Chj/OudD5cttYk+1aEer7IUjEDYUAEg9aptOCQjYzly3bt71Q1M4gTPVnB/CoTrGSP9HbA7VUvL43ThijKB0FTHRgPhP78nNbxxk46VzMdwEbJVjWgNaUADyWyB60S1f3fkBq1ikfumPo4/pUv9tL/zxb86pi9xG6+WSHI5/L/CrptLcB4VmgTDMuB1FLJv+UKWK85qFbragUI3Axmm/aSRghqz+1cGtCRFc8p97t6f/rrUjvMW6mRSW25NY4ucHCqwXPSpDdtnhW/75olq2BonUIXDK6nGMkEdqzp9oDGNty44pjXCtnKdePu1G0oKkYbJ9qcGk9RPVEqSrs2nBY+3SizGYmOehqspAIPPHtUkMuyPG0nnPtSb0Gy1JIVGc/lUca75MnIHc+lQmQk5IY/hT0uCh4Vtuc4I60J6NDNKC1WUbnHA4Ge1StZRdQtUv7VcKAsQH4U9dXIX5oST6g0te4ix9jj9MH6U60a1jQ+aFyTgZX0qp/a2c5hI/GqTzbwMhuM9qd33HdnRb7MnhYx9VxWZetG1wBGF2rngCs8yEqBtbj2qSG48twzozY9aLvuLUlmtxE6LzyoJB9aljUbSQKrS3nmybijCnC8QcbHxSm27FFwZxSiqn25P7j/lS/bl7I/5VnZgWs0Gqv25P+eb/lQbxSf9VJ+VFmBPIMrnpURaSONBGMs2Of7owKje7DLjy5Pyp9terFy8DOdu0ccVrG3LZku5KssqKxkkLLsORnvU0MBec+W2wlw5J7jviqlzfRzRMq2xRiOoFRDUJlIABwOg5oaXQIto33VI2UmHeXJywXgfWoQLS4w0arnJwenNZS6rKoAw3vzUQu0EgfyjkHIHbNKxaaNk2cTDkYA6YrKgXDSezY/QUseqSRxKigkqerDOahjuNu7KOctnp7U9otCfqWSwz1pnXnODUDS5JIR+fajzv9h/yrMRcRweD1p4I/GqPn4Odj/lUouwB/q3/Kiwyy3Q009PWoPti/8APOT8qa12p/5ZuPwpWAsn17U3tUC3agY2P+VBu1/uP+VADmqvCMyyduacbhf7rVEkgVpDtJ3Him9hFknGADyad0wBx9agSZRyVfNDTK3RWHNTYZK/3NoHPaoHPmy4AyFpZJgy4VWz9KjBwOAfyqhCnJY4FOMrQEOv3iMc1GpABypz2ok/eY4bj2rSPwtC6kn2188qDS/bD/cH51X2f735UbP978qmw7lhZVd/mO3/ABqWU7SV44qmF9N35U9QwI+VyPTFOwFiHBerqfMw9KzSxLZ8th9BVqO7CH/VSflSnqxmjRVM6in/ADyk/Km/2lH/AM85PyqbAXqKpf2in/PKT8qP7RT/AJ5SflQBdoqkNRTvFJ+VA1FP+eUn5UAXevWgmqX9op/zyk/Kj+0U/wCeUn5UAXKiuFzEag/tFP8AnlJ+VH9op/zyk/KkBVZhuIGcewq5YHIPLcetVzPa/wDPu4pUvIImyscgqhWLN2+xQB25ptoPnLNy+AM1VmvFkbO1gKWO8RGDbXzQI02GV+lVxjcR3qIalGD/AKuT8hUUt7G7KVRwR7UgLWAj5AGfaps1QF/GGB2P+lP/ALRj/uP+lMDQjwSAfwrF1Fg99Iw6cfyFTnUAW4DgelUp3EkzMARnsaBkdFFFAD6kg/1y1HUkH+uWnHdFR3RLcf6z8KiAJ6Cpbj/WfhUiyPFZqY2Kkuc4+lOXxMc/iZX2n0P5UlTfa5/+erUt4cyqT1KAn8qkggooooAKKKKACiilZWRtrAqfQ0AJRRRQAUUUUAFFFFABRRS7W2bsHbnGe2aAEooooAKKKKACilKsFDEEA9D60lABRRRQAUUUUAFFFFABRRUot3a2M64ZVOGA6r7mgCKmt0qeW3eGNHkwC/IXvj1qFulADKRutLSN1oAbWha/6hefX+dZ9X7YjyV/H+dTLYCWlpM0makB3frRnnrTenNLzQAufelLnGM03vRn1oAcOaKQGkV859qYhT1zUDsS557U5nJLAVCWy456g1vQ+MESK7BOvemqzFRyefenGAkn7x9DtNNMAHbn/dNdUYwsPRA4c4AB6Y60zyn/ALp/Oj913wKP3XqK05EO67CGNx1U/nQI2PQH86diL1H5Uh8odqORBzLsOjLKSBvz7Nirdp/qBn+8KoZi9qs28ypHjIxkGpnD3dBS1RpYwOKjlB8tvXFJbzCXIHOPSpiAwx61xNOL1EZbQSMAwIIIHFRFJE7VqfZIv7tJ9li/ufrVNxb3/r7wMzee9KrkngkVo/ZYv7n60fZYf7v60rw7gQWgP2hw3p/hVkQRBtwQZpY4UQ5RcGn4pTkm9AIRaR794zn61Jt5p2aM5FQMhlUbGOB0PaqR2ktwcDvmrk+/awUcEVnusm7IU8+1axvbQl2vqBUZqbT/APUH/e/oKrjzMgEGp7D/AFB/3v6Cpq35VcSt0LRo6n1pOtNJww9q5xisRjAOKbgkZp+dwBpN2ByDTQiF0ODTrdgVO7pTy4zgrQqKMkDGadwJ1bAP0/KpNm8nK/NVU7sAjkZx1qR5SygBj15q7Noq5XjaMSBXBIy3T61ox2Ktn92gPUZPasoxyM5xjnJFWU1C4RMYUjAxk10TTvoyk9C/9hAIBCqPUU2ayjRTIHA2rnis+W8lnVQQB8w4yaQpLjBCf99H/Gkou12wuK7J5hIYHKgg/jWqGBrG8kRnLbSOnymrs4gR4mhVkO9c5J6VU4qSWom0XSM0Y4pokT+8PzpQ6k4DDNc1mK41kJqs1juJIkxk56VcNJTTa2Bq5lz20cUiB2O1s5IHSmSx2wKBJWIOd3y9PStWq9xEkmCxYFemDW8K1rJhZGXIqDOwlhnjIp4dgY9rMDuwRu680SqFkwpbOe5qZLeBogwm/eqd21zgGtp1FZDd+hOsp6GN8/8AXSnJcPEHDRnG7HL9OBVcTLINynZ7GoSFMrAscdufpWEfevdfmPU0xO4lRHiK784Oc1PismLaZog0jBef4unFXSkGCRPIfo9TKEdGImZfSomTJ6EVSuJkQgRtIT7sadE+9ouJQS6jJbgjPNSoJ9QLJTHINM2kA7gCDVqWHC5AYfrVZlzgK2c8Y6VAEJRDntVODiab/e/xq/t43MBg81Rg5nn/AN7+ppS2ET9qXmkHNLnsKyuIMgdKTtRSU0AhAPGKGJQAjp6Uue9RnIAzge1MBPMJORmgOTnI4poPXFAVvvEj8aqNk0yWrlmymSPOfvK2QPX/ADitm4uEgiZzzgdAetc/5Q+9jHcGnOmY8glvTmui8JS3Hc0jqw4AiJJ6fMKZJqExyUiwMY69DWWV5wqc46Ui4z8w49q19nD+v+HK+Rcae4uEbc5UNjGOlRmMo6cjJINMX7OFG/dnHOKjkZNwEQP41C5IyvcTNZGBAzgGnZqrCkDrjaCV60saql2AgwDGen1FZcq6F20LVGaTrwaMcVAhaKQUtAhMUhWnUhpDIyg9KrNHC1wRKSBt4xVwimPGrclQT7irhLldwKO2IAqFLENyc9qdmPeoijb7uDnHPvSG3nEjFUQgnviohHMGYgdDg4rqck1Za/MaSHGMsAw3AUxk9R096sRsVhClHJ9qa5GQMMM9M1yypu7sJlZ4weQabt4G07jjpUxDZwD19qadueetQpCIcVG5JYkkk+9WPKLZOSTVdwQxB6073GNooooAfUkH+uWo6fCQJQScCmtxx3RLcf6z8KkRDLaKqlchySCcVDOwZ+CDxUeactxz+Jlj7LJ/sf8AfQouyPNAyDhQDj6VXzRmpJLVv5Yt5pHjWQqV2hicc59Knnjg/wBIRIQnloHVsknnHH61nhyFKhjg9RnrSmVySS7EsMHnqKANC5it4VdQF3JgqcNlvr2wfaluAHvpnaOPaijJbdjtzx1rPM0hQIZGKD+HPFKJ5QQRK4IGAdx4HpQBelgihedkiEm0ptQ5wMjJPrTpkU3krvHHtGxcPu4yo4GKzhPIHLiRwxGM7uaBPIGLCVwTwSGPNAF+ZVitrqJEBCzAAnOQMGmzW6fZnARBLGyjCbj17HPX8Kpea+WPmN833uev1pftEuAPNfA6fMeKALsMcJFtG0IJlU7mycjk9KbBAjm0Pl5DBt/vgn/61UvNfIO9sr0OelKs0iLtSRlHXAbFAF6BICLdHhVjIjFmyc8Z6flUE6o0EMscYQsWBC5I4x6/Wq4lcEEOw2jA56UqzSJjZIy46YbGKALFuiiCWVohIykAKc4Gc88VLG6LaDfCrAzkbST8vAqn9ol37/NfdjG7cc4ppkYjBckZz17+tAGjDbRC4aN0Qo0pRSS27j0xx+dMiSFEgDQq5kkKEkngZHp9apieVSSsrjccnDHk03zG4+c/KcjnoaAL6RwxiFWhVy8rISSeACPT60scFukamQKwZ2VidxIAPbHf61n+a/HztwcjnofWlWaRM7ZGXd1w2M0AXV8ryrUSAugL9Afwqvdp5cv3UUMARszgj8eahErrt2uw29MHpQzs7FnYsT3JzQAlFJmjNAC0UmaM0ALRSZozQAtS29xJbyCSM4PQg9CPQ1DmjNAEksrzSGSRizN1JqNulGaCeKAG0jdaWkbrQA2rtvnyV/z3qlV2DPkLz/nNTICXp3oz70mfb8qOPSpAd+NKAKb1IFFADs4pN+zJxTc9fbmkYhkODye1NCuLv3P1xTACuec56U0du9OLcnIIFMQxRk4qQW4OGB9etKm0jIHP1qTeo5NXB2dxEQglUYWZVHsTQUmV8+arNjhvSpWlXBK7T6Diq7zkn/V45GdvpmuiDu9h69hTLMqBdwK9hjNKkk5OEKg9eFxSoI24Ix77ulDiLftGfqG4rR8t9v6+8trUb5s558wj6DFH7/vKTj1NPHlf3f8Ax+l/df3P/H6Xu9v6+8OVlfbucbgcdMDipJXJAUDAUeue1PzF/c/8fpu+MAEoefej3e39feOz2J7JyCcrnj1xVpZmZiFiJI/2hWb5kf8ADGc+5NNkZWA2qQcjODmlyKWtv6+8l6M2I5PMUnbgg4Ip+Kq2P/HvjPOas9a5pKzaACKTGKXFKAakCPp2o4p5FNI9KAAc0mBRS+9IBpFQSsApB4qxUcgXB3AY96admD2KpmjKEYO7oDmo7D/UN/vf0FLO0ajKBc+xzTbE4gP+9/QU6jvElKxb46U3ndmk3e1KCc8jj1rFAKmAQP50/AIOai5BHcdDUgA7cimIcEA7c0oA7gUZ560nH0qQGNgSDb6HFDhmxxyf60jkB87gBg8mrCRrGQxcFvT/AArTWyBFUgBOUy4IGMkdaQwSFuIMZ6DzKfdL84dOSWGfzp9vERIXZuPzzW/tGomitYrvbTZGICPo2af5Nxj/AFPHqH/+vVxZFAbnIHr3pDJg8nJ6Dmj2z/q/+YFFra5f+Dt/f/8Ar1IwuFQboc7WDn5gc1aMoPZs8dqi84nPydRjIPFL2z7fn/mFh8bXEi7kswR/vCkeaWJ1L2wXAJ4YHtUtnO/z7Bu4z1xzzj+VRajKxZC6qhKNkZz2IqoPmdrE7lxTuANFMhbdCh45UU/tWL0YwI9KY2Mc0/rSEZ69aAM+7Kh1IAHDfyqBZVKnKpuzxxWm8KNyyBvwpvkRf880/IVpzKyTC5lodqYU5PuOnFB/1gyR93sa0GhjX+Bfyqjcqoc7QB8v9aqDjqFyzKYZ3gSAqjZOTjvTFQ75I5NpYEcg47f/AKqghVHbawCn1U9amiydzRrgP0B9KUpK1kPQkWJEJIUA8cnkinumBE5xzImCD15qrEm9i0zFguSQG5FWLiFf3ZjjlALqOXB6/jTjBKW4XNHcR/8ArqOZVkH3QD61TjuJY7dWaJyoH3utWUlDjrz6VlKLi7CIWhYdgazoBi4uM9m/qa2utYi8Xdz7Of5moewmTk8e1NzTN5L4A4FLyaiwh+R0pOSeKTABGaMgUgHEHHJqNk3fxHNSA0jYxkdqpCI9uPlGAD+tSJFj5nPJGAKQPgdOQaU/OckkY9qdxkksjhdqjPHOahDHvwaV5CqMR2/SmujbEbefmz2q1G6u2G4xjmQ5bHy9c49abiP+9/49SEYcgsOnWnCNSATIorp6Kz/r7ixpCD+PP40n7oc7v1qTyY+8ymgRRA8SKfwo+f8AX3AESRO/ExQEcknv6U4jyblRHIW4PIPtTHJUAI4x7YFDSFmDFsknGfwq4LXf+vuC5sUoqoPN6+cSPZRT0aRZwjSbwVJ6Yrm5PMm5Y7UDikPTijvUDFoooNMQhppp1IakY0k1nSPKkr7VOCScVommn6VUZW3AoNPLjAXaPXJ4/Ko1kYOGZt22rVxGzrjd19aq7Cp+br7VrBq4WJGO8bsk+9IwyBzkinQeSVw5YDuc/wAsUMI2J2hwPU5xWTiu4aDVOR9KqT/65vw/lVkrjIHY9qrTf6w0nHldhEdFFFAx9A5NFA60AKRRilPWl2HZv/hzigBuKMU9I3kDFRnaMn6UscLSKWG0AHHLAUAR4oxUogclgQFKddxximmNgGPBC4yQc0AMxRipEiaQEjAA4ySAKYRgkHqKAExRiiigAxRiiigAxRiiigAxRiiigAxRiiigAxRiiigAxRiiigAxRiiigAxRiilFACYoxTsUYoAbijFOxRigBuKMUpGKSgAxSEUtBoASkbrS01utACVbg4hU1Uq7bkCJc+9JgSYzyQcUY9OaMjikbGMdCaQDtvPXFKFwM9/WoVbnB7dakZvkJH60CIt/zHB60FsEdST60zllPHINPCE5GcigQ1c7h3qZ13L1FNCbT1HPenCPJPei4giA24AJ/Gh127txx8tToqxxsccAEn1qs+ZSdsbnI9P1ralF3uUkThhHH/rGwR2xz9KhnKFsFjkEg5HC+nQVA4lBCuHB7A/4U4+eP4WHGDxjNaKM07q34F27DlC5IXefTbnn9KlCQnGBNk+i1EkskYP7oEnqSOtL9qcDATaO6jpWl5dgdyQxxt9zzvf5M03y1xndJj/rn/8AXoW+ZV2lAfqRR9r25AhVSeuMUve7BqOVMLg+cD7R8UjhwPlZz9Y8UxboAHMSt9cUvnu+fLRgR02uePwzR73YNRE+Z+Q2ccYXOT2qRIw88asrKD6jGcVAsrgfKmMVYgkaSaEsACCy+/Squ0n8yeZ3L6IsY+UVJUYJp4PFcQDh+tHek6migBTzSEUdO9LQBGaTnNSH6U2gBO1NkAI5706jbkUgM+WH5uU/Om2A/ct/vf4VpEe9Zlj/AKg/739BSk9BMtdKAc9aaQxNBDVmSIEY5A5A5H+f89KkHApE3Dk9PTNOK84BzTGANB5PHSjoOgpjSBeeaBAQhkAbHA+uTUu6JVzg7uwzgVCV3KDuwT/KmmBicEkn0rS2i1C7EnuGLKFxgHP45pondFXBQ8dzSNCN4XnpmnLaKTlmINb3ikloUmAnkBGPLyPQUpuJWBAKceg5pUtoQCfMII6ilWGJmPzOWHXGOPzxSuvL7hkLXEzDaGDD8qWMyucYGcdDmptoVgodhn3H8sUrl1RiJnJAp39PuERxpdchV2Z6jHX86SeCRFHmMgyCf0p43uikyvhhnlqhdRjaS31zwKqMrPf8ALkEsrYijmiJUdMGpWNypXdJENxwODWWiMJA27ac9qtXM/8Aq0flgvPPP+eKi7vsFyy5uUV23xHaORg1PC5kiVjjJGTWe96TCYwMgjGfSrtt/wAe8f0FEl7twTuTCkK+lIOKWsgGlQetQSWqSNk5B6cGrJNJTTa2AqCyjH9786UWyAYBcD/eq1n1pCKfPLuMoy2iojMhcnB4BpsIhyNxuFYHIA/mOKv0n0q1WlbUCrO6i32QxyA4CkuDnGenpSCObdjzV49qkui/lHYOQQeB71VSaUDBjLHucU1eS0Qx32iWCQoW3AHniqsThp5mPG5s/qakGDKd3Uk53fSoLfJaQe4P86K0UooknJx1oBFBpvJ6VyiJAQeRRkntSZ4o79fegQDOe/40oz0P60mTjNHJoGI2Rn+dBPT+tNYtna2OvWkBdjTELJ/q257c05JGHHRf51HKMA4YDA7imgEuMMv5f/XrdRXLqyrEhI3ncvGKN68ZX8QB1pCmOWdVz2K//XpMYz8yHnrtP+NV7ncegu8ZzsGKN+DkqoHpjNMdsDCsD77Mf1pxJC9B+Kf/AF6fudw0JIxFIcOxAxwQOhonSMD5D05NRBnXJAjPHJI6frSs5YEfu1PQ4FVHlvoyXZD1lkEYXfwPapraQvMpJzgEZqslrMw4weOwqW3idLhA4wTnt7UKFk/QE03oaXXmlpgyODTga5ihwNFJS0AJSUUUAJimkYNPpuOaQDWGRzVWa1Z/usPxNWzmkpp2dwKIs5Bn5lGfQ0n2Nl5LLgc8mr/FMlx5T8fwmrUru1gZWUIqFfMj5PZqo3OBO20gjjoc9q1G8tRyuKyp8ec2OmaJWeorkdFFFQMfQOtFA60AOPWp0jeS0IRSx8zsPaoD1pKALkRW2RfM3KzNkgDsOMH9aVYdscqeW0gEgwFOOMHmqVFAF9l3vcfKXyFO1TyPb8Kijify50EbbsD5cc9aq0UAWYklAaNoS65yR0INQzKqSsqnKg8GmUUAFFFFABRRRQAUUUUAFFFFABRRRQAUUUUAFFFFABRRRQAUopKWgBwwSMnA7mprm38jYct84zhl2kfhmoVYBgWGR3HrUk0yuqIi7UTOATk80APhgjkTeZgu374PUD29abPKJMKi7Y1+6v8AU+9Q5FGaAA06OMyZwyjH95sUw80lAEzW7KpJeM49HBqE9KKD0oASmt1p1NbrQAlW4P8AVjmqlWYm/dgUmJkmcdcUx2yR2xTuSPeo3GGHp6UkhDgfm605iT06UwqQme5OMVIASvSgCP7vGakjORkjj2ppiB5JxSqNvAPFPlclogHElpNq8cDtUy28n/PTB+nSoAxWRiCRxgEH604XUq8bcr79fzrVxmkrL8CkObcqsrSc4PG080kXngAxsORjriopJC/Pl4xnGD60gdgMAYXGMYFax5+XYY4pKDja/J7Dr+VOLyqfmZk9CwIp0M7IdwYg9OaVpGlfeZtpx+H8qLT7IBN0u3iVT9GFBE2MlePWkLS4IM6MD1GKdH8qncYcn/Z/+tTtPsgEaBzsyF5OB+VKbST0WnReWpG4xlQ2cHvxj0qb7QmNu2IL6Lkf0pP2n8oWKbWzL94qvfk0RXMiIEQ/Ke31p9wysMJx2+9mq6qQOT+FNc/8oFhbOVgGBGDz1qSzibzA3GEYg+5xVaNmRgQxX/Cr9l8ySMOQZDTqSaT0EWRTvrTad0rkAMUmMcUUE80ALSg03NGcCgBTTTgGlBzRjP1oAaKAfypSOKbQA41l2B/dEY/iP9K0qzLBcqT71MthMudBSbu1OOOKb9KyJAZ9cil3ZGe9N5Ao79aLgL1J/p1oMaA5Xkj1PWjoetNZx9KuLBD+dgAfkH06ClXcBktz05FRbvlyOlIZlxg9RTuO4TZ+0KS2eBTiuCAcY9SaieUNJyMfLj9adgbTnHFb2vYTY8MQQASQOuKad4ctg4b1phkUZ5wcZxSmRfLJCkjvikFxCSZQM44J4pCCcZZiR0zio3Y+YpAx/TpTh0yAx9/T8auUrCSuSAY6uwB6YxULkbvvE4604wb/ALx68g5zxSpGsNwFflRnOOKIzd9ClARAGGRkjvgCrgtrHYrtO4z24JH6VE86eWQiIvB6YFKsoCBcqORkg9alzqMpRITEytIsb5A6kjGRVuEZiT99IvA4GMfyqoJCRI396iMMzKFQnPGauUny6icVctl1wSLiQ8dsUkDecxAmkHpyP8KrskrErjaMdzSxxmIA7xu6YFZ8zDlL0Ds8Ssxye9S5yOvFQWv+oX8f51LnHalL4mJbC9Dg0uR3oFJSGKRSUZFL9aQCUhXNOxTcUDKctiWcsG61ShXZNMvo2P51tVjrn7VcY/vn+Zpzm3GzEPP60nOaM/nSgZrG4gAGOcUZ9DxS4ApD9M0XAXtkmkJA696Ac9sUm3p1JPbPSmkMVCueRTsKRjnGOMdqRlCgnoaYjHIOc0xBKi5xzgqDzUW4DGMdKdIytIvPHamqy+2a6lblu1f/AIYobgdyOaeNuMY6+5pdwXpzT0SUt1jUH1cUrx/lDQZuTAG0ce9KCgOdq59asraMzZe6gH/As4qaOygB/eX0bD2ABovH+ULooiUdPlpshVvT8Ca1orTT4yT9o3Z9Xx/KpgmmjOTC2Tn5jn+dK8f5R6GRFeFMA4IA7083O+eNzgbc8VtLNaIoVJYlA7Ais+5VG1CNrYo+/JIXGQcc1pGa25SUle5GblfUfr/hUsciSZ2HOOvFDMpRsc8Gkj/1z/7q/wBayai1dIfUlBpaTpS9RWYBSdqMYooADSZpaaaAFpDRmg0gGmopiRG2B2qVjmmHimnZ3AzhLIjN8pJJzmq8pzISa1JThCR2rLkOXJPeqck1YSXUZRRRUjH0Dg0UqjJppXdgFJHrRx60pUelG0elOUXF2YPQTj1o49aXaPSjaPSpATj1o49aXaPSjaPSgBOPWjj1pdo9KNo9KAE49aOPWl2j0o2j0oATj1o49aXaPSjaPSgBOPWjj1pdo9KNo9KAE49aOPWl2j0o2j0oATj1o49aXaPSjaPSgBOPWjj1pdo9KNo9KAE49aOPWl2j0o2j0oATj1o49aXaPSjaPSgBOPWjj1pdo9KNo9KAE49aOPWl2j0o2j0oATj1o49aXaPSjaPSgBOPWjj1pdo9KNo9KAE49aQ9OtO2j0pGAAoAbTW606kbrQA2rUOPKGaq1ct03RA54pMB4I28Ugye1SYA6ckUHHUnipuK5GEwOppVGOPWpAoYYDCpFjVR0J9admIgZcqeCMeoojhQxqXA6DpVibasTAYOf8aphsAH7w2j5T0zWqVofMpJdR+xDNu8v5MDGB161KTb94sD/dqMXmAMx/kaBNGzkmRwD046GnzX3KdnsSFLc/8ALI/980hitz/yzYf8BqZZ43zhwakVgwyCCPai6/pj5UVTDb90f/vmmfZ4ewf/AL5NXqWlzf1cOUz/ALOmcjf/AN8002y8cP8A981pZo3YOKOb+ri5TKNueyt/3zSeQ2fuMfwrYzS5FHN/VxcpjKjLg7CcdiOKR0Zmz5ePoMVsYTOOM0zdDuPzLkcYJpqaGo3ZlbCCTtOMdcVp2eQj8EAuSMikuiBbsB3HUVZApyl7lvMTVtAzS9qMUCsRCGjoaDk000AO7Uc+tJSZxTAdS54zTN2PxpQ2aAFpDx9KWgjigBoANZ1gcQt/vf0rRIrOsP8AUN/vf0FTLYTLVMyCaX2oHpisiRDQOtL2NJSAU89+aaQDSkUxOJDu6DtVRAcAcZyMGk2Dk8A1MY92GK8HnjtUJjcA7eRyfpVBYheFyc0vkykZyCD6mplkOOacGXbyMCtPad0MhS3liTdn8QaRYGWMggcccnnFWHJyCenoKRnXPPUUnU8hlYgrIOBkDpmplWUKCEBBPHNRMw89enQ1N5iRqNx5IIrVu9tBx1Qm2RWHCggev4UwxvkE7SaV51JO0EfhTUnVcknnpRZ/ylWJFVtvKAjHrigKQQTGhPuc5qIz44Un5vakeXJPLfT8KfvfyhYsFpGiOAu3GMg+2Kar7ECtz2xmqwlY9B19qBIxJPf2FJ8zVrCJg5GQMn3FSRhjICRx3zVffgc7siphMcggMR9Knll2C/kWLc4hX8f51NuqpDIFiGd3/fNSeen+1+RqpRlzPQlLQnFOByar/aF7BvyNAuUHXd+VLkl2CxZNHbioUnSRtoJ3YzyKk3UmmtwFL4NLuz3phw3saZyppATE4rHU/wCk3H++f5mtVXB61lD/AI+bj/fP8zUy2AkFKMgU0mjPFZCHZ5pucUZ+tIePrQA5ckgVL2IUcioD9cU9C+Aq8epNWmCYjHGM8sT+VR7cHJJzU4+UHAJOKjYe2OxouBB/GK3tH2NYrwCQSDWOQCORVzTMMrRqzKfvHDEV0Jpw/rsPQ29o9BRtHoKyYnnnXfGCFwODM3cA/wBaeY7k9VH/AH+aj2fmPQ0jsHXbSFkHbOfas3y7gfwj/v8ANQVnH8I/7/NRyLuBollz92k3Dn5RWVIZgUUgfMcY81ueDSK8jSFFA3DgjzW4o5F3A1ST7fgKo6o7RwxuhIYPwR9DUZMwJBAyOo85qq3kjGNNw4Lf3yf501FLqNb3HG4XaQNvNTQnMrEf3V/rWegGSNvoavW/DH12L/Wk1ZNP+thyd3csUdDSZ4pc1iSKaTrRmigBKKKSmAlBNLSUARtntUZY1OajaPPSgCtI/FUJPvnFajQ5rNuV2Tsvpj+VAEVFFFAD6VfvUlKv3qun8aGtx560oFIetKOldEUnWd1cpfEGBSHrS/WkPWqrxXJe1hyWgUVNDCjxPLK5RFIHyrkkn/8AVUz2ccZm3SnbFt5C8tuGfWuIzKdFW/sibdvmHzhH5m3bxjGcZ9cU1rQB5F3n5IhJ065A4/WgCtRVxrOMKQJWMgjEmNvGMZxnNPjt4olmVmLSiEsVK8DIB6+tAFCiprNEku4kkyVZwCB3qQwQlZ5PMZUjYKBt5Oc+/tQBVoqy1oFkmXecRoH6dc4/xqz5FutzIi5C+RuOVzjgcigDNoqa4hWMRtG5ZJFyCRg9cf0qGgAooooAKKKKACiiigAooooAKKKKACiiigAooooAKUowQOVO0nAOODSVYtbkRAxSr5kD/eX09x70AQFGCByp2k4BxwaY3SrF1ctcOOAkajCIOiioG6UAMpG60tI3WgBtXYCfIH+e9Uq0bJD5Ib8qTExVQsenB704RHP3hj2qYKATnnFKBnpiiwWEiUjOPyp4XGCeopRwetLmmMgnTMZYjGKbFAGiQ46qKln/ANS1NimjWFAW5CjtWiTcNO4DGtFOajazO3APFWRNEP4v0pfPj/vfpU8k+wFI2jAYA/GmfZpFHGa0hcRf3v0pPPh/v/oafLLsBnZuFAwzY+tP+1TBgTyO4xV0ywnqwP4Uwm3I+8Pyo5ZdguyD7aVYgqGHYrQt9gnch9qeyQHo4/Komjj7NRyS7D5mTC+iIBYMDUguIieHH8qotGpGM03Z0weho5Jdh8zLb3RWQhQNvTJqmW3yFicbiTStuK7c8f5/xpgUgUckuwRdtyyrHyJkPReB+daY6Vjx/wCrfI5xgVrBvl6UTTUVfz/QHuPozikBpTWZIlNzzThQ1AEZycc0vUdaUgUAUwEwMUo96Q8c0vUUAL9aXNIKCTk0ABxWbYf6k/73+FaQ6VmWP+pP+9UT2EyyO1BPPvSj1zTWzngjFZki5oNHvQcikMTBI4pi8FSwGM8ipQMrTcA4AqosRdYYUjpgZx2quzBSccc88YxT0IUbXYkkcL6eo+tP42gKMkfezWtiyoyoWB9KcVkC8JkdqdJGGcHPTj61aixt5bB7+tTYVjPJY8FWH4VG4w2Oa1sqW6fnTWgSUEFc4osFjGZJAyuozgU0+axA4yCcVpG02tjDYPr2qvIiiSLA65z+VbRkm/l+gldaFfY7LyoJx1zR5btjgcH1q0PLzjqadxuwFHTrU8yHZlYRvnIQcd91O8pgOFUZ6/NUrnDAADBoGAGY9AaLoLMi2SA/dU+4NKQcZKj/AL6oz+7zjlqkSN3UEKMheBReI7Mb5rKeI1zj1pHuJR/CBntmnGLaMl1z3qJlXjDkj+VO6GoyYkMpST2HFWLibaimM8k1VwBnnmhpPl4AHI/lQ3d3KVNxV2aEEqyx5HXoRT9oPQdKzY3dSzJwDxxT1dj95256AUFvlaLGf9OH/XP+tT1B1vRzn93/AFqxjiql0MWJQeetFJUCE29xWav+vn/3/wCprT5A4rLX/Xzf739TUy2AeaOvFFGOp7VmIXuKVlKsQe1JjOTUmN8YPccH+lADU6njgU/HOCMVIiCNCMgnrSrjILjn6VXKNIjJ3DFGMjPeh5BI/p9KeE5GBwaEgKzA/hU2mSeXcjvuUj6d/wClRyfeGefSoDGVY/LzW0UuS3mFjTs7hYoACcZC/wDoC1K14gGd2ax4ot0XIJPGP8/lTxbZHOQfpVzWo7F979QMg5/Gon1AZ4yR61XW2jyCUc8dKcIY1H+qP1NRyhYbJeGQbSMjqPao4HJuASTknrmnyRIP4MVGqKG5Xn0o5QszYcFlSTZgEck9fao5YlljKHr1HtWbI3zKBx7etLuB3fL24wKOUroTwxgSS85wvH5mrMZ/fP8A7q/1qnCEO8+WT8ox7cmrcKhXYqhUEDr681pNWT/rsT1Js0h9aBQelc4B60tJ2paAAUhoooASlIyKSlpgNzSUp5pKAGkcVlXn/H0/4fyrXNZN7/x9P+H8qQFeiiimA+nL96m05QWYAdaqDtJML21HHrRSMjKcE0mD61U5Pnb2C99UOyaKbg+tGD61Lk3uwuWrSQKHR2jCNgkSKSCR9KddXXmSTCMDZIV5xj7oxVPB9aMH1qQLX2yTy9u1N23Zvx8230pTeuYyhSPJTYXx8xFVMH1owfWgCwbpy5bC5Mfl/hjFP+2uUKlIyxTYXx8xFVMH1owfWgCz9pwVZIYkZSGDLnPH1NJJcM6yLsRRIwYhQeo//XVfB9aMH1oAtteu0bKUjyyhWfHzED/9VIbtzyVTd5fllsHJGMVVwfWjB9aAJXlZ440IGIwQMfXP9aZTcH1owfWgB1FNwfWjB9aAHUU3B9aMH1oAdRTcH1owfWgB1FNwfWjB9aAHUU3B9aMH1oAdRTcH1owfWgB1FNwfWjB9aAHUU3B9aMH1oAdSN0pMH1oIPegBtI3WlpG60ANrSs8fZ1z2z+PNZtadnn7Mh7c/zNAE4/vc4NSDnFNHHuaVenYUAOHem55pMnOc+1GOcigBd1HTtUIlZiQqE49KfvkPAhbP1q+SQEhwP4QaXI9BTG81FJeBgPrTBKcZ8k4+tHJICYFfSjcvYA1CXYHmFvxNHmP2iI/GlyS/pgTjB7CnYHoKrea69Yz+dL5rgf6psj3o5JATFfQCjA9P0qLzn/55N+dHnP8A88m/OjlY7ExUegpvlKe2KZ5sn/PFvzpfOf8A54t+dHLIVgNupoFug7ZpRNJ/zxb86Xzn/wCeDfnRyyCwojA7celAXHA4FNMz/wDPFvzprTsnLRMB9aORsZOKWmilqBC96Q80dDR2oAQikpSaQ0AJzSjikJozxQAope9NHNLnOKAFrLshmE/71aYxWbY/6luP4v8ACplsJlj8aX0owOuKTBJwOlZiFwc0fWlKkYI5BpMcY/EUAHUcUiDcwX8fwoIKn27VNAmVYnq3yj2FNLULEMjkv8o6dKcHIyc9eKklhESbgfTNRnaFUKOnJqg1F80DipBIp4wfaq/O4jHHrUkQOMj6YoTBMnRXfncAM0/96vQj3OM02I4RR+ftSyuRx0PrVFiNI4j24yMdT1qncr5M0bZyBx+lWHlHJx1qrdt5kiLjOCauG/3/AJABik3g4G31p+FWTLuoGO1Vmd89yMZH0pmTxzU2N1TTWpa3Qht3zMfyFJ56qvCDHfNRhcJk8+lNK5YDAAp2K5YIkNw5GOg+lMDySOFyfTJ7UrAH5Qeh6UpAX7ozQHNFbEeGbnoKUITnHIpHdyR8oGKkeOQpxn1yKZLrDBGd2OM4704wNlMr8vQ1MIeB0x2zT/Lbk7zg0XM5VHJWK8JXyztBPepYIiZFYgbR3pVjji4Hf1qTzVAwP0pXITsIf+P8f9cv61PuqoJD9rDAZ/dn+dWA4cZAwScVcnsJj+KQ03Jpc1IgzisrOLib/fP8zWpmswf8fE3+8f5mlLYB9GcAZ70Zx9aQ88+lZABJHA6VNEcPyflPBqDPBpQ2MZoQi0+7L55Of1zTEaRj83K0B8or9SPlP9KcH+XA71oxj2KYyAKZvO3ABFNbO2lQnIJ/KovdgMcEtnNIOBz3pzvn09KhOR0NaW0FfULd9qg+wH6CpjKcDAA96qocKvt/hUpbjGB61pOLcti0yQSOW4PbtTecAknHfNAYnDbuTTYFARt7Yap5H2C4uMEqSBnkd6eUzjnBxnBNLtUD7y4znFOjKdyBnrRyvsFys4JlBIwfQ/WpY49xPGeO1T4hJ5Kmnq8QGAwFHK+wJtEMC7DKp5ITr+Jq2DwKrIwMkxB4K8fman7CqqE9R4OKOabzS5zWQwFL3pKM0ALmkyKKRhn60AOpPakWg0ALTSKU0GmAlZN7/wAfb/h/KtU1lXv/AB9v+H8qAK9FFFAD6fF/rBTKfF/rBVQ+JEy2ZJL96kVCwyKWX71OjOEzjPNbcqlUfMRdqCsJ5R9RTGUqcGpc7+B9319aZL9+ipCKjeIoSk3ZjKKfFDLNnyo2fHXaM0qwTMWCxOSvDADpXObEdFP8iXyvN8t/L/vY4qWO0kaF5WVkRU3BivDcj/GgCvRUzW7mby4kdzgHG3npStaTLbmZkIUNtII5FAEFFTNbSGZ44Y5H29fl5/EU2O3mkJEcTsQcHA6UAR0VIlvM5YJE7FfvYU8VHQAUUUUAFFFFABRRRQAUUUUAFFFFABRRRQAUUUUAFFFFABRRVq2ihuIzCSI585RieG9jQBVpG6VZulgj2xQ/Oy/fkzwT6D2qs3SgBlI3WlpG60ANrUtD/oiA9Of51l1pWZ/0cBgCMcE9uaALWVHJPNN3Z79ec0DB/CnLjp2oAXqaApGTnNGKCSpHp60ARQHBc5x0q0sDApM77VXnA71lXEhClQfvVGk7rxvbHTrWs/iY4q5oX94ZOg4AzU1sN0Qcjg56/WsoTAlVwOD+daMV2oXDAjkn8zU9CKzs7Itllxkj86QqjDIFMWaNzwwzT9oPI4oMLtDJYQFJB7jj8aPJcHjmlk+515yP51LhgOtDWg1NlcqwPzKR70gxnFWc5PNPwp52ipsWqhU7YpalaJd2eeaTyT2OaVilNEeaXNKVIPK0lBYVBeH92Pr/AENTdagu/wDVD6/0NVD4kBYBGKWmjpS1IARz1o7UUnakAtFJSUwFIpMcUtHagBgODTqO1HAXk496AAGs6xOIT/vf0rQ6Gs+y/wBQf97+gqJbCZZzRnpmkHP1pDWaJJFkBbAz70hKZ++PoT0qBlA5BINKpTBB/l1rTRjJpDlduVLE/dz3qaNRGvzbm4xkdB/k1SjAVzIRkpzn+X61ajl2q0ZwBj5c0DRJMMDbztI/l2/U1Xdt3XvT5JAVOc/N71WIY5Kgt6YqXqDdyTdgr2z2p8cmD7mozGSFyMeuaEA5OeO1GxJZEqDA5z0NNdwWBznPpUWwHkNz15pO+M57j2p3Y7jyysgznn9KikUGWMg4ByPpxRkEMTgjP5/54pzRhihbgYwPzq4StuNMiaIBCx5GKjjG5AduMVaMMZHHTuKQwpEvK546VV4l8z7ldNzFwScds1IttIZCduM+/SpYoAzBgODVgQR90I59aLxYtyNbcADccnFDW/OQ1SGCIdRj8aPIi9P1o93uGgLEFHQe1I3GQoBNI0SD+H8zSNHFtPr7Gl7vcNBQxUfMOaV1LjOcVEwh2j5ST25poEeQCpz9aPd7iBwN2M5x1phGB75NK6KeVWm4UHBQketL3e4aDGyJxzj5P61ZiOMZyR3I7U1BGjbtueKVSGkYKSM44x1FU2mwtfYteVuX5DknqKYRjnseh9aOQhVSVyDyKbt+Tbk49jimVySDPrWWTieb/eP8zWm0SspHPPfdWZjM8vb5j/OplsJxa3JO/GScUnuOlAPXbSEe9ZEgMA8jiggkinYyeT0PAqRIC7AA4Bz1poRGh2qeetSK/wAvAzT5rR04HTHWmpDgnGcntTdwDzCT14xToxnnPago2QrL0oB25Cg49aSGMdcE5704R89M+pprH5s05XIPXnHSmIk2LxnHtTwqsCAv6UKpyDxUiAAcGruxkax/TA9qkEa4wQD+FO4zS5ouxkflrgfKBQqL0CjFSdaQnFF2ABFx90flRsUDoPypQRjNIcZB9KLsA2DsBRn2oLc0nfNAC02gnFJuyKQDhmjtSA0tAC0U3ORSg8UAHSijtRQAmaKDQKYB1rJvf+Pp/wAP5VrGsm9/4+n/AA/lQBXooooAfT4v9YKZTlbawNVF2kmKWqJZfvUJJtGMUxpNxzim7varc2puUSVG8bMn80elRu25s0zd7UbvalKrKSswUFF3RdtFVrO5DSCMZTkgn19KfPcxulwqOct5YBx97AwTVAOQpUE4PUZ60m72rMs0pLqNoMoYw3lCMqVbPTHHb3oknhbz5BNzLEFEe08Hj8O1Zu72o3e1AGi88MrTp5mwSLHh8HHA5H+fSoS0Zs3i8z5lk3DIPzDGKqbvajd7UAaU08M7TL53lgyBw208jGKjuLpJYp9hILzBgPUYPP8AKqO72o3e1AGobiCSeXzJVMLPuwVOenUEd/rWacZ46U3d7UbvagB1FN3e1G72oAdRTd3tRu9qAHUU3d7UbvagB1FN3e1G72oAdRTd3tRu9qAHUU3d7UbvagB1FN3e1G72oAdRTd3tRu9qAHUU3d7UbvagB1I3Sk3e1BOaAG01utOprdaAErUswDbJ+P8AOsutC2mjS3VWcA88enNAFs+wzQRg9cioftEX99fzp32mH/nov50AS9qjkk7CmtcRY+WRfzqEzIf41/OgCGUFhx9f51Dj86n3p/eHT1pv7o9x+dazSctwUmiD+KrKuB37CmYiHcfnTGwzZ3D86WyJa5mWQwqQSuhyrHiqO4g8NTxMRjp+dSRyFzz3x196sR3zYwwzWcsqnqQKcJUx94VXQnlNdLqN+p2/WplYMOCCDWH5qD+MU9blVP3/ANaQuVm0cYFA4Gay01Db1cEe9Wl1CB1ALhfXJpBZlrIPHf3qLbhguOKiN7b5z5qn8aGvrbj96v50BZlgxAnA4qneoVhUn1/oamF7b9RMv0zVe+u4ZIgqyKTn19jVR+JGkXK5MOn4UuahF1BgfvU/Oj7TAD/rV/OszQmpag+0wf8APVfzpftUH/PVfzoAlpKjN1Af+WqfnSfaYP8Anqv50ASUD1qL7TD/AM9V/Oj7TB/z1X86AJc0E8VD9phz/rV/Oj7TD3lX86AJgazrL/UH/e/pVz7VCP8Alov51QtJESIhiBz3qZbCZbU0pP5ioxPH/fX86QzRkk7x+dZ2EKQWOeR2pjjCncMn3H607zo26uoB96b5sROGcHPeqQEqLiIFjyx3t/T+tOOCoA6etQT3COSQwz6CnJNH3cce9DAcqlnEeM8flVmRvLUKvXFVvtEQYkOoJ7g0huU3Bt6/nQCFYlmy/rShgBwPrTXnhkGd4BqLzVyQXU496LBYsryRzTZgy7VUdajhljLDc4Ue5p0tzGxJVhx+tFgGRBscZz3471Oc7CG9SB7VXWZCfvgZPrTxcR7T84/OmBZCELk8CnKDtyzA+9Qi7iIKsylfrTmuIAMCRMDpzRYZKWKkFQBQJSSah+0Qkf61R+NNaaAcLKDn3osxk8kwHA+lQecWJ649KaZYSPvr69adHJAGy0iEemaNRDfOLMcnNN3juTnOKfJJbZYh0PpzURkiD8MuKVhEjZbocH1pEV2HzHHPagSQlQPMUfjSeeiMR5ikY65osA5I5C3UH2q5FIiHYy446+pqolzGgXDr1zRNNCTlXQ/jWlkNEjSxtKxVR3yDTwC6bzyx59O3T8qqpcQqhBYH+tTpdRbRmRc/WqQ72JQcjI5z/n/P40vA71ALiEMf3q4PPXpTvtMA/wCWq/nQbqSaJayTzcTZ/vH+daP2mH/nqv5/5/zis0uvnTEEYLEj86mWxE3dDvU+lODAnkUwMuMFgKlieJMFmBI96zsZE0KdDtyB+tSmRU2hVLN3FRpdRrwGXHT6Upuo1J2ug+lWBYe4U7QR1H5UwbUcsTn0qs9wjLy4496iE4xgsDjpUu4Fxn5JH3elEe0Kwz0Peq3mocYcY75NSfaIQ33wQaAHuo34HI70jJgdMGkNxF1Eg+lSLcQEcyLx70AMbcMDP40+LJJJNMeWFjxKo/GnRzwDgyqPxpgTign1qE3EO4Hzlx6A0faoSeZFx9aYycc0h5qI3UPaVfzphuov+ei/nTAsZwfakLDtUP2mE8eYv500zxHH71cfWgCcN+NKWLDFVVmjDf61cfWpPPgKnMq/nSAkbHc/lSAcnnIphnhH/LVD+NH2iH/nov50wJBmnCoftEOP9av50v2mH/nov50gHnpSg1CbiH/nov50q3MOP9Yv50ATiioftMP/AD1X86X7TD/z1X86AJe1JUX2mH/nqv50faYf+ei/nQBKayb3/j6f8P5Vo/aYf+eq/nWZdsHuXZSCDjkfSmBDRRRQA+kb7ppaRvumqj8SAdF938afTIvu/jTZclvwrRx5ptC6EmaWoFXPJ4FSR/cpTpqK3C4+ilCsVLAEhep9KNrbN+DtzjPbNZDEoopdrbN+DtzjPbNACUUqqWYKoJJOAB3pOhoAKKKKACiiigAooooAKKKKACiiigAooooAKKKKACiiigAooooAKKKKACiipRbu1sZ1wyqcMB1X3NAEVNbpU8tu8MaPJgF+QvfHrULdKAGU1utOprdaAEq1DGhiUlQSepqrVqFsRKM461UVdiY5o0GCEHWneXHjIQYpCwIxnNKGJUY61fI+wtR3kx5xsFL5EWP9XQuTk9VHGaVQSVGQST0HpU2sGpEkUZyCo4p4hj6GPHrmpPk8wrGGJ9xjmnrG5HzKRx2Io0DUh8iL/nmKa8MYH3ADUxGCcqcD14oVfMxyuAfuk0aBqRCGLAygpfIiOfkFWliI+bfkewpwiUc5Y596VwKYgiOPkHNIkMeSSg49aumKNSMqOfU04eWr8AY9qAKXkxHkRDHsDTXtl42x1eDqM8EjtSCUFPlA5PemhlJbTjlVqUWK4xsUHrU4kLrkcAHGMUgaQsSTx2oeoXGLZQ5y0ePXninfZbXui/hSruySxzzxR8oyeM9aVhXGGC125EYOOpFIYLf5cQDmnZUNtGATzimmYDdz93jHvTsFxphhzjylx6iovKiIUCLJzzj2qXeWVPc8+1NZRl+Pp7VS5eoa3J0trVzsMO1toPPFL9hhVTiNW/nSQyRo+7BBxjPWroZGHysM/Ws5WvoUZDwRfPiM5zwKWa3QBf3QXJ7HtWnJGG6jB9aqzxNt5OQOciqU1dXApNDFldq44ycmmrHEWIK9vWkPfrntRXZ7FJb/AIF9BTHEFPHPbmnG3UY6cmmVMAGjALEfRaThbb8iGQ+Ug3ZXOOmKmsII5YCzoCdxGT9BSpb7x8r8HjpU2kjNqw/2z/IVz1baAO+ywf8APIVHJZoMsiAjHSrbDBx3pjv5aFiCcVmlfYRBDFbMfmiAIHT1p5t7UsQsY+UdfWh+ZQvllHPrTA7x4BGSCDg9qbXLuIdsswPmhTI680nl2nXylwR69Kh8wgsQMFjnpxSKvmMwJxnrx15q3FJXJTdx8iQBl/cDnPC0mbbgm2x+PfvSyQgOig4znkmmImDknJ9xSbSS0NEiPdGOfJXk8+1IVQsf3YFPABKheTjpTW3JKQxIwM1rCzk1Yp6JsEiR3OVAC5/Gp5raFYUZVGSR/Ko3Uqo3Pk9lpu5cLyx9aFHZsz5rg8KeWpCYOOTUZgO0sAMCrTpthjfPXFMmmfawQ4Vh0pW20CzbIFgy5GM4IHSnCNDHkrg80uQQcjknrmnx7DCFJwwJxxmteVb2DoXWsbeQb4wqkdj0qmYo4zKrRAkLxz0OKGmkUEAkj6daYFaVvTgCsVTtdv8ArUZItqvlglBggEGm7YQuTCM+n8v51bVJ/LC5TAGKhks3kfczLn8azaV90MSS1TyoisXJTkgZ54qF7bGSI2PttrQiVkQKSDinFgKXNZ7CZlpbl8/KR9RirMNmq/6xVarfBppdVPWhu+yFsMFpB/zyFO+yW/8AzyWkEqn+KonuGG4hwADgDHXihQk9BpiXVvCkY2xgZOM1WeGLc238KlmkZkB8wNz0AxiqzFj34PWtZU5RirFPQCiHpSrEh+8QPwpFUk5JA79etP8A4gOCv1rP3u34CTY14lQcFTTYI1dmz0BFLuzjIPPOc0615Mv502nbUGOeGNGIwxx1wPfFBgTIAB59alkkKYyCcihsjaen+Qakm5E0MYUEg9hwKHgRFDBd2cVMpUJkjvT3wqFscjtQFxba0gZm3rnHQVP9ht8n92KZbEeYcH+GrDdOpHIoAqy2UIOQoA/+vVdrZdyEKvX5qvSjeOuMKeareWQqjeMjOevJoAjFvEWI2dBmkFquwA7dxPXFWADzxwB1pqqAQMk89qLAR/ZEGOF9+KVbWP5QV3HuRUjhTtAYjBP40kY+X7+4Z60WAatvCHyUDDI4pPsyHOI1xzU8fDZAydwqErHz1HB/+vTsAwWyFcbRnHX3pVghXhguRweKkUAJ1O3bSqQONnf+lFgGfZ4D0QGhYLcLtIG7rk+lSAAcgEd6aMiQ4UEADB/DpRYBv2aEnhRjpn3oW3hI5jWpQf72AeuKiBKqNxHTtSsA0wRH/lmBxTVhiORsHBqZyCeBScYyCeuf1osBGsERf7oIpUt4yw/djpT16Hpz0poAZiRxj/69FgGrDCCdyDgUNBGWAEY9aHbHvkipFyXw3Ycf5/CiwESxRFz8q4xS+TFtHyrkn9M0vQsw/Kg8FVAyB60ARrbqznCripvs0QH3FP40xl6iPOfc00mRR0OaljsyRbaN84i74qjcoI52QDGMcfhVgSsATVWUlpCT1pAhlFFFAx9I33TS0jdKqPxIB0X3fxpr5D5FLHwvNOzVuVptiImJPbA9Kkj4WlzRmiVTmVrBYu2MoiguGZQy4UMD3GeamZoprWOJMrEJwoJ6nI5JrNDkAgMQD1GetG87du47c5xnjNZDNHyIpWw0XkhZggIJ+YHPr3pdqSQLG0QhU3CqcZ6YPrWe8zvjfIzY6ZOcUPNI4w8jMPds0AaKrCt1BsVVcTAYUN09896pR7zc/u0Dtk4BGRTDPKxUmVyV6ZY8U1JXRtyOyt6g4NAE94yGRQu3cFw7KMAn2qvTpJXlIMkjOR03HNMzQAtFJmjNAC0UmaM0ALRSZozQAtFJmjNAC0UmaM0ALRSZozQAtFJmjNAC0UmaM0ALRSZozQAtS29xJbyCSM4PQg9CPQ1DmjNAEksrzSGSRizN1JqNulGaCeKAG01utOprdaAEq3bxb4gfLZuDznFVK1rEE2qY9/5007AQMhyGYDqc4+tTpCTtbeQMcEcVPtUkEkH9ailZFJDKeRmr55C3AJDGDn5iOuakDqG2rHjjJ4xiqpuDn5VG09QKQPM5GB22/UVO4ydxkh8DdjI7/wCetNklA3qXJPQY9ab5TBTvcKuOlNHkBjjLmnYVwL56cmrTSfKrFCfQ46GoXOwZjCqPpk0xZi5+bcfx4pJA5XJ2lYAsPTPHemqzFctnnsf8+1I7hRnIokcIMngZpkjsHdndkY6e9B+YbTTY33oGB4qNZRn5yP8AdwcigCd8enGOlIzKgHIAqMMu5X2s4JwFBxTZ0c7BIpUnpSuh2JXlCLlup96Y84EYKnJPaoGAypY4zjrUgZYzyN4xzgcVa2uNIHm/dqFJDd6ZJJvVVPGOPrUsr+ciqinhuBgcDnvTDbzkfcHTtitIRjo5DsKyszb2kCkcD5TzQkZcA7Tk85PepEsuFLN9QRVtY9qgDtUVZQ2iKxUEDZxxThHt4xk1b8snpQY8HBFYDsVRHn6ilWIluSB6VZ2ijHtRcBsccpPJ+UepqTBHWoTcRKxUvyOOBTZLqLy2AY5IPaqVOT6AOmiRkJwAcdayiCCeDxxTzJ0HbvTPWu2lTlG6GtxvPofzp+ZFxnfg9t3WkIXHQ5pApJ46mm4t7lWLMAw0ZDHk4IzntU2kf8ezf75/kKrQI6yIWTAHfFO092jt2YKxXd1A46Cuad5NENo0/lde4IPeoHXzYip+U96cQT1pcVknZ3EQeVI0oZnHBzwKmkQOvPWnfQUopyfNuBSKFThulSRncegBFTyRhxxVVt0T8/nWYbD3H+kR/Q02aMYJXhu1Oyku0klWHpTZYsbQHbk45rZWlZXH6FQFlyVOM4HHXpTWIZyeSCPxqeOBGUtJMEIOMGmlI0TeWLDOOK6Pcg27lN3RFuO/kcUCNzjHNL5qA/6ske5ppkzwFAqfaQtZEWLkaMyBXYgUptVf7snPfiqcb4b51yPrWlan/R0z/nmolN2umMiWzXHzEmplgROg5qSj2rFyb3EJgYwabsUdhSmo2Y5xSAk3hRTN7GkFLgYpgJyx68UvPakLHPA4pk7lTEqqDv684ppXBDuQOlQyPtOTnnFLOJGTYuF9wc1CySKuXwR65q1EGthBKoUBeOxpu45O0gg1GVXkgjPbBpSvyjlaqHNF3VvvGmP2uW3DH9KYYt/cD14pACCNrDPrS4YA/N7mnJyl2+8bdx7EAHhcAcYpsLr5gLKNo9qRidvOOmOlOtXI3HA/Gs5JpXILfmQnqij8OtVISPOlCjgtxx71YMnPKA57iq8TYmlbj73f61Cd2Ms78RgsRgccjNMfDjB7H6U4YIIYLx60mVYHsOegqhAHC725+gp24lNxJGBmmgjfx0x3p428qpIPf8KYD4CPNU5zmrDYzg9TVSE5dTnq1WLghQQec8UgBj0+tVmUlcFyvPY/WpEYEjB4zxio5EXGWYnnPIoAkOS3HTnNNiChmYHcdwJ56ULjjB+UCmnaNwA6/e96YhVVVI2lsVJGFX7oyM9vWmIQh4G0kgdKepKt75NACxElmC8YI5prE/xID16UikbjuPGR+VK3y5wcigA5CEqADTjhlIB+b1qPcAmee2MUzIDEnB5PA7UAS4Izk+vP40nAJBzn/wDVQrBvb2NMR2LnGMdietAD2wwBHTrUUpXeuOOOaUyBo8ck57U1+ZARjHvTSb2HYcW4GPWkDYQdh9e9KQfmO9ehwM9Ki5UL90kc4BNUoNhYkBwvIwM9aTdgc8/SmFicfKoH1p4Mg6ED6UOFt2OwFZGI4JAORTyjHkgA+hNMAmc45P40rxyqMlh0J60KCeiaGkhQADk5pVXOQMnvyelSrbgqMknPNSLEiggAYPWsbgUy8mcqvA6gimhyWyeRjtxVm5k8sbQBgr3qoJWwATx9a6qUXy3SuO1xzFmyqkAduarXbBrhyMY46fSpw+Ogx9DVWX/WGoqxdrtWFZDKKKK5wH0Dk0UDrQApFGKU9aekLSKWG0DOOWA5oAjxRipVgkJbOF2nB3ECkMTguCMFBk0AR4oxT2jZSoI+8AR70phcMwIAKEA5PTNAEeKMVK8Dom4smD0ww5pHhdASw6Haee9AEeKMVKsDtjGBld3Jxx0oEDliAVOBkncMD8aAIsUYpzKVYqcZHoc02gAxRiiigAxRiiigAxRiiigAxRiiigAxRiiigAxRiiigAxRiiigAxRiiigAxRiiigAxRiiigAxSEUtBoASmt1p1NbrQAlaVrJttU4HGffvWbV+35tgD0IIpoTJftBYrjoevOMc4qKY/OCRnB71J5aZztyT3PNRz9Dnr1q0Sx4lCxgqqg+/4VGZ3YcMe/TimIVwSylgOwp3msASqiMdzRLRjWwrGTbtKjGMc/59qRNxPJzzUbZZC5JY9Me9DsfM2gkDHHtxQgZOCSVA5yeme1M80qxB4IP9KZGArA+lStEzgv6ckegobS3EkWYbaGfBklyzdAvFWJtOWVRtlIA7Yzk1mQS+UORkHoRUzXA2gRSFDnoM81JRYuYRaxo8LBSvXn9f0qkxd5fMLb2PXtzT5J/MDLj5W69zmo0AGdpAUD7x45x0pATJOEjKbG+bkk0eT5Ug8zgY5wQf5UwSjylDc0sKoRjPfuM0WsrjHb403KAGUj7zDn8OaaZQkg2Lvj7qwANIrIp68H8/zpgk5+7weCTUgSMQr8ZAB9alhuGJRQhIzyeuKdbWyOu4ZxnjnOatxwhTxQA8CnYpcetHFIYY4pCKRpFXrVZ7xBwOtAiwSB3AqFJ2klZECcHGWbFVZZWk6sKjgaQ7vLiVsnOT2rSEbpsYmX+0yKqlm3HhSfX2pJfNXKuHUnnDZ6UkUrwyMVG1j2PUVMb5ypGOGGD710Svzf8H/ghcrIFOM88cgHFKVHUcJnBPWlDRE/cY/8CpHMZI2Kyj0JzWijeW/9feO4ShFmxG/mLxg9M0+P5pV+UKN3TP1oSFXY7gyjtUyWoVgdxOPWsZSir6kosBcDis6zMxhZUbCFuRnrWiFxVHT/APUn/e/wrCLs7iauaEeWHzHBFP8ALHc/pTEVgeRUw5FADGXapPXFICGGRUmcdaiePa25R8p6ikMXpSOgYYIBpRS0gKbwlORyKQO4ZCDnDZGauEBhgiq0sJUZT8qcXZ3E/IrxyvHE74BOeTUMkzuADjBJ7fjUgjJUoCOTTDbsnU4rfSTtcq6sMwO56Unyj3q2lsyTMFkjJTHJ5ByPemTYYZMkbHGMKuP6Vaop9SSOJUc8nA7+1XbVh5CA1UUhWGGT8qtWwjKhAwZgOcVE6bjHX+twLIwOnSg0AYHFIawAQ9KYQM5qTHFREENTAB3NFOx0pMUAIAA2Wzj2qvO2JozhiBn8anzUU27zEZQTjNXDcaKbuzyMwJAJ4HtUhZ3iGOn/ANammBz0B46cU6Rn8tY2Tgc0ckirsgCuOgPPtSHcDz1qU5PIjx9DRlgeFPsM5p+yl2HzkW49MUBsdRmpCH7jOOgIobcR/q1/AUeyl2FzR7DUkwSCuc8dacAdoGcfSkAPaPv2NPDMI9uznscUShJR2Jk10BXPTGQe1MhALu3oc4qZ0wexHrUUP35cDnPHtWaTTJTLSuNxyOD15pECJ0wR9c01SRt4/AUuF3bScN/tGrAQEDb3qTerHB4J9h3qHgMRuJJPFS7xnAGH9gBQAI27J5yDjNWrofLVMEbmP5H1qwzjYMSDkdDSYEUfAx6U1yuyRsj5jzzTA+3IZTTmIZcgbiOnBoAkQ5j+XkDmmk5fOMcA5pAJmzgYLLjOelKLeUgbmAwMetMaixzsckrgkHHPpSRuN/OeT2oZUVSryk45IqPdEDwjN9apQk9kPk7jjKquD13YOD2pHZBnGcnPH1pROg4Ef60zzmMmcY4xxxVxpvqgcUgErFQAQoBz+lKjgdXHPXihH2LtVTg0nO0HaRjuKfJ5fiCsPUwqSd7MfpSiWFeice9RhmDNgNk46HBFB25yC+T/AHvpScVe1vxKUkS/aVwMYB9hUcLAuQzhATnJXNOQdwFYAY696YYkMgyxAI3Zp05RV1sDTZP5CSiQxyqxUdMAZqGIoCu8Bh3pyW6tKVSQ425yDT/7PAPLn8OKv2kFuzNp9yGfy92YuM9Rmm7yrA9h6HmrKWQU53H8asLCo7A/hWM503YpNpWKDTNvyMAdsUwuzGtTy0/uL+VAijH8C/lUqcE7pDTstAQ5QfSginGkzWIiCdcx/QiqBQ/3SfwrVyDQQK1jNJWauF2ZJDcAAj8Kgk4c5rXmi8zGGxisiYASsAcjPWnKcXGyVguxlFFFZAPoHWigdaAHHrViMoLQ71LDzOgOO1Vz1pKALayK8UzyqSC68KcetK+d85/hMY249MjFU6KALkk/lrGCuSI1KH+6cUT/AHrv6r/OqdFAE8v/AB7wfQ/zqZhvu5of+enT6jpVKigC6hEk8yqpZRHtUDuBio0SVHdBASrDlG64qtRQBLcIscmF6YBwTnB9KioooAKKKKACiiigAooooAKKKKACiiigAooooAKKKKACiiigAooooAKkjjMmcMox/ebFR0UATNbsqkl4zj0cGoT0ooPSgBKa3WnU1utACVdgYCBQT/nNUqkThc1cEJq5c8zCDkntgVDKWbhVI9elITlPmcYOO+e9SI7RqMIFB7la0XLYlpojRJF/gb9KCHIOEIB7DGKtxu75CyLx6L/9ekBG5vMdAQcDjk9P8ad0SmyskTMmMcmpY7UhyWAA7YNTW/KoOB15/OrSxMDUSdtC0VPJKj5QTTIw45yAD6nOa0jtA5wKzZZSI1CfeGMEHpUxTadkPqStFIW3MqqegOCBUMkTqT8intgGmtM5kaQkEnpk9KkF3JswdpGMY/r/ADp2qfy/gFkR4McpEhbbjJ2nrTkeAo27zcZ6A54oJR5AxZRkYPGRSGGEnPnKP+AmtXGTSt+oxvyyKCpIJIGCaf8AZpQvyqT75poG11/eBgCP0q6tzEBy9JuaSSV/vHcrCyZmO/H17VcitEXuWHpTluoMcygfhU0UsUufLcHHXHasHGSWqEKFwOlO6dqUmopJQo61AxzEDqarzXACHbyagllJYMTg9BjtUTOBzgmlcm4ryluM5NQ/IHzKcAnrT1Ktlh9cVDKDnO3Iz6dK1ptpOwR31JS1qr8AsPxpIzbMgDuVbvVcKCf5UFCDyOa3jKaVncu3YsGKPB2zofQGmMmOjKR7MKh+ZT2H0pwlfPU0Of8AeYrSRNDEZScHGBUqwbT8yA/Q0to2zcSDknmrJOeRUVakuayYXGxgDtipRwKRaWsBB0+tZ+nsBGRznd6Vfxz1rKt5HSIhTgZpoDXjORUg4rPW5bptOfarCTY+8W/LpQItUVFHKrYDEZ7GpN6g8sv50DI2G08dDQKVircA80wE556djSAfQVDAijNGaAK726ryOP5VCw42nmr+c8EVVuIyG3Ak/wBKQivtKkgKmCB1HSoshcE7Tx0xUruRtAcLnqcUwqynIK8juorspy0tJjQu53AcuqY6ClWZw5cOrEL3HvTTAT1kiH/A6b5SjH71P/HuP0q/d7oenc1Ac0Vnmd1X5Zsn02VYCysFIuR8w4BTmuVwS6/n/kIsZoNQtDcKMmYf98CnQOXhVm6mk42V0xDuc0hHFKaO3vSAjI9qaeKkPWkINAELsVXj86qzEsc7lJ6elXWQHrUTIifM4zjue1IEVNrMeB2x19qd5Ui87Tx1PPJ/KrWnxpPOxZip6rj86ZPdDzWQYx0OO4rZ2u9AvbQjNzcyBlbDg9iOlQsW25+XJ9CakjL79zDa3oVwMUyT75z17445pLltsHNrYZk55H05oUnsMn60c84zSKccUXj2HcsKW8kgrkHnk0yA/vJOcZNRE1Jbx+Y0nsetDtbQLXJRhY8E5P0qUIDIHAI59cA/hTRbALgkkdeTTx5agfOMe3P8qkfIRS+YskajO0dcDtS5YncEO71PFSb0BICk+h9aPNPGFA9e+aLhyojMUjsT90fnU3lE+wqMyMQQW49OmKaWGck8+uaVx+6iQSRx9wc/SnPcR4+QBTVUSKsjEruz7e1IGLpn5VbOMbO35Vu4JdCbsnNySeD7YApjSgjBJI9+aZGEZDvJDZ6gVIsMUgCKSWx1HH86TUV0G35kLbGV89T0qQNGG+7n605vLEcwdAGAOO3OBTQI+u/GeeRkVrdNWSJdrj18hjjyyCem000iMOflJAHfig7VdCpBx1xxSu6OMkYOD1P1pKPk9Q0FdEj2YBySCMntSGTCbTzxxUTDnIP60h6cD9aORqy1+4FsTmTErYUngdRjt70yRs7flxgnvmiMsCPMQMPYnP8AOhvnkUCLYueecmlGUbq6J90jU7JBJyT2p7zO7ZOc8+lW0tY2AOD+NSC0iByB+tQ6tPsX1uV7IgSHtx/WrwNNSNU+6MU+sJyUndAHFFBpKkApcUUUAIRSU6kNADcUGlNQ3HMeOxI/nTSu7AK7YU45PpWVd4+0vtGBxx+FWZHiR8bN4x2Y8VSkOXJq2ly3Q7DKKKKgQ+gcGinxKGkAPSgTdlcQketHHrUk0aq+AOMUzaPSgE7q4nHrRx60u0elG0elAxOPWjj1pdo9KNo9KAE49aOPWl2j0o2j0oATj1o49aXaPSjaPSgBOPWjj1pdo9KNo9KAE49aOPWl2j0o2j0oATj1o49aXaPSjaPSgBOPWjj1pdo9KNo9KAE49aOPWl2j0o2j0oATj1o49aXaPSjaPSgBOPWjj1pdo9KNo9KAE49aOPWl2j0o2j0oATj1o49aXaPSjaPSgBOPWjj1pdo9KNo9KAE49aOPWl2j0o2j0oATj1pD0607aPSkYACgBtNbrTqa3WgBKepO3AplPUIRznNaQtqmAoGOcZ5qVp3ZQGXCgYwKjaLHQ5HtSeX65FaJRQE0ayOAyjk+hpgVtzDGTnkmiKNTu3Dp3qVVVPuoWz2HNOy/r/hwLNuwCIDjINW0PofyrNSeE9YunXnrU1pIrzkqu0bcfrWc4p6gTXRJaP5Qx54PTpVOOREk/eIrA+vatGSNZMZJBHQg1WFurzurMx24waqnNctvL9RNFeURscxnB9B0pCkoPcdhgHOKtrYICDuPFWvLGOaic4tJbhZ9yjb7vMQkHgEEmr6rntQI19KbPcx264bkkcAVm3fYa0JGwilmOFHU1QuL1pSYoAQP73f/AOsKjZprxwSSF7D1+nrSs0cClUAO4DKnnn39f8/WhIBY1MA+aZxxu4PB9P8AP/66lsJC80ztjJwf51TAM03UAnpk1NC3kzSqD2A/nVr4Zf11A0JZdi5qkWLZOTyTQx3fMee9NwQOOK52xNgTjAA4pmAegINBBzwSPapIs9ADj170xCxw/MCygjFRzqY+qkKSSMHrU8TSuGIcDB2jIpr5YjM6AjIAwO/41001yPW34lFVXA6lv++sf0o3BumfxapZ7YAMxdSR6KB/KnGwx0f9K2c47/5gVhGzcr0HalWMqw3LnnNaEUWxQDjI707YD2rCVROTdh3ZBCRtbcACWJxU6ikMQpwXAxWcnd3EL0oHSijtSAD0rJtlyhzwM1rVk22fLP8AvUATAhVIz1oZj6nGaUjB7Gg424x+QosxArt3IqdGIGd2fpUCEDJB4NOBIyQcE96VwJlZlkwRjNTEkLiqqsWYHrzVoc0DHH3py9MUlKKYBQQCCDyDS4oHNAGbKoSYKfu4P8qqhDt+8tX7whLiNjyB2qmFHqPXmtG2krdv8wQgTJ+Zjn25pNg9TTtyAHn9KVSHPynOPahKb1HzRGbR2zUgmkQrhjgYGBS7G7D9aiZxkc4xRySerFzIvteyNHgoMd6fa/8AHuo+v86zfMzxuH5VaguAkYU9s1XJLlByTLpowSKgFynvUsUgdcjpUOLW5Nx2BTSKfSGpGNxSEelOpKAKcpKRswJHzHp9apkg9AB24rSa2RiSc8mm/ZI/Q1s3HuBno5UA8575pC2TzgitA2aehpj2qhc4pJR2uJ9ykGH8WRTd/NXvseThVLH2pTZ7RllZfqKdofzfgF/IoFgc4qSJiGfBPXtVhrZAMjJBGQarJkSPgd6pWWzuNMVpCTnbz6nmlWQHrSEYOD0PrSBV6Dg+5rLnl3KROi+YSEBY9eKdLbzRoGKcZweelQr5kbbl4xzkVZS+fG2TJI6EGl7SXcLdiHacDPGe+aBHnpk+9ShkkkBAAyenYcVPtCqQKJNuzZNipFuGcAcnH6U/ynQ8YYe/Hao1IByeuff0p4uNrfdJHr0rapGTm7IofFgBwRtO76gUgkQXBzg8dvxqKUxsdwLZJORimBUY8lh+GarlbuKxf2xyj+EMQQT3HFIYgEDMiHnsMVR244ySPbNBYgFQGx+NLll3f4i1JWZfOQlQFJ6AUszISREoxmoVQMQOeamW1X+9+tDurXZV7blhLdCAcc1KIVHvREjbR6YqcCueTbYlsMEQ9KUIB2FP6U3NQA4AUYpKWmAHikozRQAUlLSUALQaTNJnmgB2aM0lFACGoLlSYjtBJyOPxqwabTTs7gZpik/uMPwqpKpWQgggj1rcrIvv+Pt/w/lVOd1awaleiiipAfUkH+tWo6kg/wBatNbky+Fkk/8ArPwqRPLjthI0YcliOSeKjn/1n4U8gmyTA/jP8qHuKn8KDzov+fdPzNNuUVJBsGAVBx6VHtPofyqa7/1if7i/ypFkFFWLeIyW8oXGdyAZHqT37VK8MMdpcBGLujqpJXGOvSgClRRRQAUUUUAFFFFABRRRQAUUUUAFFFFABRRRQAUUUUAFFFFABRRRQAUUUUAFFFFABSlGCByp2k4BxwaSrFrciIGKVfMgf7y+nuPegCAowQOVO0nAOODTG6VYurlrhxwEjUYRB0UVA3SgBlNbrTqa3WgBKcOMU2po9oUE8mmgFVd6nFOwq8E7vrTGkJOM8UoRmpiGs7c89TmpYlkC+lSJEBggfnUuVUVSkBE0TyMM454/rUlrG0U2D3WnRtumXHAz/Spv+XgY/uH+YpylpbyGTCo4v+PqX6D+VSqKjTm7m/D+VZx2fp+oE2eeKXIA64FJ2zVK8m+byWyq5ByPT/P8qhDJJrz5vKtxvfOM4qskP/LSX524bHUH/GkR1C4XaASOP8TULSlsBc46Z/z0q7CJ3nGNq5G08euKrs3OWJJ70vA5NM759aAAZJ3d6kTJkJJ7DJ/E0CPjJpUxvYZ6gf1pp+7L+upJIc/wn8M0vzkYbjsKYiEDKkfjUojd/vdOxrGwxFIGM9cVJEFUkg0vlBY2JxkDik8uRo1I2jI4wvJq4wbVxkDhWdjuKnJ/KmyTvIm1sE5yDirEtpIp+dwD1I9KryQyHkjd9K3ai9X/AF+AXI1ZsbSMDOfpWurBhkGqkQMqDOMj2qxEAvHQ1nNr4ewElGaTNFZjFoNIB70tACYopaSmIKybUMY+CAN1a1ZNtuMZA6ZNNATheeTz605MMegA9c0wghlyCewFT28TSONsf7vPemA2OOMowAyR0Pagoc9sDpzUxATcpGcE0JGGYEE7uw9aTEEFuHIJPOfSrckIQAgmpEjEaEYDE+1RuD1C4z2osA3BxmgUcjjFOC4WkMSilpDQBVuot+GBwVqm0QPVulaLgFSDxVFyV5xnNPna0EyKKJWlCAnk9fwqMSleNpFTH5trcjOTj8KZuI4yRWzqySX9dWNIb5x9/wA6bvUnkVIWPqeKT/Gp9tIdmNDKe1XQixooZVOBk561V4BGKa+cHFS6spaDsbDW0Pl5RB61WtxhDj+8agw+AVkOBgdantjmM5/vGmm3F3FIn6iikBwaU1BIGkpcg0mOaBhSUp5oxQAZ45qOVlKEBh2/nSy/6t/oaqMcIwKgcDacdauCV0yZMuQXH2ab5SDFwGGOnvVyS5t5Mpu3E9u9ZJlWBzlSwPA5+lQCeJWLCNixzzu9aLAWmYIkvBbGMNu7Y4qjEMyv9aUTsRt7E8D+VEPEjn/a7/jVRDqStCShHTNRmN16jI9asmXj+D86Qy8c7fzqeSRRXJIJIxj0NNZl8zOPl9qkdVY8bR75pjheMtnHpT5GAkR3Sen0q+hwD3BqlFt3qF7mrsefqKVRWsA4Qx/3BS+RGf4BTutOFRzS7gQi1iyTtpy26KeBU1KBRzS7gMEa+gpfLHpT6XpSuwGeUufuinCNR2FOFGeaLsBeBSHmikpALVeQB7lUbONhP6ip81A5C3aknA8s8n6itIb6CYNFCv3jj6mo5FgEbbW5xxzT3aN5kBYYwcn8qrysF+XIIPcVrHm0vcdl2BlXqpXHoc9Pzoh8p1y+Ac44Jq1MsTqWRlz3HrVZCsY2g8DnFLml5gS+Xb+v/j1J5dv/AHv1pxlCyIoKlTncaeJI8feFLml5jsReXb/3v1o8uD+9+tSh0zjcKdj2pObW9xEAigJwD+tP+zR+h/Olk4A/3h/On0OcrXTAgsj8jZPcfyqyaq2Rwr/Ufyq1kUqq99iQlY99/wAfb/h/IVrmsi+/4+3/AA/lWYyvRRRTAfUkH+tWo6XOORQJq6sTz/6z8KSOaSMYRyoPpUWS3OaMH1obuKKsrFj7XP8A89WqJ3Z2LOSSe5pmD60YPrQUTRzPHG6Lj5iDnuMdKklvGljdPLjXeQzFRgk1VwfWjB9aAHUU3B9aMH1oAdRTcH1owfWgB1FNwfWjB9aAHUU3B9aMH1oAdRTcH1owfWgB1FNwfWjB9aAHUU3B9aMH1oAdRTcH1owfWgB1FNwfWjB9aAHUU3B9aMH1oAdRTcH1owfWgB1FNwfWjB9aAHUU3B9aMH1oAdSN0pMH1oIPegBtNbrTqa3WgBKljQsPQVFVy2A8sE+9NCYJEAQcc+9TbQgz0pjSBffFQPMzE4pgTyzbM4qAOxbPrTFUt/jU8cWMUmwJo3yy5GOTVhB/pC9/kP8AMVAqYdKmT/j4Hb5D/MU3svQZZBqBD/pUv4fyqYVTmJE0uO+Bj8KIdf66oGaO1cctyazdSUeYrKwb5cYqP7QU6lhULyFn6ZH86fKuhKbEXqBSFgpx3pZQhG5Dg9MCmrGSMn8qlspsUAmnBQGIPalAOcEYp5YA8iobJEU78jnBpYkDSMMjGB/M09MNg4p0CBp5PoP61UPhl/XUZKq54I/GpFVIxy+PxoAVDywz70yR0MqbiuADz2ohG71KSHytGYWG5ThTjnvVKQSFVCz5GOhbp7VZaWAdMH2x1ppljDYwK1SSVtSuXWxSJkUEHDZ75p6TSIBgfrVyXYRHgD746VOYkP8ACKT5UkRYgtcGMetWMUgRVPAxS1nJ3bYwxS0YpKkBRQaBRQAUlFFMQVmWYzGfqa06zbIZiPpu/pQgJ3HK1NDK4KLnAU0wrxzTlPH40wLUsasd+Dk9qdDEFIccADkmo4nO0g8+1ISTnJ4ouImMgLE/KD7UzeTUdO4pXGLupwOaYKcKAFNBpM0UARyfdb6VnyN8+CST3xV6U4RvyqgcNNx0wP61VPe4nuDHBXO4D3FMdgF+Tdn3FTnnOeAKnAUj7o/KtFVTSuhmYXb0NLvPHBrQ+zgglRwOtIIlDDuQRxT9pHt+QakGIAo+aTd34FQZ+fHUeuKuyXEasR5Y471GWWQMwGORx+VVGcW0rfkNplZSVJAJANWYM7OvepxCvpThGorJyjayJFRiRz1qQHIpgUCnDg1AC96OlBo6igBM0E5oooGIwDAg9DxULwgoQpOcY5NT4pCKak1sJpMrSxPIuHC/WofsbdmFXiKMU+byCxQ+xsD1FLZDEk47g/41dIqjAGa6nCtj5ienvTT5tNgsX1AxggUbQeo+lQ+U/wDz0H5UGKQDPmD8qfLHuGo8xoRyBSeUBnv9ab5cg/5aDP0pPLkzjzB+VLlj3DUesS5zUiqADx9Kh8qT/noPypfKk/56D8qXLH+YNSalqDypP+eg/KmkOkiBmBDHHSnyJ7MepapaZsHv+dDKFwRnqKhJMV2Sc+tLSUE1IxQaO1IDS96ACjtSUZ4oAM1WnYrOCMZ2/wBRVjtVW5XdKASB8p6/WtIbv0Gt0Qucy8Sn7ucscd+lOSfNqVIyD0NRCJScHJ7054ti7k+73HpVJ6r+upo0Xl/dkHGVbnFAjSYFyeM557e1VYrgrt3crnPXpU8ql4ysTDa4z9fas9jJq25H5ZRiZBgHjGanQKwH8XPDDtTnYSxYIzyOPxqF4pIW3g7lz6UBcR2yvIwd2Prg1JuqGIYh2k5GVGPxpd6n7pJHv1pvYY+U/KP94fzp2aikPyjnjI/nTs0+iER2h4b8P5VYzVW16N+H8qsZqqvxsSH5rIvv+Pt/w/kK1Qayr7/j7f8AD+VZjK9FFFAD6D0ooPShiY5OlTxwb497OqLnA3d6gTpVlv8AjyT/AHz/ACpLYFsH2dP+fiP9ajljMT7SQeMgjvTKnu/9Yn+4v8qYyCirFvamaGWU7gsY/hXOTQ1sAkrBm/dhThlwTmgCvRUjwTIqs8TqG6EjrRJbzRAGSJ1B4BK4oAjoqdbOczRxNGyNIcDcCKctlKyy4VjJGwXYF5Oc8/pQBWopWUqxVgQRwQe1JQAUUUUAFFFFABRRRQAUUUUAFFFFABRRRQAUUUUAFFFFABRRRQAUUVatoobiMwkiOfOUYnhvY0AVaRulWbpYI9sUPzsv35M8E+g9qrN0oAZTW606mt1oASp1kKxADrUFSIMimgFLFj9ackYp6J6VKsbe1O3mFgSOp1SkVH9qlVXH92lbzHYQr88f1P8AKnYxcj/cP8xSbWLpuxjJ6fSnHi4Hf5D/ADFN9PQRKBVOcZeY/wB3Bq5zUDo/mM6MBu9RRBrUCmsgGCy8cnkZFQBsAADB55qxJAy9WGKhKZcc4+lWku5IRpk/41Iyc9aaUKYO8/nS+USm4SE5qORfzDFYZHpikCMSCfwpDG2OWapEt2IzvP50vZr+YCxHFx6Zotx/pE3Pp/WoQJd20SEkVJFG25j5hBPUitVTUU03uMu2FtFK8ryqGw5AB+gqO/ijjlDLEojXg4wM8D/6/wCVVlMgDhZmX5vXrUfnSeaolYyLyCM5BGDV2ad0xFkQxXDsVtyFI+UIwyPeqrWshuTFGGJz0OM1ODaE7gDGwH8JxVu3lt94uVJZ+46ZJ71HO+35jTaMuLzMrxlQQRWkpyBUNthoV9RUw4qKsryaGOpKKKyAKDRQaAAUd6KKACkoPWimISqFgQIW9d39Kv5rPsB+6J/2qALYO5RS7QBQBiloAUcnmn+1IOBRQAopQaTtQOlIY4cml6Ug4FLQIQ8n6UvakoJwKAIp8bCDVIECf5sAbfz61auQdoFUyAJPmyRj/GtKe79BdR2JFJ3uoVeoxmlUvO21CSEPWopHdieOPWlieSNAqAjnJ96fs5dgLQOxyjDcAoBVRnmq87tu2gbRnvwT/nNNWScM7bmy2M++Ka3mM4ZiSVPGaPZy7DuMYHrk80+I7Nynk5H86aysR0Oe9ChsjIq4QkpLQbaNBZQeakByKqJnFTxHtWNhE1BFJQDQA4dKToaBSmgQGjijqKSgYUYpKUHigBKXFHbPejPFIBuMmqNt/wAfk+PU/wA6vmqNp/x+T/U/zqogW5PlRmHXHFIVf+9+lEpJib2HFOxzTvZDG7W67v0pQr/3/wBKd+tFLmYEaxsOd5J+lO2v/f8A0pktxHEOTk+gqo91LP8AKgwD2FF2Fy1LMIhgyZPoBUPmvJIh64PHFMjtSTukPPpU2RFLCVHAPT1q4PULsnBfOC2D9KH3gplsgsB0psrb5A2MAZpjShnVQc4Yc0ou7Fq1qW6AaQHNArMBwNL0pKOtIBDQKKKAA1A4BuV/3T/Op6hcf6Wv+4auHX0AgdCJsrweTz36U0sSrc+xHrU8ybn+UfMUP9KqyKVOBnheapbx/rqaRfRjpY/40/KiGUrlT0bqKcsowSOPb1pZYg3zqOR1FZ3G1fcmVg4DBsHP61YjkD/KevcVmRSFHx15yafNcgOpQlc9fanYzasT3cHlqXiOBnp+NZ6zEAjcQQOMUrTbjgEke9Mjjd2z5ZPera0RN9C4n+pX3IP61NnioVZTD7qwB/OhpwAQPwqnB2FzC2vRvw/lU9Vrb+L8P5VPSq/GxofWVe/8fT/h/KtMGsy8/wCPp/w/lWYyCiiigB9B6UUUAxydKsRyx+SI5VYgHIKmqy8DFLu9qSEizutf7kn/AH0KZPIJZMqCAAAM1Du9qN3tTGWIpFW1nQn5n24Hrg1YkuYiZyDu3LHgYPOMZrP3e1G72oA057mORm8toyJZAxG1tw5754/Ki6eGOS5RpC5km5UAjaATnr37VmhsHIoLliScknkk0AabXNugiCMpCziTChun496rvJGkFxGku7e6kYBGRz/jVPd7UbvagCxeSLLcs6HIIHP4Coabu9qN3tQA6im7vajd7UAOopu72o3e1ADqKbu9qN3tQA6im7vajd7UAOopu72o3e1ADqKbu9qN3tQA6im7vajd7UAOopu72o3e1ADqKbu9qN3tQA6im7vajd7UAOpG6Um72oJzQA2mt1p1NbrQAlWIUDICRVer9oMxLxTTsAqQj3qVYB6mpUTFP78Uc8hWRF5A/vN+dL5A/vt+dSU6jnkOyIhAM/eb86ekao24ZJxjk07NGcUnJsErCk5qKSRVHvTZptoqkx3tjkg1ANkkkhODg4qHP7z8D/SpFYAjvimgKZeuBg/0q4dRIRuBk+vSnxGMjnj6dqicmRtoNO+zNjKsD7U/eGWVER7jrjnipVhAPQGqBV0HOetOEzLxnvmj3u47ksxaOR9ir75GcVTaRvUg1YW4JZj6tk570MyNztXrWkr9+wECzMpyQGye9Tw4aZM9Cen4GnNAsqbgiLnjg4pir5c6AHPPUfQ1UXKz16AXjBGf4RTfsy9uKlVsgU6sOeXcBkcezpUlFFTuAUtJRQAtFITijNAC0UneigApKKKYhDVHTx+5P+9/hV01T07/AFDf739BQBbFKBSZ4o60AOFJ3ozijqaQxw9KcBSClzigBaKTPFAoEO7Uw05jUUjbVJoGQySZk45xTBzzwfemE5bIoT5UA6kjmkSSJGH/AApwIRigBYjmkgXncepqSBA944JwNorSCTvcY3dz/q2oLf8ATNvyqcqPOdBjAxg56026IEkMjSKMcMM1WnYLoiOccxNSLtZtpQg4zzUrXcJOFbNVYnxMc9AMD6ZoSTvoDLAjX0pwUA8UCl71mAvakxS0lAC0tNFLTEKOtLTaWgYppMUZopANbODjrTVLZ5HFPpCKpPSwrATVG15u5/qf51dqnaEC7nz6n+dEdykWpB+7b6U/FV57iMKVzuY8cVUkuZpjtHA9BTtoBdmuY4+Cdzegqm1zLP8AKgwPQUsdsDzK/wCANWV2IMKAB7UrAV4rTvIfwFWURUGFAAo3D1FMknSMcnJ9BS1Alz6VWnmVWUr8xU1C87y8fdHoKRIuVBPU1cFqA8vJOeenoKmSIrsJ7tip4oQBzT5QP3eP74pQ+IQ9VxTxRj0prOq/eIH1qAHUtQG5iA4bP0oS5VmVQD83TNICekoPrRQAYB6VC3/H0v8AuGpM4qJj/pKn/YP860h19AHNxMv+6f6VHMg2sw4OKexBlXkfdP8ASkkOUYAjpQt4/wBdRlYggtnjnpUqyZUt3A596bMA/Y5qurFTtP8A+ujlZad9GTzQ7xvjyCOoqoxP8S9O1W1lyQwJPY89aikdHf8Adg7j1FHLIrcZbgCXJ5HGM/WtQ7QBg8Gsoq6jJxTnml4w2MVpyuxzzh2JrsKDuXhu9VdzMwOelB3n5mbP1pAWIAzxmhp2BRsi1bn734fyqcGqkTEM34fyqypyOamr8bGth/as27/4+X/D+VaOeKzbvm4f8P5VmMhooooAfT4v9YKZT4v9YKUtmTLZkkv36YAT0FPl+/UyyPFZqY2Kkuc4+lKHwoUPhRX2n0P5UlTfa5/+erUt4cyqT1KAn8qosgooooAKKKUqwUMQQG6H1oASiiigAooooAKKKKACiiigAooooAKKKKACiiigAooooAKKKKACiiigAooooAKKKlFu7WxnXDKpwwHVfc0ARU1ulTy27wxo8mAX5C98etQt0oAZTW606mt1oAStC1tFkgVzM6k54H1rPrStLmFLZEc8jPb3poaVw+ypu2iaU/Sh7Fwfkkcj3NWVuYSODx9Ka12obCMp9jT0KSRV+ySjq0n4GlFsectN+dTNev8A88s/Sl+2MCMx4GM9aLILRIRbKf8AlpMKeLSMjmeYfUVILqRuViH50C5fHMf60WQrR7iDTEYA+fJzS/2Un/PZ6d58mMhAPxpDNLuAyPXrRZENdmJ/ZKf89no/slP+ez1KJX9/zp3mH1o0FdkH9kp/z2el/slP+ez1L5pHYml80+uKLhdkP9kp/wA93pP7Ij/57PVhZsjJLde1IJSe5oug1IP7Ij/57P8AlR/ZEf8Az2f8qseYfU0GYjHWi6DUg/slP+ez0n9koP8Als9WhKT604uMfK2fwoug1Kn9lj/nvJQNMH/PxJVkSDdtLcinbiO9GgalX+zB/wA/ElH9mD/n4kqcykd8Z70vmjAy/B9KNA1K39mD/n4ko/swf8/ElWCx5O8YHvRu+XIbP40aBqV/7MH/AD8SUf2aP+fiSpt5PTNLuOM7sUaBqV/7N/6eJKP7NH/PxJU/mnpupTIQoO4HPYGjQLsr/wBmj/n4ko/s0f8APeSpxIT0b86PNPrRoFyv/Zo/57yVmwgnIDEYBPBrZ80+tYiHGcdTxmk7Fw1JEDMpJd8/Whwy7druc+p7/wCcU5CwYowx8ueKJRiJWHZu/wDn2q2ly3BfHZjCsoKgs2WGRz/n0pwDbypd+Bng0+XpGw7Ngn2/zmkJHnrjkhcNj/P0pcqvYN1fyF8ttwXzWGcd6QJxlpmAxnrSyj5R+PT1NKqHywMe3NVy6tWIurJ3EETHIMr8A557gZpqKzbv3r8HHB61JvCbt7jnPHsc1GsqqCqKWo5V1BvR2FKsDjzJPzp3kkj/AFj8+ppAGPLLgnsalUfKKvkj2MnJiRwW7uI/Pk3njGKs/wBmIB/r5KrxWkouElGNu7JOa08GsGtTVMotYBRxNJVc2zZYq7nb71qSDCj6/wBKjAAJyCc9hTQ7lIWbBSzSPkDPBoFpGz485znoau7Cylf72RSrGqADNAFD7EPM2h2wOpp5sFB/1r1O84M/kKPm7mmyZdzyc4/XrQBA1rjgSyE03yCF3NLIBT3la33EjnA6momld0CZGMY4Naxpp2uEU5MQoMHEkmfrQEGzl5d/YdqHikiBJXgDJ/lU1uHacM/OOfwIrRwgk/8AMtxsKtmSoJmkBI9aDZntM+frVs0x2CLk1yrV6ElGSB4xlpG596aiZI3SuB7GlkcyNkn8KbXfHDrl13LUCYwAxO6TyHb61X2yYGXYH/eqWMbiRvIGCSPXFNdR8vJ4Fc84RTaiQ97CRozuq+a2WOOtWGtAjEPcMOMjmmWar5285AXnmmXO+eZioJGeMelZ8tlqhxV3qTixYjPnN+dQW9v5zyAuw2nt361ciVo7HDDDMMVDp4xJOPcf1qFuJ6B/Z6/89Gpf7PX/AJ6NVyiqFcp/2ev/AD1ej+z1/wCer1dooFcp/wBnr/z1ej+zl/56NV2igLlL+zl/56NR/Zy/89Xq7S0Bcp/YP+m0lH9nj/ns9XKKLBcp/YP+m8n50h04N1mc/Wr1FFkFyj/ZwHSZ6X+zhx++fjpV6jFFkFyl9g/6byfnR9g/6byfnVylosguUfsH/TeT86P7OB/5bPV6iiwXKP8AZy/89no/s5f+er1eooC5R/s5f+er0n9mr/z1er1FAXKP9mr/AM9Xo/s1f+er1eooC5R/s1f+er0f2av/AD1er1FICj/Zq/8APV6P7NX/AJ6tV6igZR/s5f8Anq9H9nj/AJ7PV6igCl/Z4/57PWfcx+VOyZLYxyfpW5WPf/8AH5J+H8hSYFaiiikMfT4v9YKZT4yA4JpS2FLZkkv36mRDLaKqFchySCcdqgkILcGmZpR2FD4UWPskv+x/30KLvHmgAg4UA4+lV80Zqii5ZRRtDLI4VihAAbdgZ78c1KltBcSSRxcbXDZOfud+vpVBJHjbdG7IfVTil819xbe25hgnPJoAv2sMM0g3RxiOVyE5bcB7Y4/Oq84JtLUAE/K3/oRqFJ5IxiOV1Gc4ViKEnlTGyV1wMDDEUAWYCRp1yvlgncvUHI61LLBF+9QQBQkQcSZPXA/DvVEzylmYyuSwwTuPIp9xdPOeWYJgDZu44GKAIaKTNGaAFopM0ZoAWikzRmgBaKTNGaAFopM0ZoAWikzRmgBaKTNGaAFopM0ZoAWikzRmgBaKTNGaAFqS3nktpRJGcHoQehHoaizRmgB8srzSNJIxZm6k0xulGaRulADaa3WnU1vvUAJV62WPylYkEkHg/U1Rq1Cx8n5VOQeaaAsSIrMNuOeOKjYbQu0fNnqBUhzk8YwcZ9aa2QhAznI/KqEWN+5SApBPr24pJACc4B49KYr7VA5PAGTTgThefY0CI0OJJM5GPSldjlc/3sfWmkYkIUjlQfrTn6H0OPw5FADmIAGM9Rx+NKMBgw+lMPEeMdM4pW/gycdv0NAEiyJ2C5pUKg5zwB0qJ40CZXOcZ5qFGPzcc1DTAuhozyP50bowfmYjjtzWfvYECjzCQAaVmBoM0WBh2HsaE2MflfHGeaoKQxO5iAOafH80gCvn2wadmBcPC9c47+tKskeAG3BvWk3OqbQUIOM5pguXDk7Y8gYPy9qt8qBeZa8y1UYYtnHfNITbv/q3IY9+eKpvdF0YHGPpTBcYXAwO/ApXXYC8ytgKjK7Z6Ac0eVI2EMbAHgmq63b8YbPGKcbtwTjgfWpuNOxY+yThAFZcdMFaUW7qcuuQMghRjPvVd71xnsT2qvJeSufvH3p8wi9Ii4AWNgS38VMYoCRj8xVEXDkltxNK07MfmbJxSuO5bxukGACOxpHXaSCufaqy3UisSMFfTFSLe8Y2DPrQFyQRKzdMCm+Wop63pI2uqEH8Ka10j8CMKB6UBoIUAGTg04plegwKi+0DoOgFJ52OMkg+tINCQMAegrKUgqBjBBJz+VaJuc5+RfyrOR1Ucgk01qOL5dR8Zw4PJzxUxXcm3B57moBIx+4n5Cp0s7mT7wKgf3jitU0lYmV5O60EJUIFJAGc/lTPNRTkAkmrQ0+OMZmm6HoOKmK21ts2xh887jzwehNLn7C5e7KUfnSsNkZx1OBVlbO4Odzqqg/U0+S4mKBEUKSuRjk9cY/OpJUaZfNGdu1GwTgDrn+lS22NJCrpkW7dJlznvxVmO3iiA2IBj0FVzfM6FokAHIyx74zVeeVpVIErM2eAvTrQaqm+oyYDzXx03HBNInK1GqkDBHI/SpFPyn2roRyyWtkaFvIhhUMQCPepSuKwpV/eEEgkjNbSSMBJvIbYM9MVjKOrsarYSbov1qNpI4xl/wAPrTpvM2KdgAz61SkZt7CXhSc8/WlysZb8zI3EYXGaY0uCAExk04D9yuPm+QfjVbzAu0qdxJ6kcURi5bFRta7EcCO8MvUZqLzHZuCxJ/z/AIUr/MXYnJ3ehpm3OFAGT3rqjSUUJISZWLYlB3Ad6d9nkjRDgfvAcYPtTHUiMHkg+lXIg7iMs2VQcCnP3ddB3sV1ilBwysef0q2ibWLc8jHJqSkrkdRsT1CqdxKXO0dBUss/DKFPXGaqfLtJJIbt6V0UIW96Q0AUEdaCuBwc0AAngnpT2VAFKFjk45xXXzFXGIrbgB3qRwDIcdqQsm4c4x1GetSCazJKtvXbxkfxe9efOC63M1fcfAdkch6FhgAVViDmdAcqMj2qa5aIJGIW5PU1HanMoMpG3vmp5Y7alxulcvXDg7QDnvVew/1tx/vD+tRzMvmnb90nipNO/wBZP9R/Wk4paogu0UtFIAoopaBCUtFFMApaKKACilooAKKKWgAoopaAEopaSgQlFLRQAlFLRQAlFLRQMSilpKQBRRRQAUlLRQAlFLRQMSsa/wD+PyT8P5CtmsbUP+PyT8P5CkwK1FFFIY+pIUEkqqTgGo6mtf8Aj4X8f5VMtEwFnhWKTaCSMZ5qPaKsXn+u/ChEiWASShjlsAKcUQd4psCvtFG0VY3Wv9yT/voU24jWOQBM7SARn3qgIdoo2ilooATaKNopaKAE2ijaKWigBNoo2ilooATaKNopaKAE2ijaKWigBNoo2ilooATaKNopaKAE2ijaKWigBNoo2ilooATaKNopaKAE2ijaKWigBNoo2ilooATaKNopaKAE2ikIxTqRulADKa33qdTW+9QAlW7QnGMkD1z7/wD16qVbt8qgOFA65J5poCf5SpYHJz1pGLYYdGI4I9aD0yT978M0mTwc+2aokVZMRZwcjP60sb5wOSc9qbnETKAdynJz7VHETuA4z70ATAgSrxnII4pZMMn4ZB/z9KYch1bOccdPanOex+6RjFAxXyUI7mhmUY3dOopocb9uckd6DEGOWJJ9u1NWvqCVyQgPzyB25p6gnpSJHgDPQUyeRguEIHPepe5qly7jpSoXJAPvUtuqLEu61dzjrtqo2+UgMQuBnk8Vat2mbcol4XjOM1sopQ5mRL3ncbMIp41EICbhzx7ikgtHjG4SDnuBTprbZAMPyvHPGaWR3t440QgnByWrHeVokkMxyBsYnPem70DAMufU0xfOHAzx9aRllbkrk/StlTjfUrQlEsBQAQdOpzTpId8CyRxqBnse1QqrKMuqr0+8Ks27AhtxAVcAlR1zUzjBL3Qdug1YUAzhhxyc1Wy64GKtmTBMbEcHkVDK3zf7PFYsgYVyB2NN8srngnPepkUOAeeOlSbR0NRzAUirKDwfypvIbGOa0di9aNi+tHOMzwSQFFORCcZIFW2iQ88fhTfKXGMk/jRzIRWKDON3SlGQeoxVjyUznkEU0IrdRginzICJsnjGKTYxGMj86laMY+U81GEZe1F0MaEZSKn021imiZ5E3Hdjk9uKi2t34qzpLhbZwT/Fx+VUncC7GiLwq7e3AxmqlxLNHcYztjXHI4yCeue+MirgDZbapBz1Y9fpSOYU+eYpuxjJ796YWZUEDzS+YgKsduSc44zwfyWp0s8pGJGGUBXjuvYUG83HEMZb3PAqMCeZsO5HsvFA7dybNtbIiEg7PujqetQXLyXSqqqUTvnqakSCKJsHH4UOVU7s4Uc80DTtqiGKzUMFZs9/arCrFEXAAI7VSmuwrfuySR3qNrhtm5nyePlxV20Jk292Pmx5hxjHtSKMqR0qNs/fP8XIFSR8E+tbpWSMJaaj/KEifMeR0IFWtpIfLZZxjpim2+CrgjNS7TnIrCUmpG0XoDyO0YXZ0x3qrJveX94oII4BPTH/AOurO7DBSOTnFQzsySxsq5PPGaIyV9iiE+YHcc/LxgHpUYD7E4OByDu/zihiksjM5WNnOckHj8aeiRmZV86I4Hvj8TW6qLuJDGYgyYV1JHPze/61M0W14SFbkHBD9eP0pjQs87INg+UH5emParQREOVUA051VEZEluPLUSFsjnGeBUiqsa4UYFOzSGuSU3J3YCUyWQIOOTTidoyapyv5kgx0qqcOeVhjDHI7FsdDzTlgc8lCQenFK3L5Bzk+/FMKn+5+ld6RNxzQv1VD1xyKjDEMFwSKeUYkAc5OB15p0agoSwJA9PrUVW0lYelhsfmC4IQAsQetRLZyiVAyAgnsaey/OSCRnuDUtsMS72DyBRgd8Vzzu3dCS0G3U0qy7doG3Pv1FWoHMlrufAbOAcflULTSmRcxqSnJGOxp11M5QbQ0ZPXI61DjIp7WGyz8eSYdoH3Sfr1o0zl5/qP60zz2eLbJgsO4+tP0z78/1H9aJK0UmI0MCjFFLWYCYopaMUxCUUtFMAoopaBCUtGKKACloooAKKKKBBRRRQAUUUUDCiiigAooooAKSlpKACiiigYUlLSUgCiiigArF1D/AI/ZPw/kK2qxdQ/4/ZPw/kKBlaiiikA+pbb/AF6/j/Koqmtf+Phfx/lUy+FgS3f+u/Chv+PJP98/you/9d+FNjneNNoClc5wwzSp/CgZFU93/rE/3F/lR9qf+5H/AN8CopJGlfc2M9OKsB8FuZlZi6oi4yzZ7/SnvZyruHBIcJge/Q/Q0W10YFdMMVfBO19pBHvTob1oppJNpbeOAzZIPY59qAESz8yVolmj3hioXn5sfhTZo1W2t2Awzhtx9ealtb77OqDYx2sW+V9ob6+tRefG0caSxMwjBHD4zk59KAH28cRs55X2l1wqhs8Zz6Uktk0aviVGZACyjOQPXp70wzIIpY44yquVPLZxjPt71Yu7mMSSiJAWdQpk3ZGOOg/CgCjRRRQAUUUUAFFFFABRRRQAUUUUAFFFFABRRRQAUUUUAFFFFABRRRQAVatp4/LNvcjMJOQw6ofUVVooAsXVwsu2OJdkKfdXufc+9Vm6UtI3SgBlNb71OprfeoASrUHCIdu4jPHpzVWrEbL5SgjkHrTQmWT90AgACk5/AHvSBuAR+tNYnJUEc88kCqEPyNrJg896hUktnueak4U8EHPUk09YgQAc4HTFAxu8JkdTj+lKYy/3+npTxGicAfhT1jLckDFK5UY3BF+lSAKo7UhSNV5UflUPmISdu0EdQBSNbqKHyPx6U0RDZFIzAlz0HamIDK4HaryQooHyjP0pxmop3MnruLGmMknJPepgKaox34+lPrMCrcPGxMb9vfFU5ZRI2Bgbfc1NP/x8yHj+HqB6VV2xM2W698V0w5Y9P6aEKGZeRIOnTNHmt18wfTFNCRDkUbIuvNapx/lCy7DmlMmAzA/0pUkaMEIRgkEimiOP+6TildAWCpEQf1NOLi3blBJdC5LGMiQqMt3pNiMpyCc0uyZ5iGyqckZxjtj+tADA84H41yWsIhCuCdqkKD1PenHd6U/LKDtI5HrTWYqASODWco9UA15Cq5xUcUhOS3c9KS4fMffrTIArEE8YHaptoIsFsikDZ470EikK55BpAO2nBPNAHvQDjv8AjQzZJODRYY1zjoKaD0pc5HBpM0ALmjTnMcDMq7iGPHrwKTtS6f8A6hv97+gq4AWC1zNnnYvoo5pYLdGYk5JAHJ5NTrMFQAA5H5VUku0iz85LHqF61Y22TiRYCxYdOOKikvELZJI/CqUl20o2gbR+tQ5OCWJJ96tcqV2hF17zJ+QfUmkkcPE6ktkjuKqph89Rjk45rUU7gjEcMo4ovHsIySCBzz9KQE54zV+RIpbltmdpGTj1p5hXGEGPwpydrDuVvmKgt1xinx8Nj86XypEUb+QOnNIp5HvWqd0YSJ4iRnFS+YR1qOFdzEe1PZSvBrCp8RrD4R4ekdVfG4cjpzUfIpQ1QtNUWO8iM9j+ZpptoRxsqQNxSZNPnl3Aakax8gc4xmlPNLSUm29xhRwBk0YqGYluF7UgGTSblbB4BAx61HbM6sXjjLEcH5c1G7NgAjGTSukqKNxTJ6qD0rpppRjd9Qk0TxLOWPlHDdeCO9TBr4KQwU57nHH0qoIM7NsincMtgjikkSVFJ3BvYGr93y+5kaE08lwkapLyN2Qfp9KZEcQSYx83v6df6VGXjMIX5vM3ck9MUZU7VzyTzU1HZWRSsK6FMZIyfSrEH7q2Z9pbPYVXmbc/HQDAq8A0cSqq84H0PSuZFSehFBcGSQZC7n6bew96gu2DTHHQVdV1Ck4xtG7pj/PSs1mLMSep5oYR1dxtWdM+9N9R/Wq1WdL+9N9R/WkhyL9LRijFMgKWiimAUUUtAgooooAWiiigAooooEFFFFABRS0UAJRS0lABRRRQAUUUUDCiiigBKKWkoAKKKKAEooooGFYuof8AH7J+H8hW1WLqH/H7J+H8hSArUUUUAf/Z' style=\"width: 100%; max-width: 1098px;\"/>\n",
       "</div>\n",
       "\n",
       "<script type=\"text/javascript\">\n",
       "   (function() {\n",
       "     var container = document.getElementById(\"focontainer-f6ac7e4f-e20f-41a4-afd3-732b6b16cf80\");\n",
       "     var overlay = document.getElementById(\"fooverlay-f6ac7e4f-e20f-41a4-afd3-732b6b16cf80\");\n",
       "     fetch(`http://localhost:5151/fiftyone`)\n",
       "     .then(() => {\n",
       "        overlay.addEventListener(\"click\", () => {\n",
       "          fetch(`http://localhost:5151/event`, {\n",
       "            method: \"POST\",\n",
       "            body: JSON.stringify({\n",
       "              event: \"reactivate_notebook_cell\",\n",
       "              data: { subscription: \"f6ac7e4f-e20f-41a4-afd3-732b6b16cf80\" },\n",
       "              subscription: \"f6ac7e4f-e20f-41a4-afd3-732b6b16cf80\"\n",
       "            })\n",
       "          })\n",
       "        });\n",
       "        container.addEventListener(\"mouseenter\", () => overlay.style.display = \"block\");\n",
       "        container.addEventListener(\"mouseleave\", () => overlay.style.display = \"none\");\n",
       "     });\n",
       "   })();\n",
       "</script>"
      ],
      "text/plain": [
       "<IPython.core.display.HTML object>"
      ]
     },
     "metadata": {},
     "output_type": "display_data"
    }
   ],
   "source": [
    "session = fo.launch_app(dataset)"
   ]
  },
  {
   "cell_type": "markdown",
   "metadata": {},
   "source": [
    "<span style=\"color: #212529; font-weight: 500;font-size: 20px;\">At this point, we can begin the data curation process and begin to look for issues or mistakes in our datasets. We can leverage powerful features within FiftyOne to help bring new insights into our dataset and create high quality subsets of our data to train on.</span>"
   ]
  },
  {
   "cell_type": "markdown",
   "metadata": {},
   "source": [
    "- [Visualize embeddings with FiftyOne Brain](https://docs.voxel51.com/user_guide/brain.html#visualizing-embeddings)\n",
    "- [Search your datasets with text prompts or sort by similarity](https://docs.voxel51.com/user_guide/brain.html#similarity)\n",
    "- [Find image quality issues](https://github.com/jacobmarks/image-quality-issues)\n",
    "- [Find exact and approximate duplicates](https://github.com/jacobmarks/image-deduplication-plugin)\n",
    "- [Find outliers in your dataset](https://github.com/danielgural/outlier_detection)\n",
    "- [Create interesting views of your dataset by filtering, slicing, sorting, and more!](https://docs.voxel51.com/user_guide/using_views.html)"
   ]
  },
  {
   "cell_type": "markdown",
   "metadata": {},
   "source": [
    "<span style=\"color: #212529; font-weight: 500;font-size: 20px;\">All these curation tools, the MLFlow panel and more are powered by <a href=\"https://github.com/voxel51/fiftyone-plugins\">FiftyOne Plugins</a>!</span>"
   ]
  },
  {
   "cell_type": "markdown",
   "metadata": {},
   "source": [
    "<span style=\"color: #212529; font-weight: 500;font-size: 20px;\">Once you have created a view you like, we need to export the dataset in YOLO format in order to train YOLO9. We do so by randomly splitting and using the `export` method</a>:</span>"
   ]
  },
  {
   "cell_type": "code",
   "execution_count": 22,
   "metadata": {},
   "outputs": [
    {
     "name": "stdout",
     "output_type": "stream",
     "text": []
    },
    {
     "name": "stdout",
     "output_type": "stream",
     "text": [
      " 100% |███████████████| 1779/1779 [12.3s elapsed, 0s remaining, 126.8 samples/s]      \n",
      "Directory 'VisDrone_curated/' already exists; export will be merged with existing files\n",
      " 100% |███████████████| 6308/6308 [43.9s elapsed, 0s remaining, 91.8 samples/s]       \n",
      "Directory 'VisDrone_curated/' already exists; export will be merged with existing files\n",
      " 100% |█████████████████████| 0/0 [6.2ms elapsed, ? remaining, ? samples/s] \n"
     ]
    }
   ],
   "source": [
    "class_map = {0:\"ignore_regions\",\n",
    "             1:\"pedestrians\",\n",
    "             2:\"people\",\n",
    "             3:\"bicycle\",\n",
    "             4:\"car\",\n",
    "             5:\"van\",\n",
    "             6:\"truck\",\n",
    "             7:\"tricycle\",\n",
    "             8:\"awning_tricycle\",\n",
    "             9:\"bus\",\n",
    "             10:\"motor\",\n",
    "             11:\"others\",\n",
    "}\n",
    "\n",
    "# Replace below with you own saved view, or use the whole dataset\n",
    "#curated = dataset.load_saved_view(\"Curated\")\n",
    "curated = dataset\n",
    "\n",
    "four.random_split(curated, {\"val\": 0.15, \"train\": 0.85})\n",
    "classes = list(class_map.values())\n",
    "\n",
    "for split in [\"val\",\"train\",\"test\"]:\n",
    "    view =  curated.match_tags(split)\n",
    "    view.export(\n",
    "        export_dir=\"VisDrone_curated/\",\n",
    "        split=split,\n",
    "        dataset_type=fo.types.YOLOv5Dataset,\n",
    "        classes=classes\n",
    "    )\n"
   ]
  },
  {
   "cell_type": "markdown",
   "metadata": {},
   "source": [
    "## <span style=\"color: #A6a7a9; font-weight: sem-bold;font-size: 30px;\">Beginning Training</span>"
   ]
  },
  {
   "cell_type": "markdown",
   "metadata": {},
   "source": [
    "### <span style=\"color: #212529; font-weight: 500;font-size: 20px;\">We will be training the brand new Yolov9 model for this example! I have created a fork of the <a href=\"https://github.com/WongKinYiu/yolov9\">orignal repo</a> that has MLFlow and FiftyOne hooks added in the appropriate spots. Below are steps to clone and install the required packages:</span>"
   ]
  },
  {
   "cell_type": "code",
   "execution_count": null,
   "metadata": {},
   "outputs": [],
   "source": [
    "!git clone https://github.com/danielgural/yolov9_mlflow.git\n",
    "\n",
    "# apt install required packages\n",
    "#apt update\n",
    "#apt install -y zip htop screen libgl1-mesa-glx\n",
    "\n",
    "# pip install required packages\n",
    "!pip install seaborn thop\n"
   ]
  },
  {
   "cell_type": "code",
   "execution_count": 10,
   "metadata": {},
   "outputs": [
    {
     "data": {
      "text/plain": [
       "'/home/dan/Documents/databricks/yolov9_mlflow'"
      ]
     },
     "execution_count": 10,
     "metadata": {},
     "output_type": "execute_result"
    }
   ],
   "source": [
    "os.path.abspath(\"yolov9_mlflow\")"
   ]
  },
  {
   "cell_type": "code",
   "execution_count": 11,
   "metadata": {},
   "outputs": [],
   "source": [
    "package_directory = os.path.abspath(\"yolov9_mlflow\")\n",
    "if package_directory not in sys.path:\n",
    "    sys.path.append(package_directory)"
   ]
  },
  {
   "cell_type": "markdown",
   "metadata": {},
   "source": [
    "<span style=\"color: #212529; font-weight: 500;font-size: 20px;\">The weights of the pretrained model are not available in the repo yet so we need to download them:</span>"
   ]
  },
  {
   "cell_type": "code",
   "execution_count": 35,
   "metadata": {},
   "outputs": [],
   "source": [
    "!mkdir ./yolov9_mlflow/weights\n",
    "!wget -P ./yolov9_mlflow/weights -q https://github.com/WongKinYiu/yolov9/releases/download/v0.1/yolov9-c.pt\n",
    "!wget -P ./yolov9_mlflow/weights -q https://github.com/WongKinYiu/yolov9/releases/download/v0.1/yolov9-e.pt"
   ]
  },
  {
   "cell_type": "markdown",
   "metadata": {},
   "source": [
    "### <span style=\"color: #212529; font-weight: 500;font-size: 20px;\">Below we define some helper functions before we start, feel free to take a look!</span>"
   ]
  },
  {
   "cell_type": "code",
   "execution_count": 7,
   "metadata": {},
   "outputs": [],
   "source": [
    "def serialize_view(view):\n",
    "    return json.loads(json_util.dumps(view._serialize()))\n"
   ]
  },
  {
   "cell_type": "code",
   "execution_count": 8,
   "metadata": {},
   "outputs": [],
   "source": [
    "def experiment_exists(experiment_name):\n",
    "    return mlflow.get_experiment_by_name(experiment_name) is not None"
   ]
  },
  {
   "cell_type": "code",
   "execution_count": 9,
   "metadata": {},
   "outputs": [],
   "source": [
    "def create_fiftyone_mlflow_experiment(\n",
    "    experiment_name, sample_collection, experiment_description=None\n",
    "):\n",
    "    \"\"\"\n",
    "    Create a new MLflow experiment for a FiftyOne sample collection.\n",
    "\n",
    "    Args:\n",
    "    - experiment_name: The name of the MLflow experiment to create\n",
    "    - sample_collection: A FiftyOne sample collection to use as the dataset for the experiment\n",
    "    - experiment_description: An optional description for the MLflow experiment\n",
    "    \"\"\"\n",
    "\n",
    "    tags = {\n",
    "        \"mlflow.note.content\": experiment_description,\n",
    "        \"dataset\": sample_collection._dataset.name,\n",
    "    }\n",
    "    client.create_experiment(name=experiment_name, tags=tags)"
   ]
  },
  {
   "cell_type": "code",
   "execution_count": 10,
   "metadata": {},
   "outputs": [
    {
     "name": "stdout",
     "output_type": "stream",
     "text": [
      "{'lr0': 0.01, 'lrf': 0.01, 'momentum': 0.937, 'weight_decay': 0.0005, 'warmup_epochs': 3.0, 'warmup_momentum': 0.8, 'warmup_bias_lr': 0.1, 'box': 7.5, 'cls': 0.5, 'cls_pw': 1.0, 'obj': 0.7, 'obj_pw': 1.0, 'dfl': 1.5, 'iou_t': 0.2, 'anchor_t': 5.0, 'fl_gamma': 0.0, 'hsv_h': 0.015, 'hsv_s': 0.7, 'hsv_v': 0.4, 'degrees': 0.0, 'translate': 0.1, 'scale': 0.9, 'shear': 0.0, 'perspective': 0.0, 'flipud': 0.0, 'fliplr': 0.5, 'mosaic': 1.0, 'mixup': 0.15, 'copy_paste': 0.3}\n"
     ]
    }
   ],
   "source": [
    "import yaml\n",
    "\n",
    "def load_yaml_file(file_path):\n",
    "    with open(file_path, 'r') as file:\n",
    "        try:\n",
    "            yaml_data = yaml.safe_load(file)\n",
    "            return yaml_data\n",
    "        except yaml.YAMLError as e:\n",
    "            print(\"Error loading YAML:\", e)\n",
    "            return None\n",
    "\n",
    "# Example usage of loading hyperparameter yaml:\n",
    "file_path = 'yolov9_mlflow/data/hyps/hyp.scratch-high.yaml'  # Replace this with the path to your YAML file\n",
    "data = load_yaml_file(file_path)\n",
    "print(data)"
   ]
  },
  {
   "cell_type": "markdown",
   "metadata": {},
   "source": [
    "### <span style=\"color: #212529; font-weight: 500;font-size: 20px;\">Below we define our core `run_fiftyone_mlflow_experiment` function. This will allow us to pass in our FiftyOne dataset or view and begin a training run. The run will be stored on MLFlow with information of the hyperparameters, dataset contents, and metrics during training like mAP score! A custom run will also be saved to the FiftyOne dataset that saves information like the tracking_uri and experiment name from MLFlow! </span>"
   ]
  },
  {
   "cell_type": "code",
   "execution_count": 14,
   "metadata": {},
   "outputs": [],
   "source": [
    "def run_fiftyone_mlflow_experiment(\n",
    "    sample_collection,\n",
    "    training_func,\n",
    "    experiment_name,\n",
    "    experiment_description=\"\",\n",
    "):\n",
    "    \"\"\"\n",
    "    Run an MLFlow experiment on a FiftyOne sample collection using the provided model and training function.\n",
    "\n",
    "    Args:\n",
    "    - sample_collection: A FiftyOne sample collection to use as the dataset for the experiment\n",
    "    - model: A model to train and log metrics for\n",
    "    - training_func: A function that trains the model and returns it\n",
    "    - experiment_name: The name of the MLflow experiment to create\n",
    "    - experiment_description: An optional description for the MLflow experiment\n",
    "    - apply_model_func: An optional function that applies the model to the sample collection\n",
    "    - add_predictions: Whether to add the model's predictions for the sample collection\n",
    "    \"\"\"\n",
    "\n",
    "    if not experiment_exists(experiment_name):\n",
    "        create_fiftyone_mlflow_experiment(\n",
    "            experiment_name, sample_collection, experiment_description\n",
    "        )\n",
    "\n",
    "    mlflow.set_experiment(experiment_name)\n",
    "    \n",
    "    # Train the model\n",
    "    with mlflow.start_run() as run:\n",
    "\n",
    "        log_mlflow_run_to_fiftyone_dataset(sample_collection, experiment_name, run_id=run.info.run_id)\n",
    "        \n",
    "        if sample_collection._dataset != sample_collection:\n",
    "            ## log the serialized `DatasetView`\n",
    "            mlflow.log_param(\"dataset_view\", serialize_view(sample_collection))\n",
    "\n",
    "\n",
    "        # Change to your own custom hyperparameter yaml or pass individual values into the training function below\n",
    "        hyp_path = 'yolov9_mlflow/data/hyps/hyp.scratch-high.yaml'\n",
    "\n",
    "        hyp = load_yaml_file('yolov9_mlflow/data/hyps/hyp.scratch-high.yaml')\n",
    "\n",
    "        mlflow.log_params(hyp)\n",
    "\n",
    "        print(experiment_name)\n",
    "\n",
    "        # Start training\n",
    "        training_func(mlflow,\n",
    "                  data=\"./VisDrone_curated/dataset.yaml\",\n",
    "                  hyp=hyp_path,\n",
    "                  imgsz=640,\n",
    "                  weights=\"yolov9_mlflow/weights/yolov9-c.pt\",\n",
    "                  cfg=\"yolov9_mlflow/models/detect/yolov9-c.yaml\",\n",
    "                  batch_size=4,\n",
    "                  epochs=25,\n",
    "                  name=experiment_name,\n",
    "                  exist_ok=False)\n",
    "\n",
    "\n",
    "                         \n",
    "        mlflow.log_artifact(\"yolov9_mlflow4/runs/train/\"+experiment_name+\"/weights/best.pt\")\n",
    "        mlflow.log_artifact(\"yolov9_mlflow4/runs/train/\"+experiment_name+\"/hyp.yaml\")\n",
    "        mlflow.log_artifact(\"yolov9_mlflow4/runs/train/\"+experiment_name+\"/opt.yaml\")\n",
    "\n",
    "        \n",
    "\n",
    "        \n",
    "\n"
   ]
  },
  {
   "cell_type": "markdown",
   "metadata": {},
   "source": [
    "<span style=\"color: #212529; font-weight: 500;font-size: 20px;\">To begin, we pass in our dataset or view, our training function, and the name of the experiment </span>"
   ]
  },
  {
   "cell_type": "code",
   "execution_count": null,
   "metadata": {},
   "outputs": [],
   "source": [
    "import yolov9_mlflow.fo_mlflow_train as train\n",
    "\n",
    "run_fiftyone_mlflow_experiment(dataset,\n",
    "                               train.run,\n",
    "                               \"mlflow_fiftyone\",\n",
    "                              )"
   ]
  },
  {
   "cell_type": "markdown",
   "metadata": {},
   "source": [
    "<span style=\"color: #212529; font-weight: 500;font-size: 20px;\">During our run, we can monitor its status in the FiftyOne App through the MLFlow panel: </span>"
   ]
  },
  {
   "cell_type": "markdown",
   "metadata": {},
   "source": [
    "<img src=\"./assets/mlflow.gif\" alt=\"MLFLow Monitoring\">"
   ]
  },
  {
   "cell_type": "markdown",
   "metadata": {},
   "source": [
    "## <span style=\"color: #A6a7a9; font-weight: 500;font-size: 30px;\">Adding Predictions to Our Dataset</span>"
   ]
  },
  {
   "cell_type": "markdown",
   "metadata": {},
   "source": [
    "### <span style=\"color: #212529; font-weight: 500;font-size: 20px;\">We define a `scale_bounding_boxes` helper function below:</span>"
   ]
  },
  {
   "cell_type": "code",
   "execution_count": 5,
   "metadata": {},
   "outputs": [],
   "source": [
    "def scale_bounding_boxes(bounding_boxes, from_shape, to_shape):\n",
    "    \"\"\"\n",
    "    Scale bounding boxes from one image shape to another.\n",
    "\n",
    "    Parameters:\n",
    "    - bounding_boxes: A list of bounding boxes where each bounding box is represented as [x1, y1, x2, y2].\n",
    "    - from_shape: The original shape of the image (height, width).\n",
    "    - to_shape: The target shape of the image (height, width).\n",
    "\n",
    "    Returns:\n",
    "    - scaled_bounding_boxes: A list of scaled bounding boxes in the new image shape.\n",
    "    \"\"\"\n",
    "\n",
    "    # Unpack the shapes\n",
    "    from_height, from_width = from_shape\n",
    "    to_height, to_width = to_shape\n",
    "\n",
    "    # Calculate scaling factors\n",
    "    scale_x = to_width / from_width\n",
    "    scale_y = to_height / from_height\n",
    "\n",
    "    # Scale each bounding box\n",
    "    scaled_bounding_boxes = []\n",
    "    for bbox in bounding_boxes:\n",
    "        x1, y1, x2, y2 = bbox\n",
    "        scaled_x1 = int(x1 * scale_x) / to_width\n",
    "        scaled_y1 = int(y1 * scale_y) / to_height\n",
    "        scaled_w = int(x2 * scale_x)  / to_width - scaled_x1\n",
    "        scaled_h = int(y2 * scale_y)  / to_height - scaled_y1\n",
    "        scaled_bounding_boxes.append([scaled_x1, scaled_y1, scaled_w, scaled_h])\n",
    "\n",
    "    return scaled_bounding_boxes\n"
   ]
  },
  {
   "cell_type": "markdown",
   "metadata": {},
   "source": [
    "### <span style=\"color: #212529; font-weight: 500;font-size: 20px;\">To begin adding predictions to our dataset, we load in our model with the code below:</span>"
   ]
  },
  {
   "cell_type": "code",
   "execution_count": 12,
   "metadata": {},
   "outputs": [
    {
     "name": "stderr",
     "output_type": "stream",
     "text": [
      "Fusing layers... \n",
      "yolov9-c summary: 604 layers, 50723688 parameters, 0 gradients, 236.8 GFLOPs\n"
     ]
    }
   ],
   "source": [
    "from yolov9_mlflow.models.common import DetectMultiBackend\n",
    "import torch\n",
    "\n",
    "model = DetectMultiBackend(\"./yolov9_mlflow/runs/train/mlflow_fiftyone4/weights/best.pt\", device=torch.device(\"cuda:0\"), dnn=False, data=\"./VisDrone_YOLO/dataset.yaml\", fp16=False)"
   ]
  },
  {
   "cell_type": "markdown",
   "metadata": {},
   "source": [
    "### <span style=\"color: #212529; font-weight: 500;font-size: 20px;\">Define the class map if you haven't already</span>"
   ]
  },
  {
   "cell_type": "code",
   "execution_count": 13,
   "metadata": {},
   "outputs": [],
   "source": [
    "class_map = {0:\"ignore_regions\",\n",
    "             1:\"pedestrians\",\n",
    "             2:\"people\",\n",
    "             3:\"bicycle\",\n",
    "             4:\"car\",\n",
    "             5:\"van\",\n",
    "             6:\"truck\",\n",
    "             7:\"tricycle\",\n",
    "             8:\"awning_tricycle\",\n",
    "             9:\"bus\",\n",
    "             10:\"motor\",\n",
    "             11:\"others\",\n",
    "}\n"
   ]
  },
  {
   "cell_type": "markdown",
   "metadata": {},
   "source": [
    "### <span style=\"color: #212529; font-weight: 500;font-size: 20px;\">Below, we create a loop over our dataset where our model will inference each sample. We then take each prediction and perform NMS. Afterwards, they are added to a new label field on our dataset.</span>"
   ]
  },
  {
   "cell_type": "code",
   "execution_count": 14,
   "metadata": {},
   "outputs": [],
   "source": [
    "from PIL import Image\n",
    "import numpy as np\n",
    "import torch.nn.functional as TF\n",
    "from yolov9_mlflow.yolo_utils.general import non_max_suppression\n",
    "\n",
    "# Loop over every sample\n",
    "for sample in dataset:\n",
    "\n",
    "    # Load the image and preprocess it\n",
    "    im = Image.open(sample.filepath)\n",
    "    im0 = np.transpose(np.array(im), (2,0,1))\n",
    "    im = torch.from_numpy(im0).to(model.device)\n",
    "    im = im.half() if model.fp16 else im.float()\n",
    "    im = TF.interpolate(im.unsqueeze(0), size=(640, 640), mode='bilinear', align_corners=False)\n",
    "    im /= 255\n",
    "\n",
    "    # Inference on the image\n",
    "    pred = model(im, augment=False, visualize=False)\n",
    "\n",
    "    # Perform NMS on the predictions\n",
    "    conf_thres=0.25  # confidence threshold\n",
    "    iou_thres=0.45  # NMS IOU threshold\n",
    "    classes = None\n",
    "    agnostic_nms = False\n",
    "    max_det = 1000\n",
    "    \n",
    "    out_boxes = non_max_suppression(pred[0], conf_thres, iou_thres, classes, agnostic_nms, max_det=max_det)\n",
    "    out_boxes = out_boxes[0].cpu().numpy()\n",
    "\n",
    "    # Add our new boxes to our FiftyOne sample\n",
    "    if len(out_boxes) > 0:\n",
    "        boxes = out_boxes[:,:4]\n",
    "    \n",
    "        \n",
    "        reformed_boxes = scale_bounding_boxes(boxes,tuple(im.shape[2:]),  im0.shape[1:])\n",
    "    \n",
    "        final_boxes = np.concatenate((reformed_boxes, out_boxes[:,4:]), axis=1)\n",
    "    \n",
    "        detections = []\n",
    "        for box in final_boxes:\n",
    "            det = fo.Detection(\n",
    "                    label=class_map[box[5]],\n",
    "                    bounding_box=[box[0],box[1],box[2],box[3]],\n",
    "                    confidence=box[4],\n",
    "            )\n",
    "            detections.append(det)\n",
    "        sample[\"predictions\"] = fo.Detections(detections=detections)\n",
    "        sample.save()\n"
   ]
  },
  {
   "cell_type": "markdown",
   "metadata": {},
   "source": [
    "### <span style=\"color: #212529; font-weight: 500;font-size: 20px;\">Finally, let's view our dataset again!</span>"
   ]
  },
  {
   "cell_type": "code",
   "execution_count": null,
   "metadata": {},
   "outputs": [],
   "source": [
    "session.dataset = dataset"
   ]
  },
  {
   "cell_type": "markdown",
   "metadata": {},
   "source": [
    "## <span style=\"color: #A6a7a9; font-weight: 500;font-size: 30px;\">Evaluating Our Models</span>"
   ]
  },
  {
   "cell_type": "markdown",
   "metadata": {},
   "source": [
    "### <span style=\"color: #212529; font-weight: 500;font-size: 20px;\">We can use `evaluate_detections` and calculate the mAP of our model. We also add metadata to our sample detections such if they were a false potive or a true positive!</span>"
   ]
  },
  {
   "cell_type": "code",
   "execution_count": 17,
   "metadata": {},
   "outputs": [
    {
     "name": "stdout",
     "output_type": "stream",
     "text": [
      "Evaluating detections...\n",
      " 100% |███████████████| 6471/6471 [20.0m elapsed, 0s remaining, 6.6 samples/s]      \n",
      "Performing IoU sweep...\n",
      " 100% |███████████████| 6471/6471 [6.8m elapsed, 0s remaining, 14.2 samples/s]      \n"
     ]
    }
   ],
   "source": [
    "results = dataset.evaluate_detections(pred_field=\"Model 2\", gt_field=\"ground_truth\", eval_key=\"eval2\", compute_mAP=True)"
   ]
  },
  {
   "cell_type": "markdown",
   "metadata": {},
   "source": [
    "### <span style=\"color: #212529; font-weight: 500;font-size: 20px;\">We can repeat the workflow of adding predictions and evaluating for any number of models on our dataset! You can even compare predicitions from one model to another using the <a href=https://github.com/allenleetc/model-comparison>model comparision</a> plugin!</span>"
   ]
  },
  {
   "cell_type": "markdown",
   "metadata": {},
   "source": [
    "<img src=\"./assets/model_compare_input.gif\" alt=\"Model Compare Input\">"
   ]
  },
  {
   "cell_type": "markdown",
   "metadata": {},
   "source": [
    "### <span style=\"color: #212529; font-weight: 500;font-size: 20px;\">We can choose from a variety of options to see exactly where your two models differ. Forget searching across hundreds of thousands of detection, the model comparision plugin will bring only the samples of interest right in front of you! </span>"
   ]
  },
  {
   "cell_type": "markdown",
   "metadata": {},
   "source": [
    "<img src=\"./assets/model_compare_out.gif\" alt=\"Model Compare Input\">"
   ]
  },
  {
   "cell_type": "markdown",
   "metadata": {},
   "source": [
    "### <span style=\"color: #212529; font-weight: 500;font-size: 20px;\">A trained model can also help use during data curation! One of the most common ways is to check your high confidence false postives. This is where you are most likely to find annotation mistakes in your data!</span>"
   ]
  },
  {
   "cell_type": "markdown",
   "metadata": {},
   "source": [
    "<img src=\"./assets/high_cf_fp.gif\" alt=\"High Conf False Positives\">"
   ]
  }
 ],
 "metadata": {
  "kernelspec": {
   "display_name": "Python 3 (ipykernel)",
   "language": "python",
   "name": "python3"
  },
  "language_info": {
   "codemirror_mode": {
    "name": "ipython",
    "version": 3
   },
   "file_extension": ".py",
   "mimetype": "text/x-python",
   "name": "python",
   "nbconvert_exporter": "python",
   "pygments_lexer": "ipython3",
   "version": "3.9.18"
  }
 },
 "nbformat": 4,
 "nbformat_minor": 4
}
